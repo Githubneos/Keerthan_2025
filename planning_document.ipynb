{
 "cells": [
  {
   "cell_type": "markdown",
   "metadata": {},
   "source": [
    "# Planning Document\n",
    "\n",
    "## Attempted Tasks\n",
    "\n",
    "I played around many different hacks in github pages such as, chnaging the theme as well as adding images and links.\n",
    "\n",
    "## Accomplishments\n",
    "I managed to change my github pages webiste's theme as well as being able to add images and links.\n",
    "\n",
    "## Challenges\n",
    "Adding a comment section in my blog for direct feedback was proving to troublesome as well as learning the SASS basics.\n"
   ]
  }
 ],
 "metadata": {
  "kernelspec": {
   "display_name": "venv",
   "language": "python",
   "name": "python3"
  },
  "language_info": {
   "name": "python",
   "version": "3.12.5"
  }
 },
 "nbformat": 4,
 "nbformat_minor": 2
}
