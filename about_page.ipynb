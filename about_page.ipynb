{
 "cells": [
  {
   "cell_type": "markdown",
   "metadata": {},
   "source": [
    "\n",
    "### About Page Notebook \n",
    "\n",
    "# About This Project\n",
    "\n",
    "This project is about getting the different tools avaliable to us. We learned how to modify the front end of a website by changing the theme and adding links and images\n",
    "\n",
    "## Team\n",
    "\n",
    "- Keerthan\n",
    "- Alex\n",
    "- Daksha\n"
   ]
  },
  {
   "cell_type": "code",
   "execution_count": null,
   "metadata": {},
   "outputs": [],
   "source": []
  }
 ],
 "metadata": {
  "language_info": {
   "name": "python"
  }
 },
 "nbformat": 4,
 "nbformat_minor": 2
}
