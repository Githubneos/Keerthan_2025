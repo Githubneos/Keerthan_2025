{
 "cells": [
  {
   "cell_type": "code",
   "execution_count": 4,
   "metadata": {},
   "outputs": [
    {
     "ename": "SyntaxError",
     "evalue": "invalid character '←' (U+2190) (2763921666.py, line 2)",
     "output_type": "error",
     "traceback": [
      "\u001b[0;36m  Cell \u001b[0;32mIn[4], line 2\u001b[0;36m\u001b[0m\n\u001b[0;31m    nums ← 1 to 100\u001b[0m\n\u001b[0m         ^\u001b[0m\n\u001b[0;31mSyntaxError\u001b[0m\u001b[0;31m:\u001b[0m invalid character '←' (U+2190)\n"
     ]
    }
   ],
   "source": [
    "\n",
    "### Pseudocode\n",
    "    nums ← 1 to 100\n",
    "odd_sum ← 0\n",
    "\n",
    "FOR EACH score IN nums\n",
    "    IF score MOD 2 ≠ 0 THEN\n",
    "        odd_sum ← odd_sum + score\n",
    "    END IF\n",
    "END FOR\n",
    "\n",
    "DISPLAY (\"Sum of odd numbers in the list:\", odd_sum)\n",
    "\n",
    "### now in python\n",
    "nums = range(1, 101)  # This creates a range of numbers from 1 to 100\n",
    "odd_sum = 0\n",
    "\n",
    "for score in nums:\n",
    "    if score % 2 != 0:\n",
    "        odd_sum += score\n",
    "\n",
    "print(\"Sum of odd numbers in the list:\", odd_sum)"
   ]
  }
 ],
 "metadata": {
  "kernelspec": {
   "display_name": "venv",
   "language": "python",
   "name": "python3"
  },
  "language_info": {
   "codemirror_mode": {
    "name": "ipython",
    "version": 3
   },
   "file_extension": ".py",
   "mimetype": "text/x-python",
   "name": "python",
   "nbconvert_exporter": "python",
   "pygments_lexer": "ipython3",
   "version": "3.12.6"
  }
 },
 "nbformat": 4,
 "nbformat_minor": 2
}
