{
 "cells": [
  {
   "cell_type": "markdown",
   "metadata": {},
   "source": [
    "# Deployment Blog"
   ]
  },
  {
   "cell_type": "markdown",
   "metadata": {},
   "source": [
    "## Deployment Prerequisites"
   ]
  },
  {
   "cell_type": "markdown",
   "metadata": {},
   "source": [
    "- Create burndown List\n",
    "Issue: https://github.com/Githubneos/scribble_frontend/issues/21\n",
    "\n",
    "- Prepare Config files for deployment:\n",
    "    - main.py: 8087 to 8203"
   ]
  },
  {
   "cell_type": "code",
   "execution_count": null,
   "metadata": {},
   "outputs": [],
   "source": [
    "if __name__ == \"__main__\":\n",
    "    init_db()\n",
    "    app.run(debug=True, host=\"0.0.0.0\", port=\"8203\")"
   ]
  },
  {
   "cell_type": "markdown",
   "metadata": {},
   "source": [
    "    - Dockerfile \n",
    "    "
   ]
  },
  {
   "cell_type": "code",
   "execution_count": null,
   "metadata": {},
   "outputs": [],
   "source": [
    "FROM docker.io/python:3.11\n",
    "\n",
    "  WORKDIR /\n",
    "\n",
    "  # --- [Install python and pip] ---\n",
    "  RUN apt-get update && apt-get upgrade -y && \\\n",
    "      apt-get install -y python3 python3-pip git\n",
    "  COPY . /\n",
    "\n",
    "  RUN pip install --no-cache-dir -r requirements.txt\n",
    "  RUN pip install gunicorn\n",
    "\n",
    "  ENV GUNICORN_CMD_ARGS=\"--workers=1 --bind=0.0.0.0:8203\"\n",
    "\n",
    "  EXPOSE 8209\n",
    "\n",
    "  # Define environment variable\n",
    "  ENV FLASK_ENV=deployment\n",
    "\n",
    "  CMD [ \"gunicorn\", \"main:app\" ]"
   ]
  },
  {
   "cell_type": "markdown",
   "metadata": {},
   "source": [
    "    - docker-compose.yml"
   ]
  },
  {
   "cell_type": "code",
   "execution_count": null,
   "metadata": {},
   "outputs": [],
   "source": [
    "version: '3'\n",
    "services:\n",
    "         web:\n",
    "                 image: scribble_2025\n",
    "                 build: .\n",
    "                 env_file:\n",
    "                         - .env\n",
    "                 ports:\n",
    "                         - \"8203:8203\"\n",
    "                volumes:\n",
    "                         - ./instance:/instance\n",
    "                restart: unless-stopped"
   ]
  },
  {
   "cell_type": "markdown",
   "metadata": {},
   "source": [
    "    - nginx file"
   ]
  },
  {
   "cell_type": "code",
   "execution_count": null,
   "metadata": {},
   "outputs": [],
   "source": [
    "  server {\n",
    "      listen 80;\n",
    "      listen [::]:80;\n",
    "      server_name scribble.stu.nighthawkcodingsociety.com;\n",
    "\n",
    "      location / {\n",
    "          proxy_pass http://localhost:8203;\n",
    "\n",
    "          # Preflighted requests\n",
    "          if ($request_method = OPTIONS) {\n",
    "              add_header \"Access-Control-Allow-Credentials\" \"true\" always;\n",
    "              add_header \"Access-Control-Allow-Origin\"  \"https://Githubneos.github.io\" always;\n",
    "              add_header \"Access-Control-Allow-Methods\" \"GET, POST, PUT, DELETE, OPTIONS, HEAD\" always;\n",
    "              add_header \"Access-Control-Allow-MaxAge\" 600 always;\n",
    "              add_header \"Access-Control-Allow-Headers\" \"Authorization, Origin, X-Origin, X-Requested-With, Content-Type, Accept\" always;\n",
    "              return 204;\n",
    "          }\n",
    "      }\n",
    "  }\n"
   ]
  },
  {
   "cell_type": "markdown",
   "metadata": {},
   "source": [
    "## Deployment Process"
   ]
  },
  {
   "cell_type": "markdown",
   "metadata": {},
   "source": [
    "### Create DNS record"
   ]
  },
  {
   "cell_type": "markdown",
   "metadata": {},
   "source": [
    "    - To create a DNS record, you first have to log into [AWS](https://aws.amazon.com/ec2/)\n",
    "\n",
    "    - Account Details:\n",
    "        - Account ID: nighthawkcodingsociety\n",
    "        - IAM username: ubuntu\n",
    "        - Password:  Ubuntu14*&*41\n",
    "\n",
    "\n",
    "    - Once signed in, you should click the button on the home page titled **Route 53**\n",
    "\n",
    "    - The next step (when on the Route 53 page) is to press the **Hosted zones** section on the column to the left.\n",
    "\n",
    "    - Here, click on the hosted zone called stu.nighthawkcodingsociety.com\n",
    "\n",
    "    - We have made it to the page where we can create a DNS record. Click the button that says Create record\n",
    "\n",
    "    - When creating a record you need to put in some information. Here is the following information that should be inputted:\n",
    "        \n",
    "        - Record name: name of your project (ex: cantella)\n",
    "    - Record type: A - Routes traffic to an IPv4 address and some AWS resources\n",
    "    - Value: 3.129.109.200\n",
    "    - TTL (seconds): 300\n",
    "    - Routing policy: Simple routing\n",
    "\n",
    "    - Once all categories have been filled, click the Create record button on the bottom right.\n",
    "\n",
    "    - If successful, you should receive a notification that a new record was successfully created\n",
    "\n",
    "After this has been completed, you will have successfully created a DNS record."
   ]
  },
  {
   "cell_type": "markdown",
   "metadata": {},
   "source": [
    "### AWS Setup"
   ]
  },
  {
   "cell_type": "markdown",
   "metadata": {},
   "source": [
    "    - First, login into the [AWS Terminal](https://cockpit.stu.nighthawkcodingsociety.com/system/terminal)\n",
    "\n",
    "    - Now run the following commands:\n",
    "        1. Change into the correct directory: cd ~\n",
    "        2. Clone your backend repo: git clone https://github.com/Githubneos/scribble_backend.git\n",
    "        3. Navigate into your repo: cd scribble_backend\n",
    "        4. Build the site: docker-compose up -d --build\n",
    "        5. Test your site: curl localhost:8203"
   ]
  },
  {
   "cell_type": "markdown",
   "metadata": {},
   "source": [
    "### Nginx Setup"
   ]
  },
  {
   "cell_type": "markdown",
   "metadata": {},
   "source": [
    "1. Change into the correct directory: cd ~\n",
    "2. Navigate into your repo: cd scribble_backend\n",
    "3. Copy paste your nginx file into /etc/nginx/sites-available: sudo cp scribble_nginx_file /etc/nginx/sites-available/.\n",
    "4. Change back into ~ directory: cd ~\n",
    "5. Navigate to sites-enabled: cd /etc/nginx/sites-enabled\n",
    "6. Create a symbolic link (shortcut) to the nginx file in sites-available: sudo ln -s ../sites-available/scribble_nginx_file\n",
    "7. Test to see if there is any syntax errors: sudo nginx -t\n",
    "8. Restart nginx: sudo systemctl restart nginx\n",
    "9. Test domain name on a browser (http:// only)"
   ]
  },
  {
   "cell_type": "markdown",
   "metadata": {},
   "source": [
    "### ### (4) Certbot Config"
   ]
  },
  {
   "cell_type": "markdown",
   "metadata": {},
   "source": [
    "1. Run sudo certbot --nginx"
   ]
  }
 ],
 "metadata": {
  "language_info": {
   "name": "python"
  }
 },
 "nbformat": 4,
 "nbformat_minor": 2
}
