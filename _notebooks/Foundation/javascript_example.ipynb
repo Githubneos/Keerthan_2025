{
 "cells": [
  {
   "cell_type": "code",
   "execution_count": null,
   "metadata": {},
   "outputs": [],
   "source": [
    "# JavaScript Example Notebook\n",
    "\n",
    "This notebook demonstrates running JavaScript within a Jupyter Notebook.\n",
    "\n",
    "python\n",
    "\n",
    "console.log(\"Hello from JavaScript!\");\n",
    "alert(\"This is an alert from JavaScript!\");\n"
   ]
  }
 ],
 "metadata": {
  "language_info": {
   "name": "python"
  }
 },
 "nbformat": 4,
 "nbformat_minor": 2
}
