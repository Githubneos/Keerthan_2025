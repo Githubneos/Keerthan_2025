{
 "cells": [
  {
   "cell_type": "code",
   "execution_count": null,
   "metadata": {},
   "outputs": [],
   "source": [
    "# JavaScript Example Notebook\n",
    "\n",
    "This notebook demonstrates running JavaScript within a Jupyter Notebook.\n",
    "\n",
    "python\n",
    "\n",
    "console.log(\"Hello from JavaScript!\");\n",
    "alert(\"This is an alert from JavaScript!\");\n"
   ]
  }
 ],
 "metadata": {
  "kernelspec": {
   "display_name": "venv",
   "language": "python",
   "name": "python3"
  },
  "language_info": {
   "name": "python",
   "version": "3.12.5"
  }
 },
 "nbformat": 4,
 "nbformat_minor": 2
}
