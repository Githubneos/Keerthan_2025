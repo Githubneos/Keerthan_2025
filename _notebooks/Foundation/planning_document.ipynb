{
 "cells": [
  {
   "cell_type": "markdown",
   "metadata": {},
   "source": [
    "# Planning Document\n",
    "\n",
    "## Attempted Tasks\n",
    "Laptop Verification or Cloud Workspace\t\n",
    "VSCode\tlive change code, commit, make, run localhost, test, debug\n",
    "Show VSCode GitLens\tverify commits, show change, comments, reset to commit, run on old commit\n",
    "GitHub student_2025 repo template create, push changes, verify id, review analytics\n",
    "GitHub Pages Actions review runs and verify runtime, receive demo\n",
    "Hacks Tools & Equipment Play Hacks\n",
    "Hacks GitHub Pages Playground Hacks\n",
    "Hacks SASS Basics Hacks\n",
    "Hacks Frontend Hacks\n",
    "Pair Programming\t\n",
    "\n",
    "\n",
    "## Accomplishments\n",
    "Laptop Verification or Cloud Workspace\t\n",
    "VSCode\tlive change code, commit, make, run localhost, test, debug\n",
    "Show VSCode GitLens\tverify commits, show change, comments, reset to commit, run on old commit\n",
    "GitHub student_2025 repo template create, push changes, verify id, review analytics\n",
    "GitHub Pages Actions review runs and verify runtime, receive demo\n",
    "Hacks Tools & Equipment Play Hacks\n",
    "Hacks GitHub Pages Playground Hacks\n",
    "\n",
    "## Challenges\n",
    "Hacks SASS Basics Hacks\n",
    "Hacks Frontend Hacks\n",
    "Pair Programming\n"
   ]
  }
 ],
 "metadata": {
  "kernelspec": {
   "display_name": "venv",
   "language": "python",
   "name": "python3"
  },
  "language_info": {
   "codemirror_mode": {
    "name": "ipython",
    "version": 3
   },
   "file_extension": ".py",
   "mimetype": "text/x-python",
   "name": "python",
   "nbconvert_exporter": "python",
   "pygments_lexer": "ipython3",
   "version": "3.12.5"
  }
 },
 "nbformat": 4,
 "nbformat_minor": 2
}
