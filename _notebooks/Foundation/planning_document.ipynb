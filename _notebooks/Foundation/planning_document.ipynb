{
 "cells": [
  {
   "cell_type": "code",
   "execution_count": null,
   "metadata": {},
   "outputs": [],
   "source": [
    "# Planning Document\n",
    "\n",
    "## Planned Tasks\n",
    "\n",
    "1. Create a submenu for the GitHub Pages site.\n",
    "2. Link to various Jupyter Notebooks.\n",
    "3. Demonstrate JavaScript execution within a notebook.\n",
    "4. Provide an \"About\" page.\n",
    "\n",
    "## Accomplishments\n",
    "\n",
    "1. Submenu created using Markdown.\n",
    "2. Linked Jupyter Notebooks from the `index.md` file.\n",
    "3. Successfully ran JavaScript code in a Jupyter Notebook.\n",
    "4. Created an \"About\" page in notebook format.\n"
   ]
  }
 ],
 "metadata": {
  "language_info": {
   "name": "python"
  }
 },
 "nbformat": 4,
 "nbformat_minor": 2
}
