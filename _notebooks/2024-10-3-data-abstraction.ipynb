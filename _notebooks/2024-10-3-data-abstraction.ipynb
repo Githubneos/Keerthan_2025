{
 "cells": [
  {
   "cell_type": "markdown",
   "metadata": {},
   "source": [
    "## Popcorn hacks"
   ]
  },
  {
   "cell_type": "code",
   "execution_count": 6,
   "metadata": {},
   "outputs": [
    {
     "ename": "ValueError",
     "evalue": "invalid literal for int() with base 10: '/'",
     "output_type": "error",
     "traceback": [
      "\u001b[0;31m---------------------------------------------------------------------------\u001b[0m",
      "\u001b[0;31mValueError\u001b[0m                                Traceback (most recent call last)",
      "Cell \u001b[0;32mIn[6], line 3\u001b[0m\n\u001b[1;32m      1\u001b[0m firstNumber \u001b[38;5;241m=\u001b[39m \u001b[38;5;28mint\u001b[39m(\u001b[38;5;28minput\u001b[39m(\u001b[38;5;124m\"\u001b[39m\u001b[38;5;124mPlease Enter the First Number Here: \u001b[39m\u001b[38;5;124m\"\u001b[39m))\n\u001b[1;32m      2\u001b[0m secondNumber \u001b[38;5;241m=\u001b[39m \u001b[38;5;28mint\u001b[39m(\u001b[38;5;28minput\u001b[39m(\u001b[38;5;124m\"\u001b[39m\u001b[38;5;124mPlease Enter the Second Number Here: \u001b[39m\u001b[38;5;124m\"\u001b[39m))\n\u001b[0;32m----> 3\u001b[0m mathFunction \u001b[38;5;241m=\u001b[39m \u001b[38;5;28;43mint\u001b[39;49m\u001b[43m(\u001b[49m\u001b[38;5;28;43minput\u001b[39;49m\u001b[43m(\u001b[49m\u001b[38;5;124;43m\"\u001b[39;49m\u001b[38;5;124;43mPlease Enter the function here: \u001b[39;49m\u001b[38;5;124;43m\"\u001b[39;49m\u001b[43m)\u001b[49m\u001b[43m)\u001b[49m \u001b[38;5;66;03m#Ex: +, -, *, /\u001b[39;00m\n\u001b[1;32m      5\u001b[0m \u001b[38;5;28;01mif\u001b[39;00m mathFunction \u001b[38;5;241m==\u001b[39m \u001b[38;5;124m\"\u001b[39m\u001b[38;5;124m+\u001b[39m\u001b[38;5;124m\"\u001b[39m:\n\u001b[1;32m      6\u001b[0m     \u001b[38;5;28mprint\u001b[39m(firstNumber \u001b[38;5;241m+\u001b[39m secondNumber)\n",
      "\u001b[0;31mValueError\u001b[0m: invalid literal for int() with base 10: '/'"
     ]
    }
   ],
   "source": [
    "firstNumber = int(input(\"Please Enter the First Number Here: \"))\n",
    "secondNumber = int(input(\"Please Enter the Second Number Here: \"))\n",
    "mathFunction = int(input(\"Please Enter the function here: \")) #Ex: +, -, *, /\n",
    "\n",
    "if mathFunction == \"+\":\n",
    "    print(firstNumber + secondNumber)\n",
    "elif mathFunction == \"-\":\n",
    "    print(firstNumber - secondNumber)\n",
    "elif mathFunction == \"*\":\n",
    "    print(firstNumber * secondNumber)\n",
    "elif mathFunction == \"/\":\n",
    "    print(firstNumber / secondNumber)"
   ]
  },
  {
   "cell_type": "code",
   "execution_count": 5,
   "metadata": {},
   "outputs": [
    {
     "name": "stdout",
     "output_type": "stream",
     "text": [
      "True\n",
      "False\n",
      "True\n",
      "False\n"
     ]
    }
   ],
   "source": [
    "def sets_have_common_elements(set1, set2):\n",
    "    for elem in set1:\n",
    "        if elem in set2:\n",
    "            return True\n",
    "    return False\n",
    "print(sets_have_common_elements({1, 2, 3}, {3, 4}))  # Output: True\n",
    "print(sets_have_common_elements({1, 2, 3}, {4, 5}))  # Output: False\n",
    "print(sets_have_common_elements({1, 2}, {2}))         # Output: False\n",
    "print(sets_have_common_elements({}, {}))             # Output: False"
   ]
  },
  {
   "cell_type": "code",
   "execution_count": 7,
   "metadata": {},
   "outputs": [
    {
     "name": "stdout",
     "output_type": "stream",
     "text": [
      "\n",
      "The whole dictionary is:\n",
      "{'banana': '1', 'apple': '2', 'pear': 3}\n",
      "\n",
      "The value of the key 'banana' is:\n",
      "1\n",
      "\n",
      "The value of the key 'apple' is:\n",
      "2\n",
      "\n",
      "The value of the key 'pear' is:\n",
      "3\n"
     ]
    }
   ],
   "source": [
    "mydictionary = {\n",
    "  #key : value\n",
    "  \"banana\": \"1\",\n",
    "  \"apple\": \"2\",\n",
    "  \"pear\": 3\n",
    "}\n",
    "\n",
    "# Dictionaries are abstractions because they allow for efficient storage and retrieval of key-value pairs without exposing the underlying workings\n",
    "\n",
    "print(\"\\nThe whole dictionary is:\")\n",
    "print(mydictionary)\n",
    "\n",
    "print(\"\\nThe value of the key 'banana' is:\")\n",
    "     #dictionaryname[key]\n",
    "print(mydictionary[\"banana\"])\n",
    "\n",
    "\n",
    "print(\"\\nThe value of the key 'apple' is:\")\n",
    "print(mydictionary[\"apple\"])\n",
    "\n",
    "print(\"\\nThe value of the key 'pear' is:\")\n",
    "print(mydictionary[\"pear\"])"
   ]
  },
  {
   "cell_type": "code",
   "execution_count": 1,
   "metadata": {},
   "outputs": [
    {
     "name": "stdout",
     "output_type": "stream",
     "text": [
      "3\n"
     ]
    }
   ],
   "source": [
    "bestDictionaryEver = {\"bananas\": 1, \"apples\": 2, \"pears\": 3}\n",
    "print(bestDictionaryEver[\"pears\"]) #any key will do\n",
    "    "
   ]
  },
  {
   "cell_type": "code",
   "execution_count": 2,
   "metadata": {},
   "outputs": [
    {
     "name": "stdout",
     "output_type": "stream",
     "text": [
      "['YourYourYour', 'JourneyJourneyJourney', 'beginsbeginsbegins', 'hereherehere']\n"
     ]
    }
   ],
   "source": [
    "def repeat_strings_in_list(strings, n): \n",
    "    result = [] # Creating array\n",
    "    for string in strings:\n",
    "        result.append(string * n)  # Repeating the string `n` times\n",
    "    return result\n",
    "\n",
    "string_list = [\"Your\", \"Journey\", \"begins\", \"here\"]\n",
    "print(repeat_strings_in_list(string_list, 3))"
   ]
  },
  {
   "cell_type": "markdown",
   "metadata": {},
   "source": [
    "## Homework Hack"
   ]
  },
  {
   "cell_type": "code",
   "execution_count": 3,
   "metadata": {},
   "outputs": [
    {
     "name": "stdout",
     "output_type": "stream",
     "text": [
      "['Reading', 'Gaming', 'Coding']\n",
      "{'name': 'John Doe', 'age': 17, 'city': 'New York', 'favorite_color': 'Blue', 'hobbies': ['Reading', 'Gaming', 'Coding']}\n",
      "Is Gaming available today? True\n",
      "I have 3 hobbies.\n",
      "('Reading', 'Gaming')\n",
      "{'Public Speaking', 'Python', 'Problem Solving'}\n",
      "None\n",
      "The total cost to pursue hobbies and develop skills is: $45.0\n"
     ]
    }
   ],
   "source": [
    "# Part 1: Profile Information\n",
    "profile = {\n",
    "    \"name\": \"Keerthan\",  # Replace with your actual name\n",
    "    \"age\": 16,           # Replace with your actual age\n",
    "    \"city\": \"San Diego\",  # Replace with your actual city\n",
    "    \"favorite_color\": \"Blue\"  # Replace with your favorite color\n",
    "}\n",
    "\n",
    "# Part 2: List of Hobbies\n",
    "hobbies = [\"Reading\", \"Gaming\", \"Coding\"]  # Replace with your hobbies\n",
    "print(hobbies)\n",
    "\n",
    "# Part 3: Add Hobbies to Profile\n",
    "profile[\"hobbies\"] = hobbies\n",
    "print(profile)\n",
    "\n",
    "# Part 4: Check Availability of a Hobby\n",
    "has_hobby = True  # Set to False if the hobby isn't available today\n",
    "print(f\"Is {hobbies[1]} available today? {has_hobby}\")\n",
    "\n",
    "# Part 5: Total Number of Hobbies\n",
    "total_hobbies = len(hobbies)\n",
    "print(f\"I have {total_hobbies} hobbies.\")\n",
    "\n",
    "# Part 6: Favorite Hobbies\n",
    "favorite_hobbies = (hobbies[0], hobbies[1])  # Replace with your two favorite hobbies\n",
    "print(favorite_hobbies)\n",
    "\n",
    "# Part 7: Add Skills to Profile\n",
    "skills = {\"Python\", \"Public Speaking\", \"Problem Solving\"}  # Replace with your skills\n",
    "print(skills)\n",
    "\n",
    "# Part 8: New Skill\n",
    "new_skill = None\n",
    "print(new_skill)\n",
    "\n",
    "# Part 9: Calculate Total Profile Cost\n",
    "cost_per_hobby = 5.0\n",
    "cost_per_skill = 10.0\n",
    "total_cost = (total_hobbies * cost_per_hobby) + (len(skills) * cost_per_skill)\n",
    "print(f\"The total cost to pursue hobbies and develop skills is: ${total_cost}\")"
   ]
  },
  {
   "cell_type": "code",
   "execution_count": 7,
   "metadata": {},
   "outputs": [
    {
     "data": {
      "application/javascript": "## Part 1: Profile Information\nlet profile = {\n    name: \"Keerthan\",         ## Replace with your actual name\n    age: 16,                  ## Replace with your actual age\n    city: \"San Diego\",         ## Replace with your actual city\n    favorite_color: \"Blue\"    ## Replace with your favorite color\n};\n\n## Part 2: List of Hobbies\nlet hobbies = [\"Reading\", \"Gaming\", \"Coding\"];  ## Replace with your hobbies\nconsole.log(hobbies);\n\n## Part 3: Add Hobbies to Profile\nprofile.hobbies = hobbies;\nconsole.log(profile);\n\n## Part 4: Check Availability of a Hobby\nlet has_hobby = true;  // Set to false if the hobby isnt available today\nconsole.log(`Is ${hobbies[1]} available today? ${has_hobby}`);\n\n## Part 5: Total Number of Hobbies\nlet total_hobbies = hobbies.length;\nconsole.log(`I have ${total_hobbies} hobbies.`);\n\n## Part 6: Favorite Hobbies\nlet favorite_hobbies = [hobbies[0], hobbies[1]];  ## Replace with your two favorite hobbies\nconsole.log(favorite_hobbies);\n\n## Part 7: Add Skills to Profile\nlet skills = new Set([\"Python\", \"Public Speaking\", \"Problem Solving\"]);  ## Replace with your skills\nconsole.log(skills);\n\n## Part 8: New Skill\nlet new_skill = null;\nconsole.log(new_skill);\n\n## Part 9: Calculate Total Profile Cost\nlet cost_per_hobby = 5.0;\nlet cost_per_skill = 10.0;\nlet total_cost = (total_hobbies * cost_per_hobby) + (skills.size * cost_per_skill);\nconsole.log(`The total cost to pursue hobbies and develop skills is: $${total_cost}`);\n",
      "text/plain": [
       "<IPython.core.display.Javascript object>"
      ]
     },
     "metadata": {},
     "output_type": "display_data"
    }
   ],
   "source": [
    "%%js\n",
    "## Part 1: Profile Information\n",
    "let profile = {\n",
    "    name: \"Keerthan\",         ## Replace with your actual name\n",
    "    age: 16,                  ## Replace with your actual age\n",
    "    city: \"San Diego\",         ## Replace with your actual city\n",
    "    favorite_color: \"Blue\"    ## Replace with your favorite color\n",
    "};\n",
    "\n",
    "## Part 2: List of Hobbies\n",
    "let hobbies = [\"Reading\", \"Gaming\", \"Coding\"];  ## Replace with your hobbies\n",
    "console.log(hobbies);\n",
    "\n",
    "## Part 3: Add Hobbies to Profile\n",
    "profile.hobbies = hobbies;\n",
    "console.log(profile);\n",
    "\n",
    "## Part 4: Check Availability of a Hobby\n",
    "let has_hobby = true;  // Set to false if the hobby isnt available today\n",
    "console.log(`Is ${hobbies[1]} available today? ${has_hobby}`);\n",
    "\n",
    "## Part 5: Total Number of Hobbies\n",
    "let total_hobbies = hobbies.length;\n",
    "console.log(`I have ${total_hobbies} hobbies.`);\n",
    "\n",
    "## Part 6: Favorite Hobbies\n",
    "let favorite_hobbies = [hobbies[0], hobbies[1]];  ## Replace with your two favorite hobbies\n",
    "console.log(favorite_hobbies);\n",
    "\n",
    "## Part 7: Add Skills to Profile\n",
    "let skills = new Set([\"Python\", \"Public Speaking\", \"Problem Solving\"]);  ## Replace with your skills\n",
    "console.log(skills);\n",
    "\n",
    "## Part 8: New Skill\n",
    "let new_skill = null;\n",
    "console.log(new_skill);\n",
    "\n",
    "## Part 9: Calculate Total Profile Cost\n",
    "let cost_per_hobby = 5.0;\n",
    "let cost_per_skill = 10.0;\n",
    "let total_cost = (total_hobbies * cost_per_hobby) + (skills.size * cost_per_skill);\n",
    "console.log(`The total cost to pursue hobbies and develop skills is: $${total_cost}`);"
   ]
  }
 ],
 "metadata": {
  "kernelspec": {
   "display_name": "venv",
   "language": "python",
   "name": "python3"
  },
  "language_info": {
   "codemirror_mode": {
    "name": "ipython",
    "version": 3
   },
   "file_extension": ".py",
   "mimetype": "text/x-python",
   "name": "python",
   "nbconvert_exporter": "python",
   "pygments_lexer": "ipython3",
   "version": "3.12.6"
  }
 },
 "nbformat": 4,
 "nbformat_minor": 2
}
