{
 "cells": [
  {
   "cell_type": "code",
   "execution_count": null,
   "metadata": {},
   "outputs": [],
   "source": [
    "from IPython.display import Image, display,HTML\n",
    "\n",
    "celtics_image = \"celtics.jpg\"   # Path to the Celtics image\n",
    "warriors_image = \"warriors.jpg\" # Path to the Warriors image\n",
    "\n",
    "HTML(f\"\"\"\n",
    "    <div style=\"display: flex; align-items: center;\">\n",
    "        <img src=\"{celtics_image}\" alt=\"Celtics\" style=\"width:200px; margin-right: 20px;\">\n",
    "        <img src=\"{warriors_image}\" alt=\"Warriors\" style=\"width:200px;\">\n",
    "    </div>\n",
    "\"\"\")\n"
   ]
  }
 ],
 "metadata": {
  "language_info": {
   "name": "python"
  }
 },
 "nbformat": 4,
 "nbformat_minor": 2
}
