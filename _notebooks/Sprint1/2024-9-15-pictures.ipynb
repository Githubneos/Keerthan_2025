{
 "cells": [
  {
   "cell_type": "code",
   "execution_count": 2,
   "metadata": {},
   "outputs": [
    {
     "ename": "NameError",
     "evalue": "name 'https' is not defined",
     "output_type": "error",
     "traceback": [
      "\u001b[0;31m---------------------------------------------------------------------------\u001b[0m",
      "\u001b[0;31mNameError\u001b[0m                                 Traceback (most recent call last)",
      "Cell \u001b[0;32mIn[2], line 8\u001b[0m\n\u001b[1;32m      3\u001b[0m celtics_image \u001b[38;5;241m=\u001b[39m \u001b[38;5;124m\"\u001b[39m\u001b[38;5;124mceltics.jpg\u001b[39m\u001b[38;5;124m\"\u001b[39m   \u001b[38;5;66;03m# Path to the Celtics image\u001b[39;00m\n\u001b[1;32m      4\u001b[0m warriors_image \u001b[38;5;241m=\u001b[39m \u001b[38;5;124m\"\u001b[39m\u001b[38;5;124mwarriors.jpg\u001b[39m\u001b[38;5;124m\"\u001b[39m \u001b[38;5;66;03m# Path to the Warriors image\u001b[39;00m\n\u001b[1;32m      6\u001b[0m HTML(\u001b[38;5;124mf\u001b[39m\u001b[38;5;124m\"\"\"\u001b[39m\n\u001b[1;32m      7\u001b[0m \u001b[38;5;124m    <div style=\u001b[39m\u001b[38;5;124m\"\u001b[39m\u001b[38;5;124mdisplay: flex; align-items: center;\u001b[39m\u001b[38;5;124m\"\u001b[39m\u001b[38;5;124m>\u001b[39m\n\u001b[0;32m----> 8\u001b[0m \u001b[38;5;124m        <img src=\u001b[39m\u001b[38;5;124m\"\u001b[39m\u001b[38;5;132;01m{\u001b[39;00m\u001b[43mhttps\u001b[49m\u001b[38;5;132;01m:\u001b[39;00m\u001b[38;5;124m//en.wikipedia.org/wiki/File:Boston_Celtics.svg\u001b[39m\u001b[38;5;132;01m}\u001b[39;00m\u001b[38;5;124m\"\u001b[39m\u001b[38;5;124m alt=\u001b[39m\u001b[38;5;124m\"\u001b[39m\u001b[38;5;124mCeltics\u001b[39m\u001b[38;5;124m\"\u001b[39m\u001b[38;5;124m style=\u001b[39m\u001b[38;5;124m\"\u001b[39m\u001b[38;5;124mwidth:200px; margin-right: 20px;\u001b[39m\u001b[38;5;124m\"\u001b[39m\u001b[38;5;124m>\u001b[39m\n\u001b[1;32m      9\u001b[0m \u001b[38;5;124m        <img src=\u001b[39m\u001b[38;5;124m\"\u001b[39m\u001b[38;5;132;01m{\u001b[39;00mhttps\u001b[38;5;132;01m:\u001b[39;00m\u001b[38;5;124m//en.wikipedia.org/wiki/File:Golden_State_Warriors_logo.svg\u001b[39m\u001b[38;5;132;01m}\u001b[39;00m\u001b[38;5;124m\"\u001b[39m\u001b[38;5;124m alt=\u001b[39m\u001b[38;5;124m\"\u001b[39m\u001b[38;5;124mWarriors\u001b[39m\u001b[38;5;124m\"\u001b[39m\u001b[38;5;124m style=\u001b[39m\u001b[38;5;124m\"\u001b[39m\u001b[38;5;124mwidth:200px;\u001b[39m\u001b[38;5;124m\"\u001b[39m\u001b[38;5;124m>\u001b[39m\n\u001b[1;32m     10\u001b[0m \u001b[38;5;124m    </div>\u001b[39m\n\u001b[1;32m     11\u001b[0m \u001b[38;5;124m\"\"\"\u001b[39m)\n",
      "\u001b[0;31mNameError\u001b[0m: name 'https' is not defined"
     ]
    }
   ],
   "source": [
    "from IPython.display import Image, display,HTML\n",
    "\n",
    "celtics_image = \"celtics.jpg\"   # Path to the Celtics image\n",
    "warriors_image = \"warriors.jpg\" # Path to the Warriors image\n",
    "\n",
    "HTML(f\"\"\"\n",
    "    <div style=\"display: flex; align-items: center;\">\n",
    "        <img src=\"{https://en.wikipedia.org/wiki/File:Boston_Celtics.svg}\" alt=\"Celtics\" style=\"width:200px; margin-right: 20px;\">\n",
    "        <img src=\"{https://en.wikipedia.org/wiki/File:Golden_State_Warriors_logo.svg}\" alt=\"Warriors\" style=\"width:200px;\">\n",
    "    </div>\n",
    "\"\"\")\n"
   ]
  }
 ],
 "metadata": {
  "kernelspec": {
   "display_name": "venv",
   "language": "python",
   "name": "python3"
  },
  "language_info": {
   "codemirror_mode": {
    "name": "ipython",
    "version": 3
   },
   "file_extension": ".py",
   "mimetype": "text/x-python",
   "name": "python",
   "nbconvert_exporter": "python",
   "pygments_lexer": "ipython3",
   "version": "3.12.6"
  }
 },
 "nbformat": 4,
 "nbformat_minor": 2
}
