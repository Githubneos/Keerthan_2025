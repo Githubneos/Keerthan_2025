{
 "cells": [
  {
   "cell_type": "code",
   "execution_count": 1,
   "metadata": {},
   "outputs": [
    {
     "name": "stdout",
     "output_type": "stream",
     "text": [
      "😀\n",
      "🤣\n",
      "👍\n"
     ]
    }
   ],
   "source": [
    "import emoji\n",
    "\n",
    "# Print emojis by name\n",
    "print(emoji.emojize(\":grinning_face:\"))\n",
    "print(emoji.emojize(\":rolling_on_the_floor_laughing:\"))\n",
    "print(emoji.emojize(\":thumbs_up:\"))\n"
   ]
  }
 ],
 "metadata": {
  "kernelspec": {
   "display_name": "venv",
   "language": "python",
   "name": "python3"
  },
  "language_info": {
   "codemirror_mode": {
    "name": "ipython",
    "version": 3
   },
   "file_extension": ".py",
   "mimetype": "text/x-python",
   "name": "python",
   "nbconvert_exporter": "python",
   "pygments_lexer": "ipython3",
   "version": "3.12.6"
  }
 },
 "nbformat": 4,
 "nbformat_minor": 2
}
