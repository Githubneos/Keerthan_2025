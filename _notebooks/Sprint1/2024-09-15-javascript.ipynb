{
 "cells": [
  {
   "cell_type": "code",
   "execution_count": 2,
   "metadata": {
    "vscode": {
     "languageId": "javascript"
    }
   },
   "outputs": [
    {
     "data": {
      "application/javascript": "// JavaScript Cell: Random number generator and palindrome checker\n\n// Generate a random number between 1 and 100\nlet randomNumber = Math.floor(Math.random() * 100) + 1;\nconsole.log(\"Random Number: \" + randomNumber);\n\n// Palindrome checker function\nfunction isPalindrome(str) {\n    let cleanedStr = str.replace(/[^A-Za-z0-9]/g, '').toLowerCase();\n    let reversedStr = cleanedStr.split('').reverse().join('');\n    return cleanedStr === reversedStr;\n}\n\n// Test palindrome checker\nlet testString = \"A man a plan a canal Panama\";\nconsole.log(`Is \"${testString}\" a palindrome? ` + isPalindrome(testString));\n\n// Output the random number and the palindrome check result\ndocument.body.innerHTML = `<h3>Random Number: ${randomNumber}</h3>\n<h3>Palindrome Check: ${testString} is ${isPalindrome(testString) ? '' : 'not '}a palindrome.</h3>`;\n",
      "text/plain": [
       "<IPython.core.display.Javascript object>"
      ]
     },
     "metadata": {},
     "output_type": "display_data"
    }
   ],
   "source": [
    "%%javascript\n",
    "// JavaScript Cell: Random number generator and palindrome checker\n",
    "\n",
    "// Generate a random number between 1 and 100\n",
    "let randomNumber = Math.floor(Math.random() * 100) + 1;\n",
    "console.log(\"Random Number: \" + randomNumber);\n",
    "\n",
    "// Palindrome checker function\n",
    "function isPalindrome(str) {\n",
    "    let cleanedStr = str.replace(/[^A-Za-z0-9]/g, '').toLowerCase();\n",
    "    let reversedStr = cleanedStr.split('').reverse().join('');\n",
    "    return cleanedStr === reversedStr;\n",
    "}\n",
    "\n",
    "// Test palindrome checker\n",
    "let testString = \"A man a plan a canal Panama\";\n",
    "console.log(`Is \"${testString}\" a palindrome? ` + isPalindrome(testString));\n",
    "\n",
    "// Output the random number and the palindrome check result\n",
    "document.body.innerHTML = `<h3>Random Number: ${randomNumber}</h3>\n",
    "<h3>Palindrome Check: ${testString} is ${isPalindrome(testString) ? '' : 'not '}a palindrome.</h3>`;\n"
   ]
  }
 ],
 "metadata": {
  "kernelspec": {
   "display_name": "venv",
   "language": "python",
   "name": "python3"
  },
  "language_info": {
   "codemirror_mode": {
    "name": "ipython",
    "version": 3
   },
   "file_extension": ".py",
   "mimetype": "text/x-python",
   "name": "python",
   "nbconvert_exporter": "python",
   "pygments_lexer": "ipython3",
   "version": "3.12.6"
  }
 },
 "nbformat": 4,
 "nbformat_minor": 2
}
