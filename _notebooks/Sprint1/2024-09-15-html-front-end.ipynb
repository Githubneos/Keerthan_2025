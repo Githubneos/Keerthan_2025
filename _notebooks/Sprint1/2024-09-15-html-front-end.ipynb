{
 "cells": [
  {
   "cell_type": "code",
   "execution_count": null,
   "metadata": {
    "vscode": {
     "languageId": "html"
    }
   },
   "outputs": [],
   "source": [
    "%%html\n",
    "\n",
    "<html lang=\"en\">\n",
    "<head>\n",
    "    <meta charset=\"UTF-8\">\n",
    "    <meta name=\"viewport\" content=\"width=device-width, initial-scale=1.0\">\n",
    "    <title>HTML Frontend Hack</title>\n",
    "    <meta name=\"description\" content=\"Html front end hack\">\n",
    "</head>\n",
    "<body>\n",
    "    <!-- The content of your page goes here -->\n",
    "    <h1>HTML frontend hack</h1>\n",
    "    <p>This page describes an HTML frontend hack.</p>\n",
    "\n",
    "    <!-- Additional content can be added below -->\n",
    "</body>\n",
    "</html>\n",
    "\n",
    "<div>\n",
    "    <!-- Section 1 -->\n",
    "    <h3>Section 1</h3>\n",
    "    <p><strong>Your Journey Begins here.</strong> This is the html frontend hack.</p>\n",
    "    <p>This demonstrates how I understand the basics of creating an HTML cell.</p>\n",
    "    <a href=\"https://launchpad.classlink.com/\" target=\"_Myplan\">Link to MyPlan</a>\n",
    "    <img src=\"https://upload.wikimedia.org/wikipedia/commons/6/61/HTML5_logo_and_wordmark.svg\" alt=\"HTML5 Logo\" width=\"150\" height=\"150\">\n",
    "</div>\n",
    "\n",
    "<div>\n",
    "    <!-- Section 2 -->\n",
    "    <h3>Section 2</h3>\n",
    "    <p><strong>Your second journey starts here.</strong> HTML framework.</p>\n",
    "    <p>This is another paragraph in section 2, giving further context.</p>\n",
    "    <a href=\"https://en.wikipedia.org/wiki/HTML\" target=\"_Wikipedia\">Link to HTML wiki site</a>\n",
    "    <img src=\"https://www.freecodecamp.org/news/content/images/2024/05/cover-img.jpg\" alt=\"HTML\" width=\"150\" height=\"150\">\n",
    "</div>\n"
   ]
  },
  {
   "cell_type": "code",
   "execution_count": 2,
   "metadata": {
    "vscode": {
     "languageId": "html"
    }
   },
   "outputs": [
    {
     "data": {
      "text/html": [
       "\n",
       "<html lang=\"en\">\n",
       "<head>\n",
       "    <meta charset=\"UTF-8\">\n",
       "    <meta name=\"viewport\" content=\"width=device-width, initial-scale=1.0\">\n",
       "    <title>HTML Frontend Hack</title>\n",
       "    <meta name=\"description\" content=\"Html front end hack\">\n",
       "</head>\n",
       "<body>\n",
       "    <!-- The content of your page goes here -->\n",
       "    <h1>HTML frontend hack</h1>\n",
       "    <p>This page describes an HTML frontend hack.</p>\n",
       "\n",
       "    <!-- Additional content can be added below -->\n",
       "</body>\n",
       "</html>\n",
       "\n",
       "<div>\n",
       "    <!-- Section 1 -->\n",
       "    <h3>Section 1</h3>\n",
       "    <p><strong>Your Journey Begins here.</strong> This is the html frontend hack.</p>\n",
       "    <p>This demonstrates how I understand the basics of creating an HTML cell.</p>\n",
       "    <a href=\"https://launchpad.classlink.com/\" target=\"_Myplan\">Link to MyPlan</a>\n",
       "    <img src=\"https://upload.wikimedia.org/wikipedia/commons/6/61/HTML5_logo_and_wordmark.svg\" alt=\"HTML5 Logo\" width=\"150\" height=\"150\">\n",
       "</div>\n",
       "\n",
       "<div>\n",
       "    <!-- Section 2 -->\n",
       "    <h3>Section 2</h3>\n",
       "    <p><strong>Your second journey starts here.</strong> HTML framework.</p>\n",
       "    <p>This is another paragraph in section 2, giving further context.</p>\n",
       "    <a href=\"https://en.wikipedia.org/wiki/HTML\" target=\"_Wikipedia\">Link to HTML wiki site</a>\n",
       "    <img src=\"https://www.freecodecamp.org/news/content/images/2024/05/cover-img.jpg\" alt=\"HTML\" width=\"150\" height=\"150\">\n",
       "</div>\n"
      ],
      "text/plain": [
       "<IPython.core.display.HTML object>"
      ]
     },
     "metadata": {},
     "output_type": "display_data"
    }
   ],
   "source": [
    "%%html\n",
    "\n",
    "<html lang=\"en\">\n",
    "<head>\n",
    "    <meta charset=\"UTF-8\">\n",
    "    <meta name=\"viewport\" content=\"width=device-width, initial-scale=1.0\">\n",
    "    <title>HTML Frontend Hack</title>\n",
    "    <meta name=\"description\" content=\"Html front end hack\">\n",
    "</head>\n",
    "<body>\n",
    "    <!-- The content of your page goes here -->\n",
    "    <h1>HTML frontend hack</h1>\n",
    "    <p>This page describes an HTML frontend hack.</p>\n",
    "\n",
    "    <!-- Additional content can be added below -->\n",
    "</body>\n",
    "</html>\n",
    "\n",
    "<div>\n",
    "    <!-- Section 1 -->\n",
    "    <h3>Section 1</h3>\n",
    "    <p><strong>Your Journey Begins here.</strong> This is the html frontend hack.</p>\n",
    "    <p>This demonstrates how I understand the basics of creating an HTML cell.</p>\n",
    "    <a href=\"https://launchpad.classlink.com/\" target=\"_Myplan\">Link to MyPlan</a>\n",
    "    <img src=\"https://upload.wikimedia.org/wikipedia/commons/6/61/HTML5_logo_and_wordmark.svg\" alt=\"HTML5 Logo\" width=\"150\" height=\"150\">\n",
    "</div>\n",
    "\n",
    "<div>\n",
    "    <!-- Section 2 -->\n",
    "    <h3>Section 2</h3>\n",
    "    <p><strong>Your second journey starts here.</strong> HTML framework.</p>\n",
    "    <p>This is another paragraph in section 2, giving further context.</p>\n",
    "    <a href=\"https://en.wikipedia.org/wiki/HTML\" target=\"_Wikipedia\">Link to HTML wiki site</a>\n",
    "    <img src=\"https://www.freecodecamp.org/news/content/images/2024/05/cover-img.jpg\" alt=\"HTML\" width=\"150\" height=\"150\">\n",
    "</div>\n"
   ]
  }
 ],
 "metadata": {
  "kernelspec": {
   "display_name": "venv",
   "language": "python",
   "name": "python3"
  },
  "language_info": {
   "codemirror_mode": {
    "name": "ipython",
    "version": 3
   },
   "file_extension": ".py",
   "mimetype": "text/x-python",
   "name": "python",
   "nbconvert_exporter": "python",
   "pygments_lexer": "ipython3",
   "version": "3.12.6"
  }
 },
 "nbformat": 4,
 "nbformat_minor": 2
}
