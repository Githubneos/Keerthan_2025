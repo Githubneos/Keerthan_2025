{
 "cells": [
  {
   "cell_type": "code",
   "execution_count": null,
   "metadata": {
    "vscode": {
     "languageId": "html"
    }
   },
   "outputs": [],
   "source": [
    "%%html\n",
    "<html lang=\"en\">\n",
    "<head>\n",
    "    <meta charset=\"UTF-8\">\n",
    "    <meta name=\"viewport\" content=\"width=device-width, initial-scale=1.0\">\n",
    "    <title>HTML frontend hack</title>\n",
    "    <meta name=\"description\" content=\"Html front end hack\">\n",
    "</head>\n",
    "<body>\n",
    "    <!-- The content of your page goes here -->\n",
    "    <h1>HTML frontend hack</h1>\n",
    "    <p>This page describes an HTML frontend hack.</p>\n",
    "\n",
    "    <!-- Additional content can be added below -->\n",
    "</body>\n",
    "</html>\n",
    "\n",
    "<div>\n",
    "    <!-- Section 1 -->\n",
    "    <h3>Section 1</h3>\n",
    "    <p><strong>Your Journey Begins here.</strong> This is the html frontend hack.</p>\n",
    "    <p>This demonstarting how I understand the basics of creating a HTML cell.</p>\n",
    "    <a href=\"https://launchpad.classlink.com/\" target=\"_Myplan\">link to myplan</a>\n",
    "    <img src=\"https://www.google.com/imgres?q=html&imgurl=https%3A%2F%2Fupload.wikimedia.org%2Fwikipedia%2Fcommons%2F6%2F61%2FHTML5_logo_and_wordmark.svg&imgrefurl=https%3A%2F%2Fen.wikipedia.org%2Fwiki%2FHTML&docid=1Ted8cCjatfjsM&tbnid=O2LAft90i-2uhM&vet=12ahUKEwiTweKw1N2IAxUdJUQIHSOFLO8QM3oECBkQAA..i&w=800&h=800&hcb=2&itg=1&ved=2ahUKEwiTweKw1N2IAxUdJUQIHSOFLO8QM3oECBkQAA\" alt=\"Placeholder image\" width=\"150\" height=\"150\">\n",
    "</div>\n",
    "\n",
    "<div>\n",
    "    <!-- Section 2 -->\n",
    "    <h3>Section 2</h3>\n",
    "    <p><strong>Your second journey starts here.</strong> Html framework.</p>\n",
    "    <p>This is another paragraph in section 2, giving further context.</p>\n",
    "    <a href=\"https://en.wikipedia.org/wiki/HTML\" target=\"_Wikipedia\">Link to HTML wiki site</a>\n",
    "    <img src=\"https://www.google.com/imgres?q=html&imgurl=https%3A%2F%2Fwww.freecodecamp.org%2Fnews%2Fcontent%2Fimages%2F2024%2F05%2Fcover-img.jpg&imgrefurl=https%3A%2F%2Fwww.freecodecamp.org%2Fnews%2Fintroduction-to-html-basics%2F&docid=uOzr-w-F4pi_CM&tbnid=t_WsPREZpZ2uTM&vet=12ahUKEwiTweKw1N2IAxUdJUQIHSOFLO8QM3oECHwQAA..i&w=1920&h=1080&hcb=2&ved=2ahUKEwiTweKw1N2IAxUdJUQIHSOFLO8QM3oECHwQAA\" alt=\"HTML\" width=\"150\" height=\"150\">\n",
    "</div>\n"
   ]
  },
  {
   "cell_type": "code",
   "execution_count": 1,
   "metadata": {
    "vscode": {
     "languageId": "html"
    }
   },
   "outputs": [
    {
     "data": {
      "text/html": [
       "<html lang=\"en\">\n",
       "<head>\n",
       "    <meta charset=\"UTF-8\">\n",
       "    <meta name=\"viewport\" content=\"width=device-width, initial-scale=1.0\">\n",
       "    <title>HTML frontend hack</title>\n",
       "    <meta name=\"description\" content=\"Html front end hack\">\n",
       "</head>\n",
       "<body>\n",
       "    <!-- The content of your page goes here -->\n",
       "    <h1>HTML frontend hack</h1>\n",
       "    <p>This page describes an HTML frontend hack.</p>\n",
       "\n",
       "    <!-- Additional content can be added below -->\n",
       "</body>\n",
       "</html>\n",
       "\n",
       "<div>\n",
       "    <!-- Section 1 -->\n",
       "    <h3>Section 1</h3>\n",
       "    <p><strong>Your Journey Begins here.</strong> This is the html frontend hack.</p>\n",
       "    <p>This demonstarting how I understand the basics of creating a HTML cell.</p>\n",
       "    <a href=\"https://launchpad.classlink.com/\" target=\"_Myplan\">link to myplan</a>\n",
       "    <img src=\"https://www.google.com/imgres?q=html&imgurl=https%3A%2F%2Fupload.wikimedia.org%2Fwikipedia%2Fcommons%2F6%2F61%2FHTML5_logo_and_wordmark.svg&imgrefurl=https%3A%2F%2Fen.wikipedia.org%2Fwiki%2FHTML&docid=1Ted8cCjatfjsM&tbnid=O2LAft90i-2uhM&vet=12ahUKEwiTweKw1N2IAxUdJUQIHSOFLO8QM3oECBkQAA..i&w=800&h=800&hcb=2&itg=1&ved=2ahUKEwiTweKw1N2IAxUdJUQIHSOFLO8QM3oECBkQAA\" alt=\"Placeholder image\" width=\"150\" height=\"150\">\n",
       "</div>\n",
       "\n",
       "<div>\n",
       "    <!-- Section 2 -->\n",
       "    <h3>Section 2</h3>\n",
       "    <p><strong>Your second journey starts here.</strong> Html framework.</p>\n",
       "    <p>This is another paragraph in section 2, giving further context.</p>\n",
       "    <a href=\"https://en.wikipedia.org/wiki/HTML\" target=\"_Wikipedia\">Link to HTML wiki site</a>\n",
       "    <img src=\"https://www.google.com/imgres?q=html&imgurl=https%3A%2F%2Fwww.freecodecamp.org%2Fnews%2Fcontent%2Fimages%2F2024%2F05%2Fcover-img.jpg&imgrefurl=https%3A%2F%2Fwww.freecodecamp.org%2Fnews%2Fintroduction-to-html-basics%2F&docid=uOzr-w-F4pi_CM&tbnid=t_WsPREZpZ2uTM&vet=12ahUKEwiTweKw1N2IAxUdJUQIHSOFLO8QM3oECHwQAA..i&w=1920&h=1080&hcb=2&ved=2ahUKEwiTweKw1N2IAxUdJUQIHSOFLO8QM3oECHwQAA\" alt=\"HTML\" width=\"150\" height=\"150\">\n",
       "</div>\n"
      ],
      "text/plain": [
       "<IPython.core.display.HTML object>"
      ]
     },
     "metadata": {},
     "output_type": "display_data"
    }
   ],
   "source": [
    "%%html\n",
    "<html lang=\"en\">\n",
    "<head>\n",
    "    <meta charset=\"UTF-8\">\n",
    "    <meta name=\"viewport\" content=\"width=device-width, initial-scale=1.0\">\n",
    "    <title>HTML frontend hack</title>\n",
    "    <meta name=\"description\" content=\"Html front end hack\">\n",
    "</head>\n",
    "<body>\n",
    "    <!-- The content of your page goes here -->\n",
    "    <h1>HTML frontend hack</h1>\n",
    "    <p>This page describes an HTML frontend hack.</p>\n",
    "\n",
    "    <!-- Additional content can be added below -->\n",
    "</body>\n",
    "</html>\n",
    "\n",
    "<div>\n",
    "    <!-- Section 1 -->\n",
    "    <h3>Section 1</h3>\n",
    "    <p><strong>Your Journey Begins here.</strong> This is the html frontend hack.</p>\n",
    "    <p>This demonstarting how I understand the basics of creating a HTML cell.</p>\n",
    "    <a href=\"https://launchpad.classlink.com/\" target=\"_Myplan\">link to myplan</a>\n",
    "    <img src=\"https://www.google.com/imgres?q=html&imgurl=https%3A%2F%2Fupload.wikimedia.org%2Fwikipedia%2Fcommons%2F6%2F61%2FHTML5_logo_and_wordmark.svg&imgrefurl=https%3A%2F%2Fen.wikipedia.org%2Fwiki%2FHTML&docid=1Ted8cCjatfjsM&tbnid=O2LAft90i-2uhM&vet=12ahUKEwiTweKw1N2IAxUdJUQIHSOFLO8QM3oECBkQAA..i&w=800&h=800&hcb=2&itg=1&ved=2ahUKEwiTweKw1N2IAxUdJUQIHSOFLO8QM3oECBkQAA\" alt=\"Placeholder image\" width=\"150\" height=\"150\">\n",
    "</div>\n",
    "\n",
    "<div>\n",
    "    <!-- Section 2 -->\n",
    "    <h3>Section 2</h3>\n",
    "    <p><strong>Your second journey starts here.</strong> Html framework.</p>\n",
    "    <p>This is another paragraph in section 2, giving further context.</p>\n",
    "    <a href=\"https://en.wikipedia.org/wiki/HTML\" target=\"_Wikipedia\">Link to HTML wiki site</a>\n",
    "    <img src=\"https://www.google.com/imgres?q=html&imgurl=https%3A%2F%2Fwww.freecodecamp.org%2Fnews%2Fcontent%2Fimages%2F2024%2F05%2Fcover-img.jpg&imgrefurl=https%3A%2F%2Fwww.freecodecamp.org%2Fnews%2Fintroduction-to-html-basics%2F&docid=uOzr-w-F4pi_CM&tbnid=t_WsPREZpZ2uTM&vet=12ahUKEwiTweKw1N2IAxUdJUQIHSOFLO8QM3oECHwQAA..i&w=1920&h=1080&hcb=2&ved=2ahUKEwiTweKw1N2IAxUdJUQIHSOFLO8QM3oECHwQAA\" alt=\"HTML\" width=\"150\" height=\"150\">\n",
    "</div>\n"
   ]
  }
 ],
 "metadata": {
  "kernelspec": {
   "display_name": "venv",
   "language": "python",
   "name": "python3"
  },
  "language_info": {
   "codemirror_mode": {
    "name": "ipython",
    "version": 3
   },
   "file_extension": ".py",
   "mimetype": "text/x-python",
   "name": "python",
   "nbconvert_exporter": "python",
   "pygments_lexer": "ipython3",
   "version": "3.12.6"
  }
 },
 "nbformat": 4,
 "nbformat_minor": 2
}
