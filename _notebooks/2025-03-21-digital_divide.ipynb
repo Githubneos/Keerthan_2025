{
 "cells": [
  {
   "cell_type": "markdown",
   "metadata": {},
   "source": [
    "# Digital Divide"
   ]
  },
  {
   "cell_type": "markdown",
   "metadata": {},
   "source": [
    "## Popcorn hack 1\n",
    "\n",
    "When it comes to healthcare because people from lower social and economic households dont have good healthcare because they dont have access to said healthcare. Same applies for technology because some people dont have access to said resources.\n",
    "\n",
    "## Popcorn hack 2\n",
    "Apple makes eye tracking technology, but some people cant see so its built exclusively for people who can see.\n",
    "\n",
    "\n",
    "## Homework Hack\n",
    "\n",
    "The digital divide in our community prevents some students from accessing reliable internet and devices for schoolwork. Lower-income families struggle to afford high-speed internet, creating an educational gap. While libraries and community centers offer free Wi-Fi, their limited hours make them an incomplete solution. Schools and organizations should provide loaner laptops, discounted internet plans, and tech support. Expanding broadband infrastructure and advocating for digital equity policies can help bridge this gap."
   ]
  }
 ],
 "metadata": {
  "language_info": {
   "name": "python"
  }
 },
 "nbformat": 4,
 "nbformat_minor": 2
}
