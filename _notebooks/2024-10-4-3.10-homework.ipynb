{
 "cells": [
  {
   "cell_type": "markdown",
   "metadata": {},
   "source": [
    "## Homework Hacks"
   ]
  },
  {
   "cell_type": "markdown",
   "metadata": {
    "vscode": {
     "languageId": "plaintext"
    }
   },
   "source": [
    "## List Operations hw"
   ]
  },
  {
   "cell_type": "code",
   "execution_count": 1,
   "metadata": {},
   "outputs": [
    {
     "name": "stdout",
     "output_type": "stream",
     "text": [
      "Initial list: [42, 'apple', 3.14, True, 'banana', 99, False]\n",
      "Please enter a valid number.\n",
      "Updated list: [42, 'apple', 3.14, True, 'banana', 99, False]\n"
     ]
    }
   ],
   "source": [
    "# Initial list with various data types\n",
    "my_list = [42, \"apple\", 3.14, True, \"banana\", 99, False]\n",
    "\n",
    "# Display the list to the user\n",
    "print(\"Initial list:\", my_list)\n",
    "\n",
    "# Ask the user to input a number (index) to remove\n",
    "try:\n",
    "    user_input = int(input(\"Enter the index of the item you want to remove: \"))\n",
    "    \n",
    "    # Check if the entered index is within the range of the list\n",
    "    if 0 <= user_input < len(my_list):\n",
    "        removed_item = my_list.pop(user_input)\n",
    "        print(f\"Item '{removed_item}' removed from the list.\")\n",
    "    else:\n",
    "        print(\"Invalid index. Please enter a valid index number.\")\n",
    "except ValueError:\n",
    "    print(\"Please enter a valid number.\")\n",
    "\n",
    "# Display the updated list\n",
    "print(\"Updated list:\", my_list)\n"
   ]
  },
  {
   "cell_type": "markdown",
   "metadata": {},
   "source": [
    "## Pseudocode"
   ]
  },
  {
   "cell_type": "raw",
   "metadata": {
    "vscode": {
     "languageId": "raw"
    }
   },
   "source": [
    "START\n",
    "   DECLARE numbers = [list of 30 numbers]\n",
    "   DECLARE even_sum = 0\n",
    "   DECLARE odd_sum = 0\n",
    "\n",
    "   FOR each number in numbers\n",
    "      IF number % 2 == 0 THEN\n",
    "         even_sum = even_sum + number\n",
    "      ELSE\n",
    "         odd_sum = odd_sum + number\n",
    "      END IF\n",
    "   END FOR\n",
    "\n",
    "   PRINT \"Sum of even numbers:\", even_sum\n",
    "   PRINT \"Sum of odd numbers:\", odd_sum\n",
    "END"
   ]
  },
  {
   "cell_type": "code",
   "execution_count": 2,
   "metadata": {},
   "outputs": [
    {
     "name": "stdout",
     "output_type": "stream",
     "text": [
      "Sum of even numbers: 240\n",
      "Sum of odd numbers: 225\n"
     ]
    }
   ],
   "source": [
    "# List of 30 numbers\n",
    "numbers = [1, 2, 3, 4, 5, 6, 7, 8, 9, 10, \n",
    "           11, 12, 13, 14, 15, 16, 17, 18, 19, 20, \n",
    "           21, 22, 23, 24, 25, 26, 27, 28, 29, 30]\n",
    "\n",
    "# Initialize sums\n",
    "even_sum = 0\n",
    "odd_sum = 0\n",
    "\n",
    "# Loop through the list and sum up even and odd numbers\n",
    "for number in numbers:\n",
    "    if number % 2 == 0:\n",
    "        even_sum += number\n",
    "    else:\n",
    "        odd_sum += number\n",
    "\n",
    "# Output the sums\n",
    "print(\"Sum of even numbers:\", even_sum)\n",
    "print(\"Sum of odd numbers:\", odd_sum)\n"
   ]
  },
  {
   "cell_type": "markdown",
   "metadata": {},
   "source": [
    "## List Functions"
   ]
  },
  {
   "cell_type": "code",
   "execution_count": 3,
   "metadata": {},
   "outputs": [
    {
     "name": "stdout",
     "output_type": "stream",
     "text": [
      "Reading\n",
      "Hiking\n",
      "Cooking\n",
      "Gardening\n",
      "Photography\n"
     ]
    }
   ],
   "source": [
    "# List of favorite hobbies\n",
    "favorite_hobbies = [\"Reading\", \"Hiking\", \"Cooking\", \"Gardening\", \"Photography\"]\n",
    "\n",
    "# Loop through each hobby and print it\n",
    "for hobby in favorite_hobbies:\n",
    "    print(hobby)\n"
   ]
  },
  {
   "cell_type": "code",
   "execution_count": 5,
   "metadata": {
    "vscode": {
     "languageId": "javascript"
    }
   },
   "outputs": [
    {
     "data": {
      "application/javascript": "\n// List of favorite hobbies\nlet favoriteHobbies = [\"Reading\", \"Hiking\", \"Cooking\", \"Gardening\", \"Photography\"];\n\n// Loop through each hobby and print it\nfavoriteHobbies.forEach(function(hobby) {\n    console.log(hobby);\n});\n",
      "text/plain": [
       "<IPython.core.display.Javascript object>"
      ]
     },
     "metadata": {},
     "output_type": "display_data"
    }
   ],
   "source": [
    "%%js\n",
    "\n",
    "// List of favorite hobbies\n",
    "let favoriteHobbies = [\"Reading\", \"Hiking\", \"Cooking\", \"Gardening\", \"Photography\"];\n",
    "\n",
    "// Loop through each hobby and print it\n",
    "favoriteHobbies.forEach(function(hobby) {\n",
    "    console.log(hobby);\n",
    "});\n"
   ]
  },
  {
   "cell_type": "markdown",
   "metadata": {},
   "source": [
    "## List Input"
   ]
  },
  {
   "cell_type": "code",
   "execution_count": null,
   "metadata": {
    "vscode": {
     "languageId": "javascript"
    }
   },
   "outputs": [],
   "source": []
  }
 ],
 "metadata": {
  "kernelspec": {
   "display_name": "venv",
   "language": "python",
   "name": "python3"
  },
  "language_info": {
   "codemirror_mode": {
    "name": "ipython",
    "version": 3
   },
   "file_extension": ".py",
   "mimetype": "text/x-python",
   "name": "python",
   "nbconvert_exporter": "python",
   "pygments_lexer": "ipython3",
   "version": "3.12.6"
  }
 },
 "nbformat": 4,
 "nbformat_minor": 2
}
