{
 "cells": [
  {
   "cell_type": "markdown",
   "metadata": {},
   "source": [
    "# Undecideable Problems + Graphs + Heuristics"
   ]
  },
  {
   "cell_type": "markdown",
   "metadata": {},
   "source": [
    "## Popcorn Hack 1"
   ]
  },
  {
   "cell_type": "markdown",
   "metadata": {},
   "source": [
    "     [A]\n",
    "    /   \\\n",
    " 5 /     \\ 3\n",
    "  /       \\\n",
    "[B]---2---[C]---4---[E]\n",
    "  \\         \\       /\n",
    "   \\6        \\     /1\n",
    "    \\         \\   /\n",
    "     [D]--------\n"
   ]
  },
  {
   "cell_type": "markdown",
   "metadata": {},
   "source": [
    "## HW hack 1"
   ]
  },
  {
   "cell_type": "markdown",
   "metadata": {},
   "source": [
    "1) A\n",
    "2) C"
   ]
  },
  {
   "cell_type": "markdown",
   "metadata": {},
   "source": [
    "## Popcorn hack 2"
   ]
  },
  {
   "cell_type": "markdown",
   "metadata": {},
   "source": [
    "🔁 What happens when we reverse the greedy coin order?\n",
    "\n",
    "When you use:\n",
    "[25, 10, 5, 1]\n",
    "The algorithm grabs the biggest coins first.\n",
    "For 63¢, it picks [25, 25, 10, 1, 1, 1] → 6 coins\n",
    "✅ Efficient \n",
    "\n",
    "[1, 5, 10, 25] (smallest → largest):\n",
    "It keeps choosing 1¢ over and over before ever reaching bigger coins.\n",
    "For 63¢, it picks [1, 1, ..., 1] → 63 coins\n",
    "❌ Not efficient at all\n",
    "\n",
    "💡 So... is it more or less efficient?\n",
    "✅ Descending (Greedy): More efficient in U.S. coin systems.\n",
    "\n",
    "❌ Ascending (Reversed): Way less efficient—it delays using better coins.\n",
    "\n",
    "🎯 Is the Greedy strategy perfect?\n",
    "Not always. It's perfect for coins like [25, 10, 5, 1] (U.S. coins), where greedy always finds the best solution.\n",
    "\n",
    "But with coins like [9, 6, 1], greedy fails:\n",
    "\n",
    "To make 11¢, greedy gives [9, 1, 1] → 3 coins\n",
    "\n",
    "But [6, 5] is better → only 2 coins\n",
    "\n",
    "So:\n",
    "🔸 Greedy is not perfect\n",
    "🔸 But it’s often “good enough” and very fast (O(n))\n",
    "\n"
   ]
  },
  {
   "cell_type": "markdown",
   "metadata": {},
   "source": [
    "## HW hack 2"
   ]
  },
  {
   "cell_type": "markdown",
   "metadata": {},
   "source": [
    "Changing the order of coins significantly affected the result—using coins from largest to smallest (greedy) used far fewer coins than starting from the smallest. The greedy algorithm performed best when coins were ordered in descending value and matched well with the currency system, but it can fail with unusual coin sets where a non-greedy approach gives a better solution. I learned that while greedy algorithms are fast and often good enough, they aren't always optimal and need to be tested carefully depending on the problem."
   ]
  },
  {
   "cell_type": "markdown",
   "metadata": {},
   "source": [
    "## Popcorn hack 3"
   ]
  },
  {
   "cell_type": "markdown",
   "metadata": {},
   "source": [
    "The program creates an infinite loop because `num` will never become 0, so the condition `while num != 0` is always true. This is an example of an undecidable problem because there's no way for a general algorithm to determine if such a loop will halt without actually running it."
   ]
  },
  {
   "cell_type": "markdown",
   "metadata": {},
   "source": [
    "## Popcorn hack 4"
   ]
  },
  {
   "cell_type": "markdown",
   "metadata": {},
   "source": [
    "1) false\n",
    "2) true"
   ]
  },
  {
   "cell_type": "markdown",
   "metadata": {},
   "source": [
    "## HW hack 3"
   ]
  },
  {
   "cell_type": "markdown",
   "metadata": {},
   "source": [
    "### **HOMEWORK Part 1: Identify the Problem Type**\n",
    "\n",
    "1. **“Is this number divisible by 2?”**  \n",
    "   **Answer:** **Decidable**  \n",
    "   **Reason:** This is a simple check, and an algorithm can be written to determine whether a number is divisible by 2, making it a decidable problem.\n",
    "\n",
    "2. **“Will this program stop or run forever?”**  \n",
    "   **Answer:** **Undecidable**  \n",
    "   **Reason:** This is the **Halting Problem**, proven to be undecidable because there is no general algorithm that can determine whether all programs will halt or run forever.\n",
    "\n",
    "3. **“Does this sentence contain the word ‘banana’?”**  \n",
    "   **Answer:** **Decidable**  \n",
    "   **Reason:** This can be easily solved with a string search algorithm, which is a definite, solvable problem, so it is decidable.\n",
    "\n",
    "4. **“Will this AI ever become sentient?”**  \n",
    "   **Answer:** **Undecidable**  \n",
    "   **Reason:** The concept of AI sentience is not well-defined, and there’s no algorithm or test that can conclusively predict whether an AI will become sentient, making it undecidable.\n",
    "\n",
    "---\n",
    "\n",
    "### **Part 2: Algorithm Detective**\n",
    "\n",
    "1. **Step 1:** Input a number  \n",
    "   **Step 2:** If the number is even, say \"Yes.\" If not, say \"No.\"  \n",
    "   **Answer:** **Decidable**  \n",
    "   **Reasoning:** This is a simple even/odd check, and the algorithm will always stop with a definite answer. It's a decidable problem.\n",
    "\n",
    "2. **Step 1:** Input any program  \n",
    "   **Step 2:** Predict if it will ever stop running  \n",
    "   **Step 3:** Output \"Yes\" if it will stop, \"No\" if it will run forever  \n",
    "   **Answer:** **Undecidable**  \n",
    "   **Reasoning:** This algorithm is trying to solve the Halting Problem, which is undecidable. There is no general way to predict whether an arbitrary program will stop or run forever.\n",
    "\n",
    "---\n",
    "\n",
    "### **Part 3: Real-Life Connection**\n",
    "\n",
    "**Example:** Choosing a career path.  \n",
    "**Explanation:** You can never be 100% sure how a specific career will unfold for you until you actually experience it. There are too many variables that you can’t fully predict without going through the process."
   ]
  }
 ],
 "metadata": {
  "language_info": {
   "name": "python"
  }
 },
 "nbformat": 4,
 "nbformat_minor": 2
}
