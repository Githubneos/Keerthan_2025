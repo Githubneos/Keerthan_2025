{
 "cells": [
  {
   "cell_type": "markdown",
   "metadata": {},
   "source": [
    "# CPT & PPR Blog"
   ]
  },
  {
   "cell_type": "markdown",
   "metadata": {},
   "source": [
    "## CPT Requirements"
   ]
  },
  {
   "cell_type": "markdown",
   "metadata": {},
   "source": [
    "### Big Idea 1.1 & 1.2: Collaboration, Program Function, and Purpose\n",
    "- #### Iteration, SCRUM, Agile, Issues, Kanban\n",
    "    - Used Agile methodologies to iteratively improve features based on testing and feedback.\n",
    "    - Kanban board helped track issues like incorrect guess validation and grading logic.\n",
    "    - Addressed issues such as improving UI, debugging API endpoints, and refining game logic.\n",
    "- #### Program Code\n",
    "    - Followed structured programming with functions to handle guesses, scoring, and submissions.\n",
    "    - Applied FRQ-style coding practices, including function abstraction and modularity.\n",
    "- #### Key Tools and Methods\n",
    "    - Blind Trace Challenge: Used SSIM (Structural Similarity Index) for scoring, Flask API for data storage.\n",
    "    - Debugged using Postman and browser Inspect tools for API testing and frontend improvements"
   ]
  },
  {
   "cell_type": "markdown",
   "metadata": {},
   "source": [
    "### Big Idea 1.3: Program Design and Development\n",
    "- #### Frontend and Backend Integration\n",
    "    - Developed a responsive UI for both games with interactive elements for submitting guesses/drawings.\n",
    "    - Backend manages guess storage, SSIM scoring for Blind Trace, and API endpoints.\n",
    "- #### Improving Applications\n",
    "    - Enhanced game functionality based on feedback from peers and N@tM reviews.\n",
    "    - Improved Blind Trace Challenge by storing past scores and adding a submission table.\n",
    "- #### Design Documentation\n",
    "    - Used flowcharts and UML diagrams to map out game logic and API requests.\n",
    "- Documented API endpoints for fetching and storing game data.\n",
    "- #### Code Comments and Style\n",
    "    - Followed PEP 8 for clean and maintainable Python code.\n",
    "- Used meaningful comments to document game logic and API implementation.\n"
   ]
  },
  {
   "cell_type": "markdown",
   "metadata": {},
   "source": [
    "### Big Idea 1.4: Debugging Code and Fixing Errors\n",
    "- #### Backend Debugging\n",
    "    - Used Postman to test API requests for both games (guess submissions, score retrieval).\n",
    "    - Fixed JSON response formatting issues in Flask for better frontend integration.\n",
    "- #### Frontend Debugging\n",
    "    - Used browser Inspect tools to debug rendering issues in both games.\n",
    "    - Fixed JavaScript errors affecting data display (e.g., retrieving past scores, incorrect guess checks).\n",
    "- #### End-to-End Tracing\n",
    "    - Ensured correct retrieval and display of stored game data.\n",
    "- #### Testing\n",
    "    - Simulated user interactions to catch errors in both games before deployment."
   ]
  },
  {
   "cell_type": "markdown",
   "metadata": {},
   "source": [
    "### Big Idea 2: Data Management and Storage\n",
    "- #### Database Management with SQLite\n",
    "    - Blind Trace Challenge: Stored user drawings, SSIM scores, and past game data.\n",
    "- #### Data Retrieval and Display\n",
    "    - Optimized database structure to handle multiple game sessions.\n",
    "- #### Data Security and Privacy\n",
    "    - Implemented validation checks to prevent invalid inputs and SQL injection.\n",
    "    - Restricted API access using authentication mechanisms.\n",
    "- #### Data Backup and Recovery\n",
    "    - Considered periodic backups for database preservation.\n",
    "    - Ensured deletion functions properly remove user data while maintaining game integrity."
   ]
  },
  {
   "cell_type": "markdown",
   "metadata": {},
   "source": [
    "### Big Idea 4: Internet and Deployment\n",
    "- #### Deployment Strategies\n",
    "    - Deployed the application on AWS using Docker and Nginx.\n",
    "    - Implemented CI/CD pipeline to automate deployment updates.\n",
    "- #### HTTP and RESTful APIs\n",
    "    - Designed RESTful APIs for submitting guesses, retrieving past scores, and grading drawings.\n",
    "    - Used HTTP methods (GET, POST, DELETE) for handling user interactions.\n",
    "- #### Security and Authentication\n",
    "    - Used JWT authentication to protect API endpoints.\n",
    "    - Enforced HTTPS encryption for secure communication.\n",
    "- #### Performance Optimization\n",
    "    - Optimized frontend by minimizing assets and improving caching.\n",
    "- Improved backend efficiency using database indexing and query optimization.\n",
    "- #### Monitoring and Logging\n",
    "    - Implemented logging to track API requests and debug potential issues.\n",
    "    - Monitored game performance and identified areas for improvement.\n"
   ]
  },
  {
   "cell_type": "markdown",
   "metadata": {},
   "source": [
    "## PPR Requirements"
   ]
  },
  {
   "cell_type": "markdown",
   "metadata": {},
   "source": [
    "### Component A: Program Code"
   ]
  },
  {
   "cell_type": "code",
   "execution_count": null,
   "metadata": {},
   "outputs": [],
   "source": [
    "import traceback\n",
    "import base64\n",
    "import io\n",
    "import numpy as np\n",
    "from flask import Blueprint, request, jsonify, g\n",
    "from flask_restful import Api, Resource\n",
    "from datetime import datetime\n",
    "from __init__ import db\n",
    "from api.jwt_authorize import token_required\n",
    "from model.blind_trace import BlindTraceSubmission\n",
    "from PIL import Image\n",
    "import requests\n",
    "\n",
    "#Blueprint & API Initialization\n",
    "blind_trace_api = Blueprint('blind_trace_api', __name__, url_prefix='/api/blind_trace')\n",
    "api = Api(blind_trace_api)\n",
    "\n",
    "class BlindTraceAPI:\n",
    "    class _Submission(Resource):\n",
    "        @token_required()\n",
    "        def post(self):\n",
    "            \"\"\"Submit a drawing, grade it using SSIM, and store the result\"\"\"\n",
    "            current_user = g.current_user\n",
    "            data = request.get_json()\n",
    "\n",
    "            # Validate request data\n",
    "            if not data or \"image_url\" not in data or \"drawing\" not in data:\n",
    "                return {\"message\": \"Missing required fields\", \"error\": \"Bad Request\"}, 400\n",
    "\n",
    "            try:\n",
    "                # Decode base64 drawing\n",
    "                drawing_data = base64.b64decode(data[\"drawing\"].split(\",\")[1])\n",
    "                drawing_img = Image.open(io.BytesIO(drawing_data)).convert(\"L\")  # Convert to grayscale\n",
    "\n",
    "                # Fetch reference image\n",
    "                reference_img = Image.open(io.BytesIO(requests.get(data[\"image_url\"]).content)).convert(\"L\")\n",
    "\n",
    "                # Resize to match dimensions\n",
    "                reference_img = reference_img.resize(drawing_img.size)\n",
    "\n",
    "                # Convert images to numpy arrays\n",
    "                drawing_arr = np.array(drawing_img)\n",
    "                reference_arr = np.array(reference_img)\n",
    "\n",
    "                # Compute Mean Squared Error (MSE)\n",
    "                mse = np.mean((drawing_arr - reference_arr) ** 2)\n",
    "                max_mse = np.prod(drawing_arr.shape) * 255**2  # Max possible MSE for 8-bit images\n",
    "                score = round(100 * (1 - mse / max_mse), 2)  # Normalize to percentage\n",
    "\n",
    "                # Save submission\n",
    "                submission = BlindTraceSubmission(\n",
    "                    user_id=current_user.id,\n",
    "                    image_url=data[\"image_url\"],\n",
    "                    drawing=data[\"drawing\"],\n",
    "                    score=score,\n",
    "                    submission_time=datetime.utcnow()\n",
    "                )\n",
    "                db.session.add(submission)\n",
    "                db.session.commit()\n",
    "\n",
    "                return {\n",
    "                    \"message\": \"Submission graded\",\n",
    "                    \"score\": score,\n",
    "                    \"submission\": submission.read()\n",
    "                }, 201\n",
    "\n",
    "            except Exception as e:\n",
    "                db.session.rollback()\n",
    "                traceback.print_exc()\n",
    "                return {\"message\": \"Internal Server Error\", \"error\": str(e)}, 500\n",
    "\n",
    "        @token_required()\n",
    "        def get(self):\n",
    "            \"\"\"Retrieve all past submissions for the current user\"\"\"\n",
    "            current_user = g.current_user\n",
    "            try:\n",
    "                submissions = BlindTraceSubmission.query.filter_by(user_id=current_user.id).all()\n",
    "                return {\n",
    "                    \"message\": \"Submissions retrieved successfully\",\n",
    "                    \"submissions\": [sub.read() for sub in submissions]\n",
    "                }, 200\n",
    "            except Exception as e:\n",
    "                traceback.print_exc()\n",
    "                return {\"message\": \"Internal Server Error\", \"error\": str(e)}, 500\n",
    "\n",
    "        @token_required()\n",
    "        def delete(self):\n",
    "            \"\"\"Delete a submission by ID\"\"\"\n",
    "            current_user = g.current_user\n",
    "            data = request.get_json()\n",
    "\n",
    "            if not data or \"id\" not in data:\n",
    "                return {\"message\": \"Missing required fields\", \"error\": \"Bad Request\"}, 400\n",
    "\n",
    "            try:\n",
    "                submission = BlindTraceSubmission.query.get(data[\"id\"])\n",
    "                if not submission:\n",
    "                    return {\"message\": \"Submission not found\", \"error\": \"Not Found\"}, 404\n",
    "                \n",
    "                if submission.user_id != current_user.id:\n",
    "                    return {\"message\": \"Unauthorized to delete this submission\", \"error\": \"Forbidden\"}, 403\n",
    "\n",
    "                db.session.delete(submission)\n",
    "                db.session.commit()\n",
    "\n",
    "                return {\"message\": \"Submission deleted successfully\"}, 200\n",
    "\n",
    "            except Exception as e:\n",
    "                db.session.rollback()\n",
    "                traceback.print_exc()\n",
    "                return {\"message\": \"Internal Server Error\", \"error\": str(e)}, 500\n",
    "\n",
    "    # Register API endpoint\n",
    "    api.add_resource(_Submission, '/submission')\n"
   ]
  },
  {
   "cell_type": "markdown",
   "metadata": {},
   "source": [
    "### Component B"
   ]
  },
  {
   "cell_type": "markdown",
   "metadata": {},
   "source": [
    "<video width=\"600\" controls>\n",
    "  <source src=\"data/Blind_trace.mov\" type=\"video/mp4\">\n",
    "</video>"
   ]
  },
  {
   "cell_type": "markdown",
   "metadata": {},
   "source": [
    "### Component C"
   ]
  },
  {
   "cell_type": "markdown",
   "metadata": {},
   "source": [
    "#### Segment 1 Procedure def(sequencing and selection)"
   ]
  },
  {
   "cell_type": "markdown",
   "metadata": {},
   "source": [
    "def update(self, user, score, date):\n",
    "    \"\"\"\n",
    "    Updates the Blind Trace submission instance.\n",
    "    \n",
    "    Args:\n",
    "        user (str): The updated user who submitted the drawing.\n",
    "        score (float): The updated similarity score.\n",
    "        date (str): The updated date of submission.\n",
    "    \"\"\"\n",
    "    self._user = user\n",
    "    self._score = score\n",
    "    self._date = date\n",
    "\n",
    "    db.session.commit()\n",
    "\n",
    "    return {'message': 'Blind Trace submission updated successfully'}\n"
   ]
  },
  {
   "cell_type": "markdown",
   "metadata": {},
   "source": [
    "#### Segment 2 "
   ]
  },
  {
   "cell_type": "code",
   "execution_count": null,
   "metadata": {},
   "outputs": [],
   "source": [
    "function editBlindTrace(id, currentUser, currentScore, currentDate) {\n",
    "    // Display the edit form and hide the add form\n",
    "    document.getElementById('blind-trace-edit-form').style.display = 'block';\n",
    "    document.getElementById('blind-trace-form').style.display = 'none'; // Hide the Add form\n",
    "\n",
    "    // Set placeholder values to the current submission details\n",
    "    document.getElementById('edit-user').placeholder = currentUser;\n",
    "    document.getElementById('edit-score').placeholder = currentScore;\n",
    "    document.getElementById('edit-date').placeholder = currentDate;\n",
    "\n",
    "    // Clear input fields to allow user entry\n",
    "    document.getElementById('edit-user').value = \"\";\n",
    "    document.getElementById('edit-score').value = \"\";\n",
    "    document.getElementById('edit-date').value = \"\";\n",
    "\n",
    "    // When the form is submitted, send a PUT request to update the Blind Trace submission\n",
    "    const form = document.getElementById('edit-blind-trace-form');\n",
    "    form.onsubmit = async function(event) {\n",
    "        event.preventDefault(); // Prevent default form submission behavior\n",
    "\n",
    "        // Get user input; if fields are empty, keep the previous values\n",
    "        const user = document.getElementById('edit-user').value || currentUser;\n",
    "        const score = document.getElementById('edit-score').value || currentScore;\n",
    "        const date = document.getElementById('edit-date').value || currentDate;\n",
    "\n",
    "        // Send a PUT request to update the submission in the backend\n",
    "        const response = await fetch(`${API_URL}/blind-trace/${id}`, { // Calls the backend update function\n",
    "            method: 'PUT', // Specifies that this request is an update operation\n",
    "            headers: {\n",
    "                'Content-Type': 'application/json', // Informs the backend that JSON data is being sent\n",
    "            },\n",
    "            body: JSON.stringify({ user, score, date }), // Sends the updated submission data to the backend\n",
    "        });\n",
    "\n",
    "        // Handle the response\n",
    "        if (response.ok) {\n",
    "            alert('Blind Trace submission updated successfully!'); // Notify user of success\n",
    "            fetchBlindTraceSubmissions(); // Refresh the displayed submissions\n",
    "            cancelEditBlindTrace(); // Hide the edit form and show the add form again\n",
    "        } else {\n",
    "            alert('Failed to update Blind Trace submission.'); // Notify user of failure\n",
    "        }\n",
    "    };\n",
    "}\n"
   ]
  },
  {
   "cell_type": "markdown",
   "metadata": {},
   "source": [
    "### Segment 3 & 4: List Usage"
   ]
  },
  {
   "cell_type": "markdown",
   "metadata": {},
   "source": [
    "#### Storing Data in a List"
   ]
  },
  {
   "cell_type": "code",
   "execution_count": null,
   "metadata": {},
   "outputs": [],
   "source": [
    "blind_traces = BlindTrace.query.all()  # Retrieving all Blind Trace submissions\n",
    "result = [  # Using a list to store multiple submissions\n",
    "    {\n",
    "        'id': submission.id,\n",
    "        'user': submission.user,\n",
    "        'score': submission.score,\n",
    "        'date': submission.date\n",
    "    }\n",
    "    for submission in blind_traces  # Iteration over the list of submissions\n",
    "]\n"
   ]
  },
  {
   "cell_type": "markdown",
   "metadata": {},
   "source": [
    "#### Using Data from the List"
   ]
  },
  {
   "cell_type": "code",
   "execution_count": null,
   "metadata": {},
   "outputs": [],
   "source": [
    "@app.route('/api/blindtrace/random', methods=['GET'])\n",
    "def get_random_blindtrace():\n",
    "    submissions = BlindTraceSubmission.query.all()  # Fetch all Blind Trace submissions\n",
    "    if not submissions:  # Check if no submissions are available\n",
    "        return jsonify({'error': 'No submissions available'}), 404\n",
    "\n",
    "    random_submission = random.choice(submissions)  # Select a random submission\n",
    "    return jsonify({\n",
    "        'id': random_submission.id,\n",
    "        'user': random_submission.user,  # Assuming 'user' is the user who made the submission\n",
    "        'score': random_submission.score,  # Assuming 'score' is the evaluation score\n",
    "        'date': random_submission.date_created  # Assuming 'date_created' stores when it was submitted\n",
    "    }), 200\n"
   ]
  }
 ],
 "metadata": {
  "language_info": {
   "name": "python"
  }
 },
 "nbformat": 4,
 "nbformat_minor": 2
}
