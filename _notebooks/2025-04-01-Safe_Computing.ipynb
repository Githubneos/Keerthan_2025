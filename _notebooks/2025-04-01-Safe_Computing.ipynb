{
 "cells": [
  {
   "cell_type": "markdown",
   "metadata": {},
   "source": [
    "# Safe Computing"
   ]
  },
  {
   "cell_type": "code",
   "execution_count": 1,
   "metadata": {},
   "outputs": [
    {
     "name": "stdout",
     "output_type": "stream",
     "text": [
      "Using shift value: 1\n",
      "Result: ojhhfs\n"
     ]
    }
   ],
   "source": [
    "import random\n",
    "\n",
    "def caesar_cipher(text, shift, mode):\n",
    "    result = \"\"\n",
    "    for char in text:\n",
    "        if char.isalpha():  # Encrypts only letters\n",
    "            shift_amount = shift if mode == \"encrypt\" else -shift\n",
    "            new_char = chr(((ord(char.lower()) - 97 + shift_amount) % 26) + 97)\n",
    "            result += new_char.upper() if char.isupper() else new_char\n",
    "        else:\n",
    "            result += char  # Keeps spaces and punctuation unchanged\n",
    "    return result\n",
    "\n",
    "# Get user input\n",
    "mode = input(\"Do you want to encrypt or decrypt? \").strip().lower()\n",
    "\n",
    "if mode not in [\"encrypt\", \"decrypt\"]:\n",
    "    print(\"Invalid mode! Please enter 'encrypt' or 'decrypt'.\")\n",
    "    exit()\n",
    "\n",
    "message = input(\"Enter your message: \")\n",
    "shift_input = input(\"Enter shift value (or type 'random'): \").strip().lower()\n",
    "\n",
    "# Generate a random shift if \"random\" is entered\n",
    "if shift_input == \"random\":\n",
    "    shift = random.randint(1, 25)\n",
    "else:\n",
    "    try:\n",
    "        shift = int(shift_input)\n",
    "        if not (1 <= shift <= 25):  \n",
    "            raise ValueError  # Ensures shift is within valid range\n",
    "    except ValueError:\n",
    "        print(\"Invalid shift value! Enter a number between 1 and 25 or type 'random'.\")\n",
    "        exit()\n",
    "\n",
    "print(f\"Using shift value: {shift}\")  # Display the shift used\n",
    "output = caesar_cipher(message, shift, mode)\n",
    "print(f\"Result: {output}\")\n"
   ]
  }
 ],
 "metadata": {
  "kernelspec": {
   "display_name": "venv",
   "language": "python",
   "name": "python3"
  },
  "language_info": {
   "codemirror_mode": {
    "name": "ipython",
    "version": 3
   },
   "file_extension": ".py",
   "mimetype": "text/x-python",
   "name": "python",
   "nbconvert_exporter": "python",
   "pygments_lexer": "ipython3",
   "version": "3.12.6"
  }
 },
 "nbformat": 4,
 "nbformat_minor": 2
}
