{
 "cells": [
  {
   "cell_type": "markdown",
   "metadata": {},
   "source": [
    "## Homework hacks"
   ]
  },
  {
   "cell_type": "code",
   "execution_count": 1,
   "metadata": {},
   "outputs": [
    {
     "name": "stdout",
     "output_type": "stream",
     "text": [
      "Fruits List:\n",
      "Apple\n",
      "Banana\n",
      "Mango\n",
      "Orange\n",
      "\n",
      "Person Information:\n",
      "name: Keerthan\n",
      "age: 16\n",
      "country: USA\n"
     ]
    }
   ],
   "source": [
    "# Python Loop through a list\n",
    "fruits = [\"Apple\", \"Banana\", \"Mango\", \"Orange\"]\n",
    "\n",
    "print(\"Fruits List:\")\n",
    "for fruit in fruits:\n",
    "    print(fruit)\n",
    "\n",
    "# Python Loop through a dictionary\n",
    "person = {\n",
    "    \"name\": \"Keerthan\",\n",
    "    \"age\": 16,\n",
    "    \"country\": \"USA\"\n",
    "}\n",
    "\n",
    "print(\"\\nPerson Information:\")\n",
    "for key, value in person.items():\n",
    "    print(f\"{key}: {value}\")"
   ]
  },
  {
   "cell_type": "code",
   "execution_count": 2,
   "metadata": {
    "vscode": {
     "languageId": "javascript"
    }
   },
   "outputs": [
    {
     "data": {
      "application/javascript": "\n// JavaScript Loop through an array\nlet fruits = [\"Apple\", \"Banana\", \"Mango\", \"Orange\"];\n\nconsole.log(\"Fruits List:\");\nfor (let i = 0; i < fruits.length; i++) {\n    console.log(fruits[i]);\n}\n\n// JavaScript Loop through a dictionary (object)\nlet person = {\n    name: \"Alice\",\n    age: 25,\n    country: \"USA\"\n};\n\nconsole.log(\"\\nPerson Information:\");\nfor (let key in person) {\n    console.log(key + \": \" + person[key]);\n}\n",
      "text/plain": [
       "<IPython.core.display.Javascript object>"
      ]
     },
     "metadata": {},
     "output_type": "display_data"
    }
   ],
   "source": [
    "%%js\n",
    "\n",
    "// JavaScript Loop through an array\n",
    "let fruits = [\"Apple\", \"Banana\", \"Mango\", \"Orange\"];\n",
    "\n",
    "console.log(\"Fruits List:\");\n",
    "for (let i = 0; i < fruits.length; i++) {\n",
    "    console.log(fruits[i]);\n",
    "}\n",
    "\n",
    "// JavaScript Loop through a dictionary (object)\n",
    "let person = {\n",
    "    name: \"Alice\",\n",
    "    age: 25,\n",
    "    country: \"USA\"\n",
    "};\n",
    "\n",
    "console.log(\"\\nPerson Information:\");\n",
    "for (let key in person) {\n",
    "    console.log(key + \": \" + person[key]);\n",
    "}\n"
   ]
  },
  {
   "cell_type": "markdown",
   "metadata": {
    "vscode": {
     "languageId": "javascript"
    }
   },
   "source": [
    "## while loop hw"
   ]
  },
  {
   "cell_type": "code",
   "execution_count": 3,
   "metadata": {
    "vscode": {
     "languageId": "javascript"
    }
   },
   "outputs": [
    {
     "data": {
      "application/javascript": "\nlet i = 1;\n\nwhile (i <= 50) {\n    if (i % 3 === 0 && i % 5 === 0) {\n        console.log(\"FizzBuzz\");\n    } else if (i % 3 === 0) {\n        console.log(\"Fizz\");\n    } else if (i % 5 === 0) {\n        console.log(\"Buzz\");\n    } else if (i % 7 === 0) {\n        console.log(\"Boom\");\n    } else {\n        console.log(i);\n    }\n    i++;\n}\n\n// Challenge: Range from 50 to 100, multiples of 4 instead of 3\nlet j = 50;\n\nwhile (j <= 100) {\n    if (j % 4 === 0 && j % 5 === 0) {\n        console.log(\"FizzBuzz\");\n    } else if (j % 4 === 0) {\n        console.log(\"Fizz\");\n    } else if (j % 5 === 0) {\n        console.log(\"Buzz\");\n    } else if (j % 7 === 0) {\n        console.log(\"Boom\");\n    } else {\n        console.log(j);\n    }\n    j++;\n}\n",
      "text/plain": [
       "<IPython.core.display.Javascript object>"
      ]
     },
     "metadata": {},
     "output_type": "display_data"
    }
   ],
   "source": [
    "%%js\n",
    "\n",
    "let i = 1;\n",
    "\n",
    "while (i <= 50) {\n",
    "    if (i % 3 === 0 && i % 5 === 0) {\n",
    "        console.log(\"FizzBuzz\");\n",
    "    } else if (i % 3 === 0) {\n",
    "        console.log(\"Fizz\");\n",
    "    } else if (i % 5 === 0) {\n",
    "        console.log(\"Buzz\");\n",
    "    } else if (i % 7 === 0) {\n",
    "        console.log(\"Boom\");\n",
    "    } else {\n",
    "        console.log(i);\n",
    "    }\n",
    "    i++;\n",
    "}\n",
    "\n",
    "// Challenge: Range from 50 to 100, multiples of 4 instead of 3\n",
    "let j = 50;\n",
    "\n",
    "while (j <= 100) {\n",
    "    if (j % 4 === 0 && j % 5 === 0) {\n",
    "        console.log(\"FizzBuzz\");\n",
    "    } else if (j % 4 === 0) {\n",
    "        console.log(\"Fizz\");\n",
    "    } else if (j % 5 === 0) {\n",
    "        console.log(\"Buzz\");\n",
    "    } else if (j % 7 === 0) {\n",
    "        console.log(\"Boom\");\n",
    "    } else {\n",
    "        console.log(j);\n",
    "    }\n",
    "    j++;\n",
    "}\n"
   ]
  },
  {
   "cell_type": "code",
   "execution_count": 4,
   "metadata": {},
   "outputs": [
    {
     "name": "stdout",
     "output_type": "stream",
     "text": [
      "1\n",
      "2\n",
      "Fizz\n",
      "4\n",
      "Buzz\n",
      "Fizz\n",
      "Boom\n",
      "8\n",
      "Fizz\n",
      "Buzz\n",
      "11\n",
      "Fizz\n",
      "13\n",
      "Boom\n",
      "FizzBuzz\n",
      "16\n",
      "17\n",
      "Fizz\n",
      "19\n",
      "Buzz\n",
      "Fizz\n",
      "22\n",
      "23\n",
      "Fizz\n",
      "Buzz\n",
      "26\n",
      "Fizz\n",
      "Boom\n",
      "29\n",
      "FizzBuzz\n",
      "31\n",
      "32\n",
      "Fizz\n",
      "34\n",
      "Buzz\n",
      "Fizz\n",
      "37\n",
      "38\n",
      "Fizz\n",
      "Buzz\n",
      "41\n",
      "Fizz\n",
      "43\n",
      "44\n",
      "FizzBuzz\n",
      "46\n",
      "47\n",
      "Fizz\n",
      "Boom\n",
      "Buzz\n",
      "Buzz\n",
      "51\n",
      "Fizz\n",
      "53\n",
      "54\n",
      "Buzz\n",
      "Fizz\n",
      "57\n",
      "58\n",
      "59\n",
      "FizzBuzz\n",
      "61\n",
      "62\n",
      "Boom\n",
      "Fizz\n",
      "Buzz\n",
      "66\n",
      "67\n",
      "Fizz\n",
      "69\n",
      "Buzz\n",
      "71\n",
      "Fizz\n",
      "73\n",
      "74\n",
      "Buzz\n",
      "Fizz\n",
      "Boom\n",
      "78\n",
      "79\n",
      "FizzBuzz\n",
      "81\n",
      "82\n",
      "83\n",
      "Fizz\n",
      "Buzz\n",
      "86\n",
      "87\n",
      "Fizz\n",
      "89\n",
      "Buzz\n",
      "Boom\n",
      "Fizz\n",
      "93\n",
      "94\n",
      "Buzz\n",
      "Fizz\n",
      "97\n",
      "Boom\n",
      "99\n",
      "FizzBuzz\n"
     ]
    }
   ],
   "source": [
    "i = 1\n",
    "\n",
    "while i <= 50:\n",
    "    if i % 3 == 0 and i % 5 == 0:\n",
    "        print(\"FizzBuzz\")\n",
    "    elif i % 3 == 0:\n",
    "        print(\"Fizz\")\n",
    "    elif i % 5 == 0:\n",
    "        print(\"Buzz\")\n",
    "    elif i % 7 == 0:\n",
    "        print(\"Boom\")\n",
    "    else:\n",
    "        print(i)\n",
    "    i += 1\n",
    "\n",
    "# Challenge: Range from 50 to 100, multiples of 4 instead of 3\n",
    "j = 50\n",
    "\n",
    "while j <= 100:\n",
    "    if j % 4 == 0 and j % 5 == 0:\n",
    "        print(\"FizzBuzz\")\n",
    "    elif j % 4 == 0:\n",
    "        print(\"Fizz\")\n",
    "    elif j % 5 == 0:\n",
    "        print(\"Buzz\")\n",
    "    elif j % 7 == 0:\n",
    "        print(\"Boom\")\n",
    "    else:\n",
    "        print(j)\n",
    "    j += 1\n"
   ]
  },
  {
   "cell_type": "code",
   "execution_count": 5,
   "metadata": {
    "vscode": {
     "languageId": "javascript"
    }
   },
   "outputs": [
    {
     "data": {
      "application/javascript": "\nlet correctUsername = \"user123\";\nlet correctPassword = \"pass123\";\nlet attempts = 3;\nlet securityAnswer = \"blue\";\n\ndo {\n    let enteredUsername = prompt(\"Enter your username: \");\n    let enteredPassword = prompt(\"Enter your password: \");\n    \n    if (enteredUsername === correctUsername && enteredPassword === correctPassword) {\n        console.log(\"Login successful!\");\n        break;\n    } else {\n        attempts--;\n        console.log(`Incorrect login. You have ${attempts} attempt(s) left.`);\n    }\n    \n    if (attempts === 0) {\n        let resetOption = prompt(\"Account locked. Do you want to reset your password? (yes/no)\");\n        \n        if (resetOption.toLowerCase() === \"yes\") {\n            let securityAnswerInput = prompt(\"What is your favorite color?\");\n            \n            if (securityAnswerInput.toLowerCase() === securityAnswer) {\n                let newPassword = prompt(\"Enter a new password: \");\n                correctPassword = newPassword;\n                console.log(\"Password has been reset. Try logging in again.\");\n                attempts = 3; // Reset attempts\n            } else {\n                console.log(\"Security answer is incorrect. Account remains locked.\");\n            }\n        } else {\n            console.log(\"Account locked. Please contact support.\");\n        }\n    }\n} while (attempts > 0);\n",
      "text/plain": [
       "<IPython.core.display.Javascript object>"
      ]
     },
     "metadata": {},
     "output_type": "display_data"
    }
   ],
   "source": [
    "%%js\n",
    "\n",
    "let correctUsername = \"user123\";\n",
    "let correctPassword = \"pass123\";\n",
    "let attempts = 3;\n",
    "let securityAnswer = \"blue\";\n",
    "\n",
    "do {\n",
    "    let enteredUsername = prompt(\"Enter your username: \");\n",
    "    let enteredPassword = prompt(\"Enter your password: \");\n",
    "    \n",
    "    if (enteredUsername === correctUsername && enteredPassword === correctPassword) {\n",
    "        console.log(\"Login successful!\");\n",
    "        break;\n",
    "    } else {\n",
    "        attempts--;\n",
    "        console.log(`Incorrect login. You have ${attempts} attempt(s) left.`);\n",
    "    }\n",
    "    \n",
    "    if (attempts === 0) {\n",
    "        let resetOption = prompt(\"Account locked. Do you want to reset your password? (yes/no)\");\n",
    "        \n",
    "        if (resetOption.toLowerCase() === \"yes\") {\n",
    "            let securityAnswerInput = prompt(\"What is your favorite color?\");\n",
    "            \n",
    "            if (securityAnswerInput.toLowerCase() === securityAnswer) {\n",
    "                let newPassword = prompt(\"Enter a new password: \");\n",
    "                correctPassword = newPassword;\n",
    "                console.log(\"Password has been reset. Try logging in again.\");\n",
    "                attempts = 3; // Reset attempts\n",
    "            } else {\n",
    "                console.log(\"Security answer is incorrect. Account remains locked.\");\n",
    "            }\n",
    "        } else {\n",
    "            console.log(\"Account locked. Please contact support.\");\n",
    "        }\n",
    "    }\n",
    "} while (attempts > 0);\n"
   ]
  },
  {
   "cell_type": "code",
   "execution_count": 6,
   "metadata": {},
   "outputs": [
    {
     "name": "stdout",
     "output_type": "stream",
     "text": [
      "Incorrect login. You have 2 attempt(s) left.\n",
      "Incorrect login. You have 1 attempt(s) left.\n",
      "Login successful!\n"
     ]
    }
   ],
   "source": [
    "correct_username = \"user123\"\n",
    "correct_password = \"pass123\"\n",
    "attempts = 3\n",
    "security_answer = \"blue\"\n",
    "\n",
    "while True:\n",
    "    entered_username = input(\"Enter your username: \")\n",
    "    entered_password = input(\"Enter your password: \")\n",
    "    \n",
    "    if entered_username == correct_username and entered_password == correct_password:\n",
    "        print(\"Login successful!\")\n",
    "        break\n",
    "    else:\n",
    "        attempts -= 1\n",
    "        print(f\"Incorrect login. You have {attempts} attempt(s) left.\")\n",
    "    \n",
    "    if attempts == 0:\n",
    "        reset_option = input(\"Account locked. Do you want to reset your password? (yes/no): \")\n",
    "        \n",
    "        if reset_option.lower() == \"yes\":\n",
    "            security_answer_input = input(\"What is your favorite color?: \")\n",
    "            \n",
    "            if security_answer_input.lower() == security_answer:\n",
    "                new_password = input(\"Enter a new password: \")\n",
    "                correct_password = new_password\n",
    "                print(\"Password has been reset. Try logging in again.\")\n",
    "                attempts = 3  # Reset attempts\n",
    "            else:\n",
    "                print(\"Security answer is incorrect. Account remains locked.\")\n",
    "                break\n",
    "        else:\n",
    "            print(\"Account locked. Please contact support.\")\n",
    "            break\n"
   ]
  },
  {
   "cell_type": "markdown",
   "metadata": {},
   "source": [
    "## Index Loops"
   ]
  },
  {
   "cell_type": "code",
   "execution_count": 7,
   "metadata": {},
   "outputs": [
    {
     "name": "stdout",
     "output_type": "stream",
     "text": [
      "0: Finish homework\n",
      "1: Go for a run\n",
      "2: Read a book\n",
      "3: Cook dinner\n",
      "4: Clean the house\n"
     ]
    }
   ],
   "source": [
    "# Task list\n",
    "tasks = [\"Finish homework\", \"Go for a run\", \"Read a book\", \"Cook dinner\", \"Clean the house\"]\n",
    "\n",
    "# Function to display tasks with their indices\n",
    "def display_tasks(task_list):\n",
    "    for index, task in enumerate(task_list):\n",
    "        print(f\"{index}: {task}\")\n",
    "\n",
    "# Function call to display tasks\n",
    "display_tasks(tasks)\n"
   ]
  },
  {
   "cell_type": "code",
   "execution_count": 8,
   "metadata": {
    "vscode": {
     "languageId": "javascript"
    }
   },
   "outputs": [
    {
     "data": {
      "application/javascript": "\n// Task list\nlet tasks = [\"Finish homework\", \"Go for a run\", \"Read a book\", \"Cook dinner\", \"Clean the house\"];\n\n// Function to display tasks with their indices\nfunction displayTasks(taskList) {\n    taskList.forEach((task, index) => {\n        console.log(`${index}: ${task}`);\n    });\n}\n\n// Function call to display tasks\ndisplayTasks(tasks);\n",
      "text/plain": [
       "<IPython.core.display.Javascript object>"
      ]
     },
     "metadata": {},
     "output_type": "display_data"
    }
   ],
   "source": [
    "%%js\n",
    "\n",
    "// Task list\n",
    "let tasks = [\"Finish homework\", \"Go for a run\", \"Read a book\", \"Cook dinner\", \"Clean the house\"];\n",
    "\n",
    "// Function to display tasks with their indices\n",
    "function displayTasks(taskList) {\n",
    "    taskList.forEach((task, index) => {\n",
    "        console.log(`${index}: ${task}`);\n",
    "    });\n",
    "}\n",
    "\n",
    "// Function call to display tasks\n",
    "displayTasks(tasks);\n"
   ]
  },
  {
   "cell_type": "markdown",
   "metadata": {},
   "source": [
    "## Continue and Break Hw\n"
   ]
  },
  {
   "cell_type": "code",
   "execution_count": 9,
   "metadata": {
    "vscode": {
     "languageId": "javascript"
    }
   },
   "outputs": [
    {
     "data": {
      "application/javascript": "\n// Loop through numbers starting from 0, incrementing by 2\nfor (let i = 0; i <= 20; i += 2) {\n    console.log(i);\n    \n    // Break the loop when the number reaches 10\n    if (i === 10) {\n        break;\n    }\n}\n",
      "text/plain": [
       "<IPython.core.display.Javascript object>"
      ]
     },
     "metadata": {},
     "output_type": "display_data"
    }
   ],
   "source": [
    "%%js\n",
    "\n",
    "// Loop through numbers starting from 0, incrementing by 2\n",
    "for (let i = 0; i <= 20; i += 2) {\n",
    "    console.log(i);\n",
    "    \n",
    "    // Break the loop when the number reaches 10\n",
    "    if (i === 10) {\n",
    "        break;\n",
    "    }\n",
    "}"
   ]
  },
  {
   "cell_type": "code",
   "execution_count": 10,
   "metadata": {},
   "outputs": [
    {
     "name": "stdout",
     "output_type": "stream",
     "text": [
      "This number is 1\n",
      "This number is 3\n",
      "This number is 5\n",
      "This number is 7\n",
      "This number is 9\n"
     ]
    }
   ],
   "source": [
    "# Loop through numbers from 0 to 10\n",
    "for i in range(11):\n",
    "    if i % 2 == 0:\n",
    "        continue  # Skip even numbers\n",
    "    \n",
    "    # Print message before each number\n",
    "    print(f\"This number is {i}\")\n"
   ]
  }
 ],
 "metadata": {
  "kernelspec": {
   "display_name": "venv",
   "language": "python",
   "name": "python3"
  },
  "language_info": {
   "codemirror_mode": {
    "name": "ipython",
    "version": 3
   },
   "file_extension": ".py",
   "mimetype": "text/x-python",
   "name": "python",
   "nbconvert_exporter": "python",
   "pygments_lexer": "ipython3",
   "version": "3.12.6"
  }
 },
 "nbformat": 4,
 "nbformat_minor": 2
}
