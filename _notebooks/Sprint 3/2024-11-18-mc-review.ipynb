{
 "cells": [
  {
   "cell_type": "markdown",
   "metadata": {},
   "source": [
    "# MC Review Blog"
   ]
  },
  {
   "cell_type": "markdown",
   "metadata": {},
   "source": [
    "Final score: 29/60"
   ]
  },
  {
   "cell_type": "markdown",
   "metadata": {},
   "source": [
    "## Missed topics breakdown"
   ]
  },
  {
   "cell_type": "markdown",
   "metadata": {},
   "source": [
    "4b x4\n",
    "1b\n",
    "2b x5\n",
    "5b x3\n",
    "5a\n",
    "5e x2\n",
    "3b x2\n",
    "2b x2\n",
    "1d x8\n",
    "4c x3\n",
    "3c x3\n",
    "1a\n",
    "1c\n",
    "5c\n"
   ]
  },
  {
   "cell_type": "markdown",
   "metadata": {},
   "source": [
    "## Analysis"
   ]
  },
  {
   "cell_type": "markdown",
   "metadata": {},
   "source": [
    "### Why did I make mistakes?"
   ]
  },
  {
   "cell_type": "markdown",
   "metadata": {},
   "source": [
    "The errors I committed were due mostly to two fundamental problems: defects in foundational understanding and complications in problem-solving methods. For example, difficult cases include code behavior interpretation-4.B, identification and correction of errors-4.C, and algorithm implementation-2.B, which many times were the result of lack of attention to detail and difficulty managing edge cases. Similarly, errors in questions involving abstraction (3.B, 3.C), computer systems (5.A), and derivation of knowledge from data (5.B) indicate an incomplete understanding of the key concepts and their applications. In addition, difficulties with solution evaluation (1.D) and ethical considerations (5.E) emphasize inadequacies within critical thinking, as well as the capacity to consider the effect of various factors on one another. These mistakes got worse because we were in a hurry when solving problems, misunderstood what was needed, and didn't try to break down tough problems into smaller, easier steps."
   ]
  },
  {
   "cell_type": "markdown",
   "metadata": {},
   "source": [
    "### Reflection on Growth"
   ]
  },
  {
   "cell_type": "markdown",
   "metadata": {},
   "source": [
    "Looking back, it is clear to me how these mistakes represent opportunities for development. In order to fill in the foundational gaps, I will review the most important concepts and practice their application through coding exercises, real-life examples, and challenges in debugging. To perform better problem-solving, I am going to slow down, investigate the tasks more carefully, and practice structured representations like pseudocode and flowcharts. Developing a systematic approach to evaluating solutions and ethical scenarios will enhance my decision-making and critical analysis. Also, reading through case studies, practicing those tough edge cases, and asking for feedback will build my improvement in understanding and doing those things. Head-on challenges will allow me to turn weak spots into strong ones and make me a more confident and skilled learner."
   ]
  }
 ],
 "metadata": {
  "kernelspec": {
   "display_name": "venv",
   "language": "python",
   "name": "python3"
  },
  "language_info": {
   "codemirror_mode": {
    "name": "ipython",
    "version": 3
   },
   "file_extension": ".py",
   "mimetype": "text/x-python",
   "name": "python",
   "nbconvert_exporter": "python",
   "pygments_lexer": "ipython3",
   "version": "3.12.6"
  }
 },
 "nbformat": 4,
 "nbformat_minor": 2
}
