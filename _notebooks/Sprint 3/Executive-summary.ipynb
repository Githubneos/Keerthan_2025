{
 "cells": [
  {
   "cell_type": "markdown",
   "metadata": {},
   "source": [
    "# Sprint 3 Executive Summary"
   ]
  },
  {
   "cell_type": "markdown",
   "metadata": {
    "vscode": {
     "languageId": "plaintext"
    }
   },
   "source": [
    "## Personal Journey"
   ]
  },
  {
   "cell_type": "markdown",
   "metadata": {
    "vscode": {
     "languageId": "plaintext"
    }
   },
   "source": [
    "Throughout Sprints 1, 2, and 3, my coding journey has been a deep dive into communication, foundational skills, and project-building. Sprint 1 focused on learning the basics of JavaScript and Python, where formatting messages with emojis and using data libraries helped me understand data types and effective communication. In Sprint 2, I strengthened my skills by preparing to teach a lesson on strings in both languages, which deepened my understanding and honed my ability to explain concepts clearly. Sprint 3 challenged me to apply this knowledge practically by creating a fully functional frontend and backend for a chat room and Zoom-n-Guess game, bringing together all my learning into a complete project. Each sprint has pushed me to grow technically and develops core skills for the future as well as soft skills that I employ in the real world such as communication and collaboration. "
   ]
  },
  {
   "cell_type": "markdown",
   "metadata": {},
   "source": [
    "## Evaluation"
   ]
  },
  {
   "cell_type": "code",
   "execution_count": null,
   "metadata": {
    "vscode": {
     "languageId": "plaintext"
    }
   },
   "outputs": [],
   "source": [
    "| **Assignment**                | **Points**    | **Grade** | **Evidence** |\n",
    "|-------------------------------|---------------|-----------|--------------|\n",
    "| Sprint 1-3 Review Ticket      | 4             |  0.92         | Sprint 1 and Sprint 2 review tickets were graded exceptionally by Mr.Mortenson. Both review tickets included all the required things and also I went above and beyond in my presentation by accurately explaining my mistakes and what I learned through these experiences.          |\n",
    "| Sprint 3 Team Issue(s)/Plan   | 4             |  0.9         |              |\n",
    "| Beginning-2-End Contribution  | 3             | 0.85          |    I tried to go above beyond, but ended up doing much and misinterpreting Mr.Mortenson directions, but I was able to learn and grow through asking questions and getting help through Mortenson. I was able to finish the back end and made my contributions to this project.         |\n",
    "| N@tM Team Presentation        | 4             |   0.9        |   Our N@M presentation was fantastic because the feedback was postive and and we got many comments on possible additions and improvements. Our presentation was well receieved by everyone who visiting .         |\n",
    "| Live Review Indi Demo         | 1             |           |              |\n",
    "| **Total**                     | 10            |           |              |\n",
    "\n",
    "| **Skill**                  | **Points**    | **Grade** | **Evidence** |\n",
    "|----------------------------|---------------|-----------|--------------|\n",
    "| Work Habits (Analytics)    | 3             |   0.85        | I contributed a lot to the project by learning the backend and implemneting it for our team.           |\n",
    "| Evidence of Role in Team   | 4             |    0.9       |          | \n",
    "| Function / Purpose Design  | 1             |           |              | \n",
    "| Live Review                | 2             |           |              | \n",
    "| **Total**                  | 5             |           |              |"
   ]
  }
 ],
 "metadata": {
  "language_info": {
   "name": "python"
  }
 },
 "nbformat": 4,
 "nbformat_minor": 2
}
