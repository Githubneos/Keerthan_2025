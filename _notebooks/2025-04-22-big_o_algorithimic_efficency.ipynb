{
 "cells": [
  {
   "cell_type": "markdown",
   "metadata": {},
   "source": [
    "# Big O and algorithimic efficency"
   ]
  },
  {
   "cell_type": "markdown",
   "metadata": {},
   "source": [
    "## Popcorn Hack 1"
   ]
  },
  {
   "cell_type": "markdown",
   "metadata": {},
   "source": [
    "- Use the modulus operator (%) to check if the remainder when divided by 2 is 0\n",
    "- Check if the last digit is 0, 2, 4, 6, or 8 manually\n",
    "\n",
    "These two methods are O(1) operations — they run in constant time regardless of the size of the number. The modulus operator is a direct mathematical approach, while checking the last digit is a quick shortcut that works for base-10 numbers (especially when dealing with strings or user input)."
   ]
  },
  {
   "cell_type": "markdown",
   "metadata": {},
   "source": [
    "## Popcorn hack 2"
   ]
  },
  {
   "cell_type": "code",
   "execution_count": null,
   "metadata": {},
   "outputs": [],
   "source": [
    "import time\n",
    "import bisect\n",
    "\n",
    "data_size = 1000000\n",
    "data = list(range(data_size))\n",
    "target = data_size - 1\n",
    "\n",
    "# Linear Search\n",
    "start = time.time()\n",
    "for i in range(len(data)):\n",
    "    if data[i] == target:\n",
    "        break\n",
    "end = time.time()\n",
    "linear_time = end - start\n",
    "print(f\"Linear search time: {linear_time:.6f} seconds\")\n",
    "\n",
    "# Binary Search\n",
    "start = time.time()\n",
    "index = bisect.bisect_left(data, target)\n",
    "if index != len(data) and data[index] == target:\n",
    "    pass\n",
    "end = time.time()\n",
    "binary_time = end - start\n",
    "print(f\"Binary search time: {binary_time:.6f} seconds\")\n",
    "\n",
    "# Performance ratio\n",
    "if binary_time > 0:\n",
    "    print(f\"Binary search is {linear_time / binary_time:.2f} times faster.\")\n",
    "else:\n",
    "    print(\"Binary search was too fast to measure accurately.\")\n"
   ]
  },
  {
   "cell_type": "markdown",
   "metadata": {},
   "source": [
    "## HW hack"
   ]
  },
  {
   "cell_type": "code",
   "execution_count": null,
   "metadata": {},
   "outputs": [],
   "source": [
    "import time\n",
    "import random\n",
    "\n",
    "# Bubble Sort\n",
    "def bubble_sort(arr):\n",
    "    n = len(arr)\n",
    "    for i in range(n):\n",
    "        for j in range(0, n-i-1):\n",
    "            if arr[j] > arr[j+1]:\n",
    "                arr[j], arr[j+1] = arr[j+1], arr[j]\n",
    "\n",
    "# Merge Sort\n",
    "def merge_sort(arr):\n",
    "    if len(arr) > 1:\n",
    "        mid = len(arr) // 2\n",
    "        left = arr[:mid]\n",
    "        right = arr[mid:]\n",
    "\n",
    "        merge_sort(left)\n",
    "        merge_sort(right)\n",
    "\n",
    "        i = j = k = 0\n",
    "        while i < len(left) and j < len(right):\n",
    "            if left[i] < right[j]:\n",
    "                arr[k] = left[i]\n",
    "                i += 1\n",
    "            else:\n",
    "                arr[k] = right[j]\n",
    "                j += 1\n",
    "            k += 1\n",
    "        while i < len(left):\n",
    "            arr[k] = left[i]\n",
    "            i += 1\n",
    "            k += 1\n",
    "        while j < len(right):\n",
    "            arr[k] = right[j]\n",
    "            j += 1\n",
    "            k += 1\n",
    "\n",
    "# Generate random list\n",
    "data = [random.randint(1, 1000) for _ in range(100)]\n",
    "\n",
    "# Copy for both algorithms\n",
    "data_bubble = data.copy()\n",
    "data_merge = data.copy()\n",
    "\n",
    "# Time Bubble Sort\n",
    "start = time.time()\n",
    "bubble_sort(data_bubble)\n",
    "end = time.time()\n",
    "bubble_time = end - start\n",
    "print(f\"Bubble Sort Time: {bubble_time:.6f} seconds\")\n",
    "\n",
    "# Time Merge Sort\n",
    "start = time.time()\n",
    "merge_sort(data_merge)\n",
    "end = time.time()\n",
    "merge_time = end - start\n",
    "print(f\"Merge Sort Time: {merge_time:.6f} seconds\")\n",
    "\n",
    "# Compare\n",
    "if merge_time < bubble_time:\n",
    "    print(\"✅ Merge Sort is faster.\")\n",
    "else:\n",
    "    print(\"✅ Bubble Sort is faster (surprising, but possible with small random data).\")\n"
   ]
  },
  {
   "cell_type": "markdown",
   "metadata": {},
   "source": [
    "## Hw Hack 2"
   ]
  },
  {
   "cell_type": "code",
   "execution_count": null,
   "metadata": {},
   "outputs": [],
   "source": [
    "import random\n",
    "\n",
    "# Linear Search\n",
    "def linear_search(arr, target):\n",
    "    count = 0\n",
    "    for i in range(len(arr)):\n",
    "        count += 1\n",
    "        if arr[i] == target:\n",
    "            return count\n",
    "    return -1  # not found\n",
    "\n",
    "# Binary Search\n",
    "def binary_search(arr, target):\n",
    "    left, right = 0, len(arr) - 1\n",
    "    count = 0\n",
    "    while left <= right:\n",
    "        count += 1\n",
    "        mid = (left + right) // 2\n",
    "        if arr[mid] == target:\n",
    "            return count\n",
    "        elif arr[mid] < target:\n",
    "            left = mid + 1\n",
    "        else:\n",
    "            right = mid - 1\n",
    "    return -1  # not found\n",
    "\n",
    "# Generate sorted list\n",
    "arr = list(range(1, 100001))  # 1 to 100,000\n",
    "\n",
    "# Pick a random number from the list\n",
    "target = random.choice(arr)\n",
    "print(f\"Target number: {target}\")\n",
    "\n",
    "# Run both searches\n",
    "linear_comparisons = linear_search(arr, target)\n",
    "binary_comparisons = binary_search(arr, target)\n",
    "\n",
    "# Results\n",
    "print(f\"Linear Search comparisons: {linear_comparisons}\")\n",
    "print(f\"Binary Search comparisons: {binary_comparisons}\")\n"
   ]
  }
 ],
 "metadata": {
  "language_info": {
   "name": "python"
  }
 },
 "nbformat": 4,
 "nbformat_minor": 2
}
