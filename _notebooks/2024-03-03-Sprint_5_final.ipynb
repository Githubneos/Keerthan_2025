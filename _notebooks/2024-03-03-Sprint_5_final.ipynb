{
 "cells": [
  {
   "cell_type": "markdown",
   "metadata": {},
   "source": [
    "# Final Blog Review"
   ]
  },
  {
   "cell_type": "markdown",
   "metadata": {},
   "source": [
    "## 5 things that I did"
   ]
  },
  {
   "cell_type": "markdown",
   "metadata": {},
   "source": [
    "- Burndown list\n",
    "    - show burndown list\n",
    "- Kanban Board\n",
    "    - show updated kanban board\n",
    "- Guess Game\n",
    "- Faciliatating communicating within group\n",
    "- Blind-Trace"
   ]
  },
  {
   "cell_type": "markdown",
   "metadata": {},
   "source": [
    "## Final thoughts and reflection "
   ]
  },
  {
   "cell_type": "markdown",
   "metadata": {},
   "source": [
    "### Struggles During AP CSP Class\n",
    "- Time Management: Balancing coding projects, MCQs, and written responses with other AP coursework.\n",
    "- Debugging Challenges: Fixing errors in JavaScript/Python code, especially logic errors that aren’t immediately obvious.\n",
    "- Understanding Abstract Concepts: Some topics like recursion, data structures, and APIs were difficult to grasp initially.\n",
    "- Collaboration Difficulties: Working with a group can be challenging when teammates have different skill levels or schedules.\n",
    "- Live Review & Presentations: Explaining code and projects in a structured way under time pressure.\n",
    "\n",
    "### Strengths During AP CSP Class\n",
    "- Problem-Solving: Debugging and finding solutions to coding problems efficiently.\n",
    "- Creativity in Projects: Coming up with unique ideas and implementing them in web apps and games.\n",
    "- Collaboration & Teamwork: Contributing to group projects and helping teammates with debugging.\n",
    "- Understanding Big Picture Concepts: Applying algorithms, conditionals, and loops in meaningful ways.\n",
    "- Resilience & Adaptability: Overcoming struggles in debugging, time constraints, and new coding challenges.\n",
    "- Technical Growth: Improved proficiency in Python, JavaScript, and using APIs."
   ]
  },
  {
   "cell_type": "markdown",
   "metadata": {},
   "source": [
    "## Self Grade"
   ]
  },
  {
   "cell_type": "markdown",
   "metadata": {},
   "source": [
    "Self-Grade: 9.5/10\n",
    "- 4.5/5 points: In my live review presentation, I will cover five key tasks I worked on over the past 12 weeks, including challenges I faced and how I managed them using my Kanban board's burndown lists. I met all the project requirements, but I could expand more on the collaborative aspects, as well as the coding and communication skills I developed through both my individual work and group contributions.\n",
    "- 2/2 points: My final Tri 2 blog will showcase images of working features and code snippets. I also reflected on the feedback from N@tM and how it will shape future improvements to the website.\n",
    "- 1/1 point: I wrote about my Guess Game and Blind Trace project features, incorporating terminology from the CPT requirements and FRQs to explain their functionality.\n",
    "- 1/1 point: I completed the MCQ and FRQ, documented my mistakes, identified areas for improvement, and outlined steps to strengthen my understanding.\n",
    "- 1/1 point: In my final blog, I discussed several presentations I watched, highlighting what I found interesting. I also reflected on my future in Computer Science, plans for further development of my website, and my personal strengths and weaknesses. Additionally, I prepared for the live review by practicing with another student from a different period and project (Zafeer)."
   ]
  },
  {
   "cell_type": "markdown",
   "metadata": {},
   "source": [
    "## CPT Requirement"
   ]
  },
  {
   "cell_type": "markdown",
   "metadata": {},
   "source": [
    "### Program Function & Purpose (Big Idea 1.1 & 1.2)\n",
    "- Guessing Game: Users input guesses based on images; backend verifies correctness and stores attempts.\n",
    "- Blind Trace Game: Users trace an image blindly; frontend evaluates similarity and records scores.\n",
    "- Implemented Agile & SCRUM: Used Kanban boards to track progress, address issues, and iterate on feedback.\n",
    "### Program Design & Development (Big Idea 1.3)\n",
    "- Frontend-Backend Integration:\n",
    "    - Guessing Game: User submits guesses; backend processes correctness.\n",
    "    - Blind Trace Game: User submits drawings; frontend scores similarity and stores results.\n",
    "- Design Documentation: Used flowcharts, UML diagrams, and planning docs for structured development.\n",
    "- Code Style & Documentation: Followed PEP 8, added comments, and maintained modular code.\n",
    "### Debugging & Testing (Big Idea 1.4)\n",
    "- Backend Debugging: Used Postman to test API functionality for guesses and submissions.\n",
    "- Frontend Debugging: Used browser DevTools for UI troubleshooting and error resolution.\n",
    "- Error Handling: Implemented validation for user inputs and API request responses.\n",
    "### Data & Storage (Big Idea 2)\n",
    "- Database (SQLite):\n",
    "    - Guessing Game: Stored guesses, player attempts, and correctness.\n",
    "    - Blind Trace Game: Recorded player scores, submissions, and past game history.\n",
    "- Data Retrieval: Used optimized queries to fetch and display game results efficiently.\n",
    "- Data Security: Ensured data integrity and protected stored records.\n",
    "### Internet & Deployment (Big Idea 4)\n",
    "- Hosting: Deployed using AWS, Nginx, and Docker for scalability and reliability.\n",
    "- RESTful API: Used GET, POST, DELETE requests to manage game interactions.\n",
    "- Security & Authentication: Implemented JWT for user verification and data protection.\n",
    "- Performance Optimization: Reduced unnecessary frontend re-renders and optimized backend queries.\n",
    "- Monitoring & Logging: Tracked user activity and application errors post-deployment."
   ]
  },
  {
   "cell_type": "markdown",
   "metadata": {},
   "source": [
    "## N@TM Feedback"
   ]
  },
  {
   "cell_type": "markdown",
   "metadata": {},
   "source": [
    "### **Feedback for Improving Both Games**  \n",
    "\n",
    "#### **Guessing Game**  \n",
    "✅ **What Works Well:**  \n",
    "- The game is simple and easy to understand.  \n",
    "- The guessing system works correctly, and responses update in real-time.  \n",
    "- The stats table allows users to track their past guesses, which is a nice touch.  \n",
    "\n",
    "🔧 **Improvements:**  \n",
    "- Add a hint system to help players when they’re stuck.  \n",
    "- Improve UI design to make the game look more engaging.  \n",
    "- Display correct answers after a few failed attempts.  \n",
    "- Add a timer or scoring system to make it more competitive.  \n",
    "\n",
    "#### **Blind Trace Game**  \n",
    "✅ **What Works Well:**  \n",
    "- The similarity grading system is a cool feature.  \n",
    "- Storing past drawings and scores makes the game feel more interactive.  \n",
    "- The ability to compare scores from past attempts adds a challenge.  \n",
    "\n",
    "🔧 **Improvements:**  \n",
    "- Improve grading accuracy—sometimes scores don’t feel fair.  \n",
    "- Add a replay or undo button in case of accidental mistakes.  \n",
    "- Allow players to compare their trace with the original image side-by-side.  \n",
    "- Make the drawing tools smoother for a better tracing experience.  \n"
   ]
  },
  {
   "cell_type": "markdown",
   "metadata": {},
   "source": [
    "## Future"
   ]
  },
  {
   "cell_type": "code",
   "execution_count": null,
   "metadata": {
    "vscode": {
     "languageId": "markdown"
    }
   },
   "outputs": [],
   "source": [
    "### **Next Steps in Computer Science**  \n",
    "- **Classes & Learning:** Planning to take advanced CS courses, such as AP CSA or college-level data structures & algorithms.  \n",
    "- **College & Career:** Interested in pursuing a major in engineering (likely aerospace, robotics, or control systems).  \n",
    "- **Internships & Experience:** Actively looking for research or internship opportunities related to optimization, computational mechanics, or AI applications in engineering.  \n",
    "- **Personal Projects:** Continue improving my web development skills and work on AI-related projects, possibly integrating machine learning into future applications.  \n"
   ]
  },
  {
   "cell_type": "code",
   "execution_count": null,
   "metadata": {
    "vscode": {
     "languageId": "markdown"
    }
   },
   "outputs": [],
   "source": [
    "## Individual strengths and Weaknesses"
   ]
  },
  {
   "cell_type": "markdown",
   "metadata": {},
   "source": [
    "### **Individual Strengths & Weaknesses**  \n",
    "✅ **Strengths:**  \n",
    "- Strong problem-solving and debugging skills, especially in backend development.  \n",
    "- Good understanding of API design and database management.  \n",
    "- Able to integrate frontend and backend smoothly.  \n",
    "- Willingness to learn and apply new tools/methods quickly.  \n",
    "\n",
    "🔧 **Weaknesses:**  \n",
    "- UI/UX design skills need improvement—making things look visually appealing is a challenge.  \n",
    "- Could improve communication and collaboration in group projects.  \n",
    "- Need to practice writing cleaner, more efficient code.  \n"
   ]
  },
  {
   "cell_type": "markdown",
   "metadata": {},
   "source": [
    "## Project Strengths and Weaknesses"
   ]
  },
  {
   "cell_type": "markdown",
   "metadata": {},
   "source": [
    "### **Project Reflection & Next Steps**  \n",
    "✅ **Project Strengths:**  \n",
    "- Successfully implemented API endpoints and database management.  \n",
    "- Games work as intended with functional features.  \n",
    "- Integrated a stats tracking system, making the game more interactive.  \n",
    "\n",
    "🔧 **Areas to Improve:**  \n",
    "- UI needs enhancements to make the game feel more polished and engaging.  \n",
    "- More feedback mechanisms (hints, scoring improvements) could improve user experience.  \n",
    "- Need to add more features for long-term engagement, like multiplayer functionality or a ranking system.  \n",
    "\n",
    "📌 **Next Steps:**  \n",
    "- Polish frontend design to improve user interaction.  \n",
    "- Fine-tune the grading algorithm for the Blind Trace Game to be more accurate.  \n",
    "- Explore adding real-time collaboration features.  \n",
    "- Look into AI-driven enhancements, like automatic feedback on drawings or smarter hint suggestions."
   ]
  },
  {
   "cell_type": "markdown",
   "metadata": {},
   "source": [
    "## Collaboration with Zafeer for Live Review & MC Corrections"
   ]
  },
  {
   "cell_type": "markdown",
   "metadata": {},
   "source": [
    "📌 **Live Review Preparation:**  \n",
    "- Zafeer and I practiced our live reviews together, ensuring we could present all required points within the **3-minute limit**.  \n",
    "- We provided each other with **feedback on clarity, pacing, and organization**, refining our presentations to make them more effective.  \n",
    "- We discussed how to **connect our projects to CPT requirements**, ensuring our explanations were aligned with AP CSP expectations.  \n",
    "\n",
    "📌 **Multiple-Choice Corrections:**  \n",
    "- We went over **MCQ mistakes together**, discussing why the correct answers were right and identifying patterns in our errors.  \n",
    "- We focused on improving **understanding of concepts rather than memorizing answers**, making sure we could apply our knowledge to similar problems.  \n",
    "- By explaining concepts to each other, we reinforced our understanding and **helped fill gaps in each other's knowledge**.  \n",
    "\n",
    "📌 **General Collaboration & Support:**  \n",
    "- We shared **project insights and feedback**, helping each other improve both our presentations and overall understanding of our code.  \n",
    "- Encouraged each other to think critically about our **strengths and weaknesses**, leading to better self-reflection for our live review.  \n",
    "- Practicing together helped us **gain confidence**, ensuring we were prepared to present effectively and respond to any questions.  \n",
    "\n",
    "This collaboration made the preparation process more efficient and engaging, ultimately improving our **understanding, communication skills, and project presentations**."
   ]
  },
  {
   "cell_type": "markdown",
   "metadata": {},
   "source": [
    "## Fullstack Demo"
   ]
  },
  {
   "cell_type": "markdown",
   "metadata": {},
   "source": [
    "### Guess"
   ]
  },
  {
   "cell_type": "markdown",
   "metadata": {
    "vscode": {
     "languageId": "html"
    }
   },
   "source": [
    "<img src=\"https://i.postimg.cc/h42HTSkx/Screenshot-2025-03-03-at-10-25-35-AM-2.png\" alt=\"Question 35 Image\" class=\"img-fluid\">\n"
   ]
  },
  {
   "cell_type": "markdown",
   "metadata": {},
   "source": [
    "<img src=\"https://i.postimg.cc/t4cr4JVR/Screenshot-2025-03-04-at-9-33-19-AM.png\" alt=\"Question 35 Image\" class=\"img-fluid\">\n"
   ]
  },
  {
   "cell_type": "markdown",
   "metadata": {},
   "source": [
    "### Blind-Trace"
   ]
  },
  {
   "cell_type": "markdown",
   "metadata": {},
   "source": [
    "<img src=\"https://i.postimg.cc/JhwbFkkX/Screenshot-2025-03-04-at-9-36-06-AM.png\" alt=\"Question 35 Image\" class=\"img-fluid\">"
   ]
  },
  {
   "cell_type": "markdown",
   "metadata": {},
   "source": [
    "<img src=\"https://i.postimg.cc/d1VKcLMs/Screenshot-2025-03-04-at-9-28-29-AM.png\" alt=\"Question 35 Image\" class=\"img-fluid\">"
   ]
  },
  {
   "cell_type": "markdown",
   "metadata": {},
   "source": [
    "## API code with CRUD operations"
   ]
  },
  {
   "cell_type": "markdown",
   "metadata": {},
   "source": [
    "- Blind-trace:"
   ]
  },
  {
   "cell_type": "code",
   "execution_count": null,
   "metadata": {},
   "outputs": [],
   "source": [
    "lass BlindTraceAPI:\n",
    "    class _Submission(Resource):\n",
    "        @token_required()\n",
    "        def post(self):\n",
    "            \"\"\"Submit a drawing, grade it using SSIM, and store the result\"\"\"\n",
    "            current_user = g.current_user\n",
    "            data = request.get_json()\n",
    "\n",
    "            # Validate request data\n",
    "            if not data or \"image_url\" not in data or \"drawing\" not in data:\n",
    "                return {\"message\": \"Missing required fields\", \"error\": \"Bad Request\"}, 400\n",
    "\n",
    "            try:\n",
    "                # Decode base64 drawing\n",
    "                drawing_data = base64.b64decode(data[\"drawing\"].split(\",\")[1])\n",
    "                drawing_img = Image.open(io.BytesIO(drawing_data)).convert(\"L\")  # Convert to grayscale\n",
    "\n",
    "                # Fetch reference image\n",
    "                reference_img = Image.open(io.BytesIO(requests.get(data[\"image_url\"]).content)).convert(\"L\")\n",
    "\n",
    "                # Resize to match dimensions\n",
    "                reference_img = reference_img.resize(drawing_img.size)\n",
    "\n",
    "                # Convert images to numpy arrays\n",
    "                drawing_arr = np.array(drawing_img)\n",
    "                reference_arr = np.array(reference_img)\n",
    "\n",
    "                # Compute Mean Squared Error (MSE)\n",
    "                mse = np.mean((drawing_arr - reference_arr) ** 2)\n",
    "                max_mse = np.prod(drawing_arr.shape) * 255**2  # Max possible MSE for 8-bit images\n",
    "                score = round(100 * (1 - mse / max_mse), 2)  # Normalize to percentage\n",
    "\n",
    "                # Save submission\n",
    "                submission = BlindTraceSubmission(\n",
    "                    user_id=current_user.id,\n",
    "                    image_url=data[\"image_url\"],\n",
    "                    drawing=data[\"drawing\"],\n",
    "                    score=score,\n",
    "                    submission_time=datetime.utcnow()\n",
    "                )\n",
    "                db.session.add(submission)\n",
    "                db.session.commit()\n",
    "\n",
    "                return {\n",
    "                    \"message\": \"Submission graded\",\n",
    "                    \"score\": score,\n",
    "                    \"submission\": submission.read()\n",
    "                }, 201\n",
    "\n",
    "            except Exception as e:\n",
    "                db.session.rollback()\n",
    "                traceback.print_exc()\n",
    "                return {\"message\": \"Internal Server Error\", \"error\": str(e)}, 500\n",
    "\n",
    "        @token_required()\n",
    "        def get(self):\n",
    "            \"\"\"Retrieve all past submissions for the current user\"\"\"\n",
    "            current_user = g.current_user\n",
    "            try:\n",
    "                submissions = BlindTraceSubmission.query.filter_by(user_id=current_user.id).all()\n",
    "                return {\n",
    "                    \"message\": \"Submissions retrieved successfully\",\n",
    "                    \"submissions\": [sub.read() for sub in submissions]\n",
    "                }, 200\n",
    "            except Exception as e:\n",
    "                traceback.print_exc()\n",
    "                return {\"message\": \"Internal Server Error\", \"error\": str(e)}, 500\n",
    "\n",
    "        @token_required()\n",
    "        def delete(self):\n",
    "            \"\"\"Delete a submission by ID\"\"\"\n",
    "            current_user = g.current_user\n",
    "            data = request.get_json()\n",
    "\n",
    "            if not data or \"id\" not in data:\n",
    "                return {\"message\": \"Missing required fields\", \"error\": \"Bad Request\"}, 400\n",
    "\n",
    "            try:\n",
    "                submission = BlindTraceSubmission.query.get(data[\"id\"])\n",
    "                if not submission:\n",
    "                    return {\"message\": \"Submission not found\", \"error\": \"Not Found\"}, 404\n",
    "                \n",
    "                if submission.user_id != current_user.id:\n",
    "                    return {\"message\": \"Unauthorized to delete this submission\", \"error\": \"Forbidden\"}, 403\n",
    "\n",
    "                db.session.delete(submission)\n",
    "                db.session.commit()\n",
    "\n",
    "                return {\"message\": \"Submission deleted successfully\"}, 200\n",
    "\n",
    "            except Exception as e:\n",
    "                db.session.rollback()\n",
    "                traceback.print_exc()\n",
    "                return {\"message\": \"Internal Server Error\", \"error\": str(e)}, 500\n",
    "\n",
    "    # Register API endpoint\n",
    "    api.add_resource(_Submission, '/submission')"
   ]
  },
  {
   "cell_type": "markdown",
   "metadata": {},
   "source": [
    "- Guess Game"
   ]
  },
  {
   "cell_type": "code",
   "execution_count": null,
   "metadata": {},
   "outputs": [],
   "source": [
    "class GuessAPI:\n",
    "    \"\"\"\n",
    "    API CRUD endpoints for the Guess model.\n",
    "    All endpoints require JWT authentication.\n",
    "    \"\"\"\n",
    "\n",
    "    class _CRUD(Resource):\n",
    "\n",
    "        @token_required()\n",
    "        def post(self):\n",
    "            \"\"\"Submit a guess and store it with user and correctness status\"\"\"\n",
    "            try:\n",
    "                current_user = g.current_user\n",
    "                data = request.get_json()\n",
    "\n",
    "                if not data or \"user_guess\" not in data or \"correct_word\" not in data:\n",
    "                    return jsonify({\"message\": \"Missing required fields\", \"error\": \"Bad Request\"}), 400\n",
    "\n",
    "                guess = data[\"user_guess\"].strip().lower()\n",
    "                correct_word = data[\"correct_word\"].strip().lower()\n",
    "                is_correct = (guess == correct_word)\n",
    "\n",
    "                word_guess = Guess(\n",
    "                    guesser_name=current_user.name,\n",
    "                    guess=guess,\n",
    "                    correct_answer=correct_word,\n",
    "                    is_correct=is_correct,\n",
    "                    created_by=current_user.id,\n",
    "                    date_created=datetime.utcnow()\n",
    "                )\n",
    "\n",
    "                db.session.add(word_guess)\n",
    "                db.session.commit()  # Commit to database\n",
    "\n",
    "                return jsonify({\n",
    "                    \"message\": \"Guess submitted successfully\",\n",
    "                    \"guess\": word_guess.read(),\n",
    "                    \"correct\": is_correct\n",
    "                }), 201\n",
    "\n",
    "            except Exception as e:\n",
    "                db.session.rollback()  # Rollback any failed transactions\n",
    "                print(\"Error occurred while submitting guess:\", str(e))\n",
    "                traceback.print_exc()  # Debugging\n",
    "                return jsonify({\"message\": \"Internal Server Error\", \"error\": str(e)}), 500\n",
    "                \n",
    "        @token_required()\n",
    "        def get(self):\n",
    "            \"\"\"Fetch all guesses for the current user\"\"\"\n",
    "            try:\n",
    "                current_user = g.current_user\n",
    "                guesses = Guess.query.filter_by(created_by=current_user.id).all()\n",
    "\n",
    "                if not guesses:\n",
    "                    return jsonify({\"message\": \"No guesses found\", \"recent_guesses\": []}), 200  \n",
    "\n",
    "                return jsonify({\n",
    "                    \"message\": \"Guesses fetched successfully\",\n",
    "                    \"recent_guesses\": [guess.read() for guess in guesses]\n",
    "                }), 200\n",
    "\n",
    "            except Exception as e:\n",
    "                print(\"Error occurred while fetching guesses:\", str(e))\n",
    "                traceback.print_exc()\n",
    "                return jsonify({\"message\": \"Internal Server Error\", \"error\": str(e)}), 500\n",
    "\n",
    "        @token_required()\n",
    "        def put(self):\n",
    "            \"\"\"Update an existing guess\"\"\"\n",
    "            try:\n",
    "                current_user = g.current_user\n",
    "                data = request.get_json()\n",
    "\n",
    "                if not data or \"id\" not in data or \"user_guess\" not in data or \"correct_word\" not in data:\n",
    "                    return jsonify({\"message\": \"Missing required fields\", \"error\": \"Bad Request\"}), 400\n",
    "\n",
    "                guess = Guess.query.get(data[\"id\"])\n",
    "                if not guess:\n",
    "                    return jsonify({\"message\": \"Guess not found\", \"error\": \"Not Found\"}), 404\n",
    "\n",
    "                if guess.created_by != current_user.id:\n",
    "                    return jsonify({\"message\": \"Unauthorized to update this guess\", \"error\": \"Forbidden\"}), 403\n",
    "\n",
    "                guess.guess = data[\"user_guess\"].strip().lower()\n",
    "                guess.correct_answer = data[\"correct_word\"].strip().lower()\n",
    "                guess.is_correct = (guess.guess == guess.correct_answer)\n",
    "                db.session.commit()  # Commit update\n",
    "\n",
    "                return jsonify({\"message\": \"Guess updated successfully\", \"guess\": guess.read()}), 200\n",
    "\n",
    "            except Exception as e:\n",
    "                db.session.rollback()\n",
    "                print(\"Error occurred while updating guess:\", str(e))\n",
    "                traceback.print_exc()\n",
    "                return jsonify({\"message\": \"Internal Server Error\", \"error\": str(e)}), 500\n",
    "\n",
    "        @token_required()\n",
    "        def delete(self):\n",
    "            \"\"\"Delete a guess\"\"\"\n",
    "            try:\n",
    "                current_user = g.current_user\n",
    "                data = request.get_json()\n",
    "\n",
    "                if not data or \"id\" not in data:\n",
    "                    return jsonify({\"message\": \"Missing required fields\", \"error\": \"Bad Request\"}), 400\n",
    "\n",
    "                guess = Guess.query.get(data[\"id\"])\n",
    "                if not guess:\n",
    "                    return jsonify({\"message\": \"Guess not found\", \"error\": \"Not Found\"}), 404\n",
    "\n",
    "                if guess.created_by != current_user.id:\n",
    "                    return jsonify({\"message\": \"Unauthorized to delete this guess\", \"error\": \"Forbidden\"}), 403\n",
    "\n",
    "                db.session.delete(guess)\n",
    "                db.session.commit()  # Commit delete\n",
    "\n",
    "                return jsonify({\"message\": \"Guess deleted successfully\"}), 200\n",
    "\n",
    "            except Exception as e:\n",
    "                db.session.rollback()\n",
    "                print(\"Error occurred while deleting guess:\", str(e))\n",
    "                traceback.print_exc()\n",
    "                return jsonify({\"message\": \"Internal Server Error\", \"error\": str(e)}), 500\n",
    "\n",
    "    # Register API endpoints\n",
    "    api.add_resource(_CRUD, '/guess')"
   ]
  },
  {
   "cell_type": "markdown",
   "metadata": {},
   "source": []
  }
 ],
 "metadata": {
  "kernelspec": {
   "display_name": "venv",
   "language": "python",
   "name": "python3"
  },
  "language_info": {
   "codemirror_mode": {
    "name": "ipython",
    "version": 3
   },
   "file_extension": ".py",
   "mimetype": "text/x-python",
   "name": "python",
   "nbconvert_exporter": "python",
   "pygments_lexer": "ipython3",
   "version": "3.12.6"
  }
 },
 "nbformat": 4,
 "nbformat_minor": 2
}
