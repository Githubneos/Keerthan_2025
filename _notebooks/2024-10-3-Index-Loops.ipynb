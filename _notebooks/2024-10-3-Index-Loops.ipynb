{
 "cells": [
  {
   "cell_type": "code",
   "execution_count": 1,
   "metadata": {},
   "outputs": [
    {
     "name": "stdout",
     "output_type": "stream",
     "text": [
      "Your To-Do List:\n",
      "1. wake up\n",
      "2. brush your teeth\n",
      "3. eat breakfast\n",
      "4. go to school\n",
      "5. gym\n"
     ]
    }
   ],
   "source": [
    "tasks = [\n",
    "    \"wake up\",\n",
    "    \"brush your teeth\",\n",
    "    \"eat breakfast\",\n",
    "    \"go to school\",\n",
    "    \"gym\"\n",
    "]\n",
    "\n",
    "# Function to display tasks with indices\n",
    "def display_tasks():\n",
    "    print(\"Your To-Do List:\")\n",
    "    for index in range(len(tasks)):\n",
    "        print(f\"{index + 1}. {tasks[index]}\")  # Display task with its index\n",
    "\n",
    "# Call the function\n",
    "display_tasks()"
   ]
  },
  {
   "cell_type": "code",
   "execution_count": 7,
   "metadata": {
    "vscode": {
     "languageId": "javascript"
    }
   },
   "outputs": [
    {
     "data": {
      "application/javascript": "// List of tasks\nconst tasks = [\n    \"wake up\",\n    \"brush your teeth\",\n    \"eat breakfast\",\n    \"go to school\",\n    \"gym\"\n];\n\n// Function to display tasks with indices\nfunction displayTasks() {\n    console.log(\"Your To-Do List:\");\n    for (let index = 0; index < tasks.length; index++) {\n        console.log(`${index + 1}. ${tasks[index]}`); // Display task with its index\n    }\n}\n\n// Call the function\ndisplayTasks();\n",
      "text/plain": [
       "<IPython.core.display.Javascript object>"
      ]
     },
     "metadata": {},
     "output_type": "display_data"
    }
   ],
   "source": [
    "%%javascript\n",
    "// List of tasks\n",
    "const tasks = [\n",
    "    \"wake up\",\n",
    "    \"brush your teeth\",\n",
    "    \"eat breakfast\",\n",
    "    \"go to school\",\n",
    "    \"gym\"\n",
    "];\n",
    "\n",
    "// Function to display tasks with indices\n",
    "function displayTasks() {\n",
    "    console.log(\"Your To-Do List:\");\n",
    "    for (let index = 0; index < tasks.length; index++) {\n",
    "        console.log(`${index + 1}. ${tasks[index]}`); // Display task with its index\n",
    "    }\n",
    "}\n",
    "\n",
    "// Call the function\n",
    "displayTasks();"
   ]
  }
 ],
 "metadata": {
  "kernelspec": {
   "display_name": "venv",
   "language": "python",
   "name": "python3"
  },
  "language_info": {
   "codemirror_mode": {
    "name": "ipython",
    "version": 3
   },
   "file_extension": ".py",
   "mimetype": "text/x-python",
   "name": "python",
   "nbconvert_exporter": "python",
   "pygments_lexer": "ipython3",
   "version": "3.12.6"
  }
 },
 "nbformat": 4,
 "nbformat_minor": 2
}
