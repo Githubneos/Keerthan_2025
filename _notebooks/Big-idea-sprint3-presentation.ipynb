{
 "cells": [
  {
   "cell_type": "markdown",
   "metadata": {},
   "source": [
    "# Big Idea 3 Final Presentation"
   ]
  },
  {
   "cell_type": "markdown",
   "metadata": {
    "vscode": {
     "languageId": "plaintext"
    }
   },
   "source": [
    "## Lessons Summary\n",
    "- **Creating Strings**: \n",
    "  - Use single quotes (`' '`), double quotes (`\" \"`), or backticks (````) for creating strings. \n",
    "  - Backticks (template literals) allow embedding JavaScript expressions using `${expression}`.\n",
    "\n",
    "- **Concatenation**: \n",
    "  - Combine strings using the `+` operator or by embedding variables into template literals with `${}`.\n",
    "\n",
    "- **String Interpolation**: \n",
    "  - Template literals with backticks provide a cleaner way to insert variables or expressions directly into a string.\n",
    "\n",
    "- **Indexing**: \n",
    "  - Access individual characters in a string using square brackets (`[]`) or the `.at()` method. \n",
    "  - `at()` also supports negative indices.\n",
    "\n",
    "- **Substrings with `slice()`**: \n",
    "  - Extract parts of a string using `slice(startIndex, endIndex)`.\n",
    "\n",
    "- **Escape Characters**: \n",
    "  - Use `\\` for special characters like:\n",
    "    - `\\n` for new line\n",
    "    - `\\t` for tab\n",
    "    - `\\\\` for backslash\n",
    "    - Unicode characters (e.g., `\\u2731` outputs ✱)\n",
    "\n"
   ]
  },
  {
   "cell_type": "markdown",
   "metadata": {},
   "source": [
    "## Javascript Examples"
   ]
  },
  {
   "cell_type": "markdown",
   "metadata": {},
   "source": [
    "## Creating Strings"
   ]
  },
  {
   "cell_type": "code",
   "execution_count": null,
   "metadata": {
    "vscode": {
     "languageId": "javascript"
    }
   },
   "outputs": [],
   "source": [
    "%%js\n",
    "// Using different methods to create strings\n",
    "let singleQuoteString = 'Hello, World!'; // Single quotes\n",
    "let doubleQuoteString = \"Welcome to JavaScript!\"; // Double quotes\n",
    "let name = \"Alice\";\n",
    "let greeting = `Hello, ${name}!`; // Template literal for interpolation\n",
    "\n",
    "console.log(singleQuoteString);\n",
    "console.log(doubleQuoteString);\n",
    "console.log(greeting);"
   ]
  },
  {
   "cell_type": "markdown",
   "metadata": {},
   "source": [
    "## Concatenation"
   ]
  },
  {
   "cell_type": "code",
   "execution_count": null,
   "metadata": {
    "vscode": {
     "languageId": "javascript"
    }
   },
   "outputs": [],
   "source": [
    "%%js\n",
    "// Combining strings using the + operator\n",
    "let part1 = \"I love \";\n",
    "let part2 = \"coding!\";\n",
    "let combinedMessage = part1 + part2; // Outputs: \"I love coding!\"\n",
    "\n",
    "// Using template literals for concatenation\n",
    "let favoriteLanguage = \"JavaScript\";\n",
    "let message = `My favorite programming language is ${favoriteLanguage}.`;\n",
    "\n",
    "console.log(combinedMessage);\n",
    "console.log(message);"
   ]
  },
  {
   "cell_type": "markdown",
   "metadata": {},
   "source": [
    "## String Interpolation"
   ]
  },
  {
   "cell_type": "code",
   "execution_count": null,
   "metadata": {
    "vscode": {
     "languageId": "javascript"
    }
   },
   "outputs": [],
   "source": [
    "%%js\n",
    "// Using backticks for cleaner interpolation\n",
    "let hobby = \"painting\";\n",
    "let age = 25;\n",
    "let intro = `Hello, I'm ${age} years old and I love ${hobby}.`;\n",
    "\n",
    "console.log(intro); // Outputs: \"Hello, I'm 25 years old and I love painting.\""
   ]
  },
  {
   "cell_type": "markdown",
   "metadata": {},
   "source": [
    "## Indexing"
   ]
  },
  {
   "cell_type": "code",
   "execution_count": null,
   "metadata": {
    "vscode": {
     "languageId": "javascript"
    }
   },
   "outputs": [],
   "source": [
    "%%js\n",
    "// Accessing individual characters in a string\n",
    "let fruit = \"Banana\";\n",
    "console.log(fruit[1]); // Outputs: \"a\"\n",
    "console.log(fruit.at(1)); // Outputs: \"a\"\n",
    "console.log(fruit.at(-1)); // Outputs: \"a\" (last character)"
   ]
  },
  {
   "cell_type": "markdown",
   "metadata": {},
   "source": [
    "## Substrings"
   ]
  },
  {
   "cell_type": "code",
   "execution_count": null,
   "metadata": {
    "vscode": {
     "languageId": "javascript"
    }
   },
   "outputs": [],
   "source": [
    "%%js\n",
    "// Extracting parts of a string using slice()\n",
    "let sentence = \"Learning JavaScript is fun!\";\n",
    "console.log(sentence.slice(0, 8)); // Outputs: \"Learning\"\n",
    "console.log(sentence.slice(-4)); // Outputs: \"fun!\""
   ]
  },
  {
   "cell_type": "markdown",
   "metadata": {},
   "source": [
    "## Escape Characters"
   ]
  },
  {
   "cell_type": "code",
   "execution_count": null,
   "metadata": {
    "vscode": {
     "languageId": "javascript"
    }
   },
   "outputs": [],
   "source": [
    "%%js\n",
    "// Using escape characters for formatting\n",
    "let specialMessage = \"Hello,\\nWelcome to the world of JavaScript!\\nEnjoy coding!\\tHave fun!\";\n",
    "console.log(specialMessage);\n",
    "\n",
    "// Displaying a Unicode character\n",
    "console.log(\"Here's a star: \\u2731\"); // Outputs: Here's a star: ✱"
   ]
  },
  {
   "cell_type": "markdown",
   "metadata": {},
   "source": [
    "# Python Examples"
   ]
  },
  {
   "cell_type": "markdown",
   "metadata": {},
   "source": [
    "## Creating Strings"
   ]
  },
  {
   "cell_type": "code",
   "execution_count": null,
   "metadata": {},
   "outputs": [],
   "source": [
    "# Using different methods to create strings\n",
    "single_quote_string = 'Hello, World!'  # Single quotes\n",
    "double_quote_string = \"Welcome to Python!\"  # Double quotes\n",
    "name = \"Alice\"\n",
    "greeting = f'Hello, {name}!'  # F-string for interpolation\n",
    "\n",
    "print(single_quote_string)\n",
    "print(double_quote_string)\n",
    "print(greeting)"
   ]
  },
  {
   "cell_type": "markdown",
   "metadata": {},
   "source": [
    "## Concatentation"
   ]
  },
  {
   "cell_type": "code",
   "execution_count": null,
   "metadata": {},
   "outputs": [],
   "source": [
    "# Combining strings using the + operator\n",
    "part1 = \"I love \"\n",
    "part2 = \"coding!\"\n",
    "combined_message = part1 + part2  # Outputs: \"I love coding!\"\n",
    "\n",
    "# Using f-strings for concatenation\n",
    "favorite_language = \"Python\"\n",
    "message = f'My favorite programming language is {favorite_language}.'\n",
    "\n",
    "print(combined_message)\n",
    "print(message)"
   ]
  },
  {
   "cell_type": "markdown",
   "metadata": {},
   "source": [
    "## String Interpolation"
   ]
  },
  {
   "cell_type": "code",
   "execution_count": null,
   "metadata": {},
   "outputs": [],
   "source": [
    "# Using f-strings for cleaner interpolation\n",
    "hobby = \"painting\"\n",
    "age = 25\n",
    "intro = f'Hello, I\\'m {age} years old and I love {hobby}.'\n",
    "\n",
    "print(intro)  # Outputs: \"Hello, I'm 25 years old and I love painting.\""
   ]
  },
  {
   "cell_type": "markdown",
   "metadata": {},
   "source": [
    "## Indexing"
   ]
  },
  {
   "cell_type": "code",
   "execution_count": null,
   "metadata": {},
   "outputs": [],
   "source": [
    "# Accessing individual characters in a string\n",
    "fruit = \"Banana\"\n",
    "print(fruit[1])  # Outputs: \"a\"\n",
    "print(fruit[-1])  # Outputs: \"a\" (last character)"
   ]
  },
  {
   "cell_type": "markdown",
   "metadata": {},
   "source": [
    "## Substrings"
   ]
  },
  {
   "cell_type": "code",
   "execution_count": null,
   "metadata": {},
   "outputs": [],
   "source": [
    "# Accessing individual characters in a string\n",
    "fruit = \"Banana\"\n",
    "print(fruit[1])  # Outputs: \"a\"\n",
    "print(fruit[-1])  # Outputs: \"a\" (last character)"
   ]
  },
  {
   "cell_type": "markdown",
   "metadata": {},
   "source": [
    "## Escaping Characters"
   ]
  },
  {
   "cell_type": "code",
   "execution_count": null,
   "metadata": {},
   "outputs": [],
   "source": [
    "# Accessing individual characters in a string\n",
    "fruit = \"Banana\"\n",
    "print(fruit[1])  # Outputs: \"a\"\n",
    "print(fruit[-1])  # Outputs: \"a\" (last character)"
   ]
  }
 ],
 "metadata": {
  "language_info": {
   "name": "python"
  }
 },
 "nbformat": 4,
 "nbformat_minor": 2
}
