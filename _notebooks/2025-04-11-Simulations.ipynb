{
 "cells": [
  {
   "cell_type": "markdown",
   "metadata": {},
   "source": [
    "## Homework hack 1"
   ]
  },
  {
   "cell_type": "code",
   "execution_count": null,
   "metadata": {},
   "outputs": [],
   "source": [
    "import random\n",
    "\n",
    "def roll_dice():\n",
    "    \"\"\"Roll two dice and return their values and sum.\"\"\"\n",
    "    die1 = random.randint(1, 6)\n",
    "    die2 = random.randint(1, 6)\n",
    "    total = die1 + die2\n",
    "    print(f\"You rolled {die1} + {die2} = {total}\")\n",
    "    return total\n",
    "\n",
    "def play_dice_game():\n",
    "    \"\"\"\n",
    "    Play one round of the dice game.\n",
    "    Returns True if player wins, False if player loses.\n",
    "    \"\"\"\n",
    "    first_roll = roll_dice()\n",
    "    \n",
    "    if first_roll in (7, 11):\n",
    "        print(\"You win!\")\n",
    "        return True\n",
    "    elif first_roll in (2, 3, 12):\n",
    "        print(\"Craps! You lose!\")\n",
    "        return False\n",
    "    else:\n",
    "        point = first_roll\n",
    "        print(f\"Point is set to {point}. Keep rolling until you roll {point} (win) or 7 (lose).\")\n",
    "        \n",
    "        while True:\n",
    "            roll = roll_dice()\n",
    "            if roll == point:\n",
    "                print(\"You rolled the point again! You win!\")\n",
    "                return True\n",
    "            elif roll == 7:\n",
    "                print(\"You rolled a 7. You lose!\")\n",
    "                return False\n",
    "\n",
    "def main():\n",
    "    \"\"\"Main game function with game loop and statistics.\"\"\"\n",
    "    wins = 0\n",
    "    losses = 0\n",
    "    \n",
    "    while True:\n",
    "        choice = input(\"Do you want to play a round? (y/n): \").strip().lower()\n",
    "        if choice == 'y':\n",
    "            result = play_dice_game()\n",
    "            if result:\n",
    "                wins += 1\n",
    "            else:\n",
    "                losses += 1\n",
    "            print(f\"Current Stats: Wins: {wins}, Losses: {losses}\\n\")\n",
    "        elif choice == 'n':\n",
    "            print(\"\\nFinal Stats:\")\n",
    "            print(f\"Wins: {wins}, Losses: {losses}\")\n",
    "            print(\"Thanks for playing!\")\n",
    "            break\n",
    "        else:\n",
    "            print(\"Invalid input. Please enter 'y' or 'n'.\")\n",
    "\n",
    "if __name__ == \"__main__\":\n",
    "    print(\"Welcome to the Dice Game!\")\n",
    "    main()\n"
   ]
  },
  {
   "cell_type": "markdown",
   "metadata": {},
   "source": [
    "## Popcorn hack 1"
   ]
  },
  {
   "cell_type": "markdown",
   "metadata": {},
   "source": [
    "1. **Cryptography**:  \n",
    "   Random numbers are critical for generating secure encryption keys, passwords, and tokens. If the numbers aren’t truly random, attackers could predict them and compromise sensitive data. High-quality randomness ensures secure communication and data protection.\n",
    "\n",
    "2. **Simulations (e.g., Weather Forecasting or Stock Market Modeling)**:  \n",
    "   Random numbers are used to model uncertainty and variability in complex systems. For example, weather models use randomness to simulate atmospheric changes, and financial models use it to predict market fluctuations and risk scenarios.\n"
   ]
  },
  {
   "cell_type": "markdown",
   "metadata": {},
   "source": [
    "## Popcorn hack 2"
   ]
  },
  {
   "cell_type": "code",
   "execution_count": null,
   "metadata": {},
   "outputs": [],
   "source": [
    "import random\n",
    "\n",
    "def magic_8_ball():\n",
    "    \"\"\"\n",
    "    Simulates a Magic 8-Ball response:\n",
    "    - Returns \"Yes\" ~50% of the time\n",
    "    - Returns \"No\" ~25% of the time\n",
    "    - Returns \"Ask again later\" ~25% of the time\n",
    "    \"\"\"\n",
    "    roll = random.randint(1, 4)  # Generates a number between 1 and 4\n",
    "    if roll in (1, 2):\n",
    "        return \"Yes\"\n",
    "    elif roll == 3:\n",
    "        return \"No\"\n",
    "    else:\n",
    "        return \"Ask again later\"\n",
    "\n",
    "# Example usage\n",
    "for _ in range(10):\n",
    "    print(magic_8_ball())\n"
   ]
  },
  {
   "cell_type": "markdown",
   "metadata": {},
   "source": [
    "## popcorn hack 3"
   ]
  },
  {
   "cell_type": "code",
   "execution_count": null,
   "metadata": {},
   "outputs": [],
   "source": [
    "def traffic_light_simulation():\n",
    "    cycle = [\"Green\"] * 5 + [\"Yellow\"] * 2 + [\"Red\"] * 4  # Full cycle = 11 steps\n",
    "    for step in range(20):\n",
    "        light = cycle[step % len(cycle)]  # Loop through the cycle\n",
    "        print(f\"Time step {step + 1}: {light}\")\n",
    "\n",
    "traffic_light_simulation()\n"
   ]
  },
  {
   "cell_type": "markdown",
   "metadata": {},
   "source": [
    "This is a simulation because it models the behavior of a traffic light system over time without using a real traffic light. Its real-world impact includes helping engineers test timing sequences and improve traffic flow and safety before actual implementation in intersections."
   ]
  }
 ],
 "metadata": {
  "language_info": {
   "name": "python"
  }
 },
 "nbformat": 4,
 "nbformat_minor": 2
}
