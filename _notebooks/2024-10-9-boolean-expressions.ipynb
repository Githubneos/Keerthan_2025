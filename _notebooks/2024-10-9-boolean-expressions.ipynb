{
 "cells": [
  {
   "cell_type": "markdown",
   "metadata": {},
   "source": [
    "## Popcorn hack"
   ]
  },
  {
   "cell_type": "code",
   "execution_count": 5,
   "metadata": {},
   "outputs": [
    {
     "name": "stdout",
     "output_type": "stream",
     "text": [
      "You studied, so you did good: True\n",
      "You did good, so you studied.\n"
     ]
    }
   ],
   "source": [
    "def studied():\n",
    "    return True  # Condition A: You studied\n",
    "\n",
    "def did_good():\n",
    "    return True  # Condition B: You did good\n",
    "\n",
    "# Original statement: if you studied, then you did good\n",
    "if studied():\n",
    "    print(\"You studied, so you did good:\", did_good())\n",
    "else:\n",
    "    print(\"You did not study, we cannot conclude anything about how well you did.\")\n",
    "\n",
    "# Contrapositive: if you did not do good, then you did not study\n",
    "if not did_good():\n",
    "    print(\"You did not do good, therefore you did not study:\", not studied())\n",
    "else:\n",
    "    print(\"You did good, so you studied.\")\n"
   ]
  },
  {
   "cell_type": "code",
   "execution_count": 3,
   "metadata": {
    "vscode": {
     "languageId": "javascript"
    }
   },
   "outputs": [
    {
     "data": {
      "application/javascript": "function studied() {\n    return true;  // Condition A: You studied\n}\n\nfunction didGood() {\n    return true;  // Condition B: You did good\n}\n\n// Original statement: if you studied, then you did good\nif (studied()) {\n    console.log(\"You studied, so you did good:\", didGood());\n} else {\n    console.log(\"You did not study, we cannot conclude anything about how well you did.\");\n}\n\n// Contrapositive: if you did not do good, then you did not study\nif (!didGood()) {\n    console.log(\"You did not do good, therefore you did not study:\", !studied());\n} else {\n    console.log(\"You did good, we cannot conclude anything about whether you studied.\");\n",
      "text/plain": [
       "<IPython.core.display.Javascript object>"
      ]
     },
     "metadata": {},
     "output_type": "display_data"
    }
   ],
   "source": [
    "%%js\n",
    "function studied() {\n",
    "    return true;  // Condition A: You studied\n",
    "}\n",
    "\n",
    "function didGood() {\n",
    "    return true;  // Condition B: You did good\n",
    "}\n",
    "\n",
    "// Original statement: if you studied, then you did good\n",
    "if (studied()) {\n",
    "    console.log(\"You studied, so you did good:\", didGood());\n",
    "} else {\n",
    "    console.log(\"You did not study, we cannot conclude anything about how well you did.\");\n",
    "}\n",
    "\n",
    "// Contrapositive: if you did not do good, then you did not study\n",
    "if (!didGood()) {\n",
    "    console.log(\"You did not do good, therefore you did not study:\", !studied());\n",
    "} else {\n",
    "    console.log(\"You did good, we cannot conclude anything about whether you studied.\");\n"
   ]
  },
  {
   "cell_type": "markdown",
   "metadata": {
    "vscode": {
     "languageId": "javascript"
    }
   },
   "source": [
    "## Homework hacks"
   ]
  },
  {
   "cell_type": "code",
   "execution_count": 6,
   "metadata": {
    "vscode": {
     "languageId": "javascript"
    }
   },
   "outputs": [
    {
     "name": "stdout",
     "output_type": "stream",
     "text": [
      "X     Y | BOTH | EITHER | INVERT X\n",
      "----------------------------------\n",
      "1     1     | 1     | 1      | False\n",
      "1     0     | 0     | 1      | False\n",
      "0     1     | 0     | 1      | True\n",
      "0     0     | 0     | 0      | True\n"
     ]
    }
   ],
   "source": [
    "def BOTH(X, Y):\n",
    "    return X and Y\n",
    "\n",
    "def EITHER(X, Y):\n",
    "    return X or Y\n",
    "\n",
    "def INVERT(X):\n",
    "    return not X\n",
    "\n",
    "print(\"X     Y | BOTH | EITHER | INVERT X\")\n",
    "print(\"----------------------------------\")\n",
    "for X in [True, False]:\n",
    "    for Y in [True, False]:\n",
    "        print(f\"{X:<5} {Y:<5} | {BOTH(X, Y):<5} | {EITHER(X, Y):<6} | {INVERT(X)}\")\n",
    "\n",
    "# Output format:\n",
    "# X     Y | BOTH | EITHER | INVERT X\n",
    "# ----------------------------------\n",
    "# 1     1     | 1    | 1     | False\n",
    "# 1     0     | 0    | 1     | False\n",
    "# 0     1     | 0    | 1     | True\n",
    "# 0     0     | 0    | 0     | True"
   ]
  }
 ],
 "metadata": {
  "kernelspec": {
   "display_name": "venv",
   "language": "python",
   "name": "python3"
  },
  "language_info": {
   "codemirror_mode": {
    "name": "ipython",
    "version": 3
   },
   "file_extension": ".py",
   "mimetype": "text/x-python",
   "name": "python",
   "nbconvert_exporter": "python",
   "pygments_lexer": "ipython3",
   "version": "3.12.6"
  }
 },
 "nbformat": 4,
 "nbformat_minor": 2
}
