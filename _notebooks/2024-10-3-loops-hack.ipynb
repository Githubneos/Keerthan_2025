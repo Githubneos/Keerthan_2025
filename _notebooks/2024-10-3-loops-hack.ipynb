{
 "cells": [
  {
   "cell_type": "code",
   "execution_count": 1,
   "metadata": {},
   "outputs": [
    {
     "name": "stdout",
     "output_type": "stream",
     "text": [
      "🍎\n",
      "🍊\n",
      "🍌\n",
      "🍉\n"
     ]
    }
   ],
   "source": [
    "fruits = ['🍎', '🍊', '🍌', '🍉']\n",
    "\n",
    "for fruit in fruits:\n",
    "    print(fruit)"
   ]
  },
  {
   "cell_type": "markdown",
   "metadata": {},
   "source": [
    "## Homework Hacks"
   ]
  },
  {
   "cell_type": "code",
   "execution_count": 1,
   "metadata": {},
   "outputs": [
    {
     "name": "stdout",
     "output_type": "stream",
     "text": [
      "Fruits List:\n",
      "Apple\n",
      "Banana\n",
      "Mango\n",
      "Orange\n",
      "\n",
      "Person Information:\n",
      "name: Alice\n",
      "age: 25\n",
      "country: USA\n"
     ]
    }
   ],
   "source": [
    "# Python Loop through a list\n",
    "fruits = [\"Apple\", \"Banana\", \"Mango\", \"Orange\"]\n",
    "\n",
    "print(\"Fruits List:\")\n",
    "for fruit in fruits:\n",
    "    print(fruit)\n",
    "\n",
    "# Python Loop through a dictionary\n",
    "person = {\n",
    "    \"name\": \"Alice\",\n",
    "    \"age\": 25,\n",
    "    \"country\": \"USA\"\n",
    "}\n",
    "\n",
    "print(\"\\nPerson Information:\")\n",
    "for key, value in person.items():\n",
    "    print(f\"{key}: {value}\")\n"
   ]
  },
  {
   "cell_type": "code",
   "execution_count": 7,
   "metadata": {
    "vscode": {
     "languageId": "javascript"
    }
   },
   "outputs": [
    {
     "data": {
      "application/javascript": "\n// JavaScript Loop through an array\nlet fruits = [\"Apple\", \"Banana\", \"Mango\", \"Orange\"];\n\nconsole.log(\"Fruits List:\");\nfor (let i = 0; i < fruits.length; i++) {\n    console.log(fruits[i]);\n}\n\n// JavaScript Loop through a dictionary (object)\nlet person = {\n    name: \"Alice\",\n    age: 25,\n    country: \"USA\"\n};\n\nconsole.log(\"\\nPerson Information:\");\nfor (let key in person) {\n    console.log(key + \": \" + person[key]);\n}\n",
      "text/plain": [
       "<IPython.core.display.Javascript object>"
      ]
     },
     "metadata": {},
     "output_type": "display_data"
    }
   ],
   "source": [
    "%%js\n",
    "\n",
    "// JavaScript Loop through an array\n",
    "let fruits = [\"Apple\", \"Banana\", \"Mango\", \"Orange\"];\n",
    "\n",
    "console.log(\"Fruits List:\");\n",
    "for (let i = 0; i < fruits.length; i++) {\n",
    "    console.log(fruits[i]);\n",
    "}\n",
    "\n",
    "// JavaScript Loop through a dictionary (object)\n",
    "let person = {\n",
    "    name: \"Alice\",\n",
    "    age: 25,\n",
    "    country: \"USA\"\n",
    "};\n",
    "\n",
    "console.log(\"\\nPerson Information:\");\n",
    "for (let key in person) {\n",
    "    console.log(key + \": \" + person[key]);\n",
    "}\n"
   ]
  }
 ],
 "metadata": {
  "kernelspec": {
   "display_name": "venv",
   "language": "python",
   "name": "python3"
  },
  "language_info": {
   "codemirror_mode": {
    "name": "ipython",
    "version": 3
   },
   "file_extension": ".py",
   "mimetype": "text/x-python",
   "name": "python",
   "nbconvert_exporter": "python",
   "pygments_lexer": "ipython3",
   "version": "3.12.6"
  }
 },
 "nbformat": 4,
 "nbformat_minor": 2
}
