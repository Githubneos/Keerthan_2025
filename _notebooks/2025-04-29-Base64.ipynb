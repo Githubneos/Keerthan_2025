{
 "cells": [
  {
   "cell_type": "markdown",
   "metadata": {},
   "source": [
    "# Base 64"
   ]
  },
  {
   "cell_type": "markdown",
   "metadata": {},
   "source": [
    "## Popcorn hacks 1"
   ]
  },
  {
   "cell_type": "markdown",
   "metadata": {},
   "source": [
    "1️⃣ **Which image format is best for logos and transparency?**  \n",
    "**PNG** – It supports high-quality images with transparency (alpha channel) and is lossless, making it ideal for logos and graphics with sharp edges.\n",
    "\n",
    "2️⃣ **Which format loses quality to make the file size smaller?**  \n",
    "**JPEG (or JPG)** – It uses **lossy compression**, which reduces file size by discarding some image data, often resulting in visible quality loss at higher compression levels.\n",
    "\n",
    "3️⃣ **Which format is used for simple animations, like memes?**  \n",
    "**GIF** – It supports simple **frame-based animations**, commonly used for short loops and memes. However, it’s limited to 256 colors."
   ]
  },
  {
   "cell_type": "markdown",
   "metadata": {},
   "source": [
    "## Popcorn Hacks 2"
   ]
  },
  {
   "cell_type": "markdown",
   "metadata": {},
   "source": [
    "The Base64 string `U1Q=` decodes to:\n",
    "\n",
    "```\n",
    "ST\n",
    "```"
   ]
  },
  {
   "cell_type": "markdown",
   "metadata": {},
   "source": [
    "## Homework hack 1"
   ]
  },
  {
   "cell_type": "code",
   "execution_count": null,
   "metadata": {
    "vscode": {
     "languageId": "html"
    }
   },
   "outputs": [],
   "source": [
    "<h1>My Mood Board</h1>\n",
    "\n",
    "<div style=\"width: 100%; height: 100px; background-color: #FF6B6B;\" title=\"Energy / Passion\">\n",
    "  #FF6B6B — Energy / Passion\n",
    "</div>\n",
    "<div style=\"width: 100%; height: 100px; background-color: #FFD93D;\" title=\"Happiness / Optimism\">\n",
    "  #FFD93D — Happiness / Optimism\n",
    "</div>\n",
    "<div style=\"width: 100%; height: 100px; background-color: #6BCB77;\" title=\"Balance / Growth\">\n",
    "  #6BCB77 — Balance / Growth\n",
    "</div>\n",
    "<div style=\"width: 100%; height: 100px; background-color: #4D96FF;\" title=\"Calm / Focus\">\n",
    "  #4D96FF — Calm / Focus\n",
    "</div>\n",
    "<div style=\"width: 100%; height: 100px; background-color: #843B62;\" title=\"Creativity / Depth\">\n",
    "  #843B62 — Creativity / Depth\n",
    "</div>\n"
   ]
  },
  {
   "cell_type": "markdown",
   "metadata": {},
   "source": [
    "## Homework Hack 2"
   ]
  },
  {
   "cell_type": "markdown",
   "metadata": {},
   "source": [
    "<h1>📸 My Profile Picture (Base64)</h1>\n",
    "\n",
    "<!-- Replace the string below with your own Base64 image data -->\n",
    "<img \n",
    "  src=\"data:image/png;base64,iVBORw0KGgoAAAANSUhEUgAAAAUA\n",
    "  AAAFCAYAAACNbyblAAAAHElEQVQI12P4\n",
    "  //8/w38GIAXDIBKE0DHxgljNBAAO9TXL0Y4OHwAAAABJRU5ErkJggg==\" \n",
    "  alt=\"Base64 Profile Picture\" \n",
    "  width=\"150\" />\n"
   ]
  }
 ],
 "metadata": {
  "kernelspec": {
   "display_name": "venv",
   "language": "python",
   "name": "python3"
  },
  "language_info": {
   "codemirror_mode": {
    "name": "ipython",
    "version": 3
   },
   "file_extension": ".py",
   "mimetype": "text/x-python",
   "name": "python",
   "nbconvert_exporter": "python",
   "pygments_lexer": "ipython3",
   "version": "3.12.6"
  }
 },
 "nbformat": 4,
 "nbformat_minor": 2
}
