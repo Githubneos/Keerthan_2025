{
 "cells": [
  {
   "cell_type": "markdown",
   "metadata": {},
   "source": [
    "# Final Review"
   ]
  },
  {
   "cell_type": "markdown",
   "metadata": {},
   "source": [
    "## Projects Overview"
   ]
  },
  {
   "cell_type": "markdown",
   "metadata": {},
   "source": [
    "### Scribble.io"
   ]
  },
  {
   "cell_type": "markdown",
   "metadata": {},
   "source": [
    "Overview:\n",
    "    A real-time multiplayer image guessing game inspired by Scribble.io, built to enhance engagement through interactive drawing and fast-paced word guessing. Players take turns drawing a given prompt while others guess the word within a time limit.\n",
    "\n",
    "Key Features:\n",
    "\n",
    "    - 🖌️ Live Drawing Canvas – Players draw a word, and others guess in real time\n",
    "    - 🧠 Intelligent Guess Checking – Backend automatically verifies and scores guesses\n",
    "    - 📊 Stats & History Table – Displays all past rounds, including guesses, correctness, and player names\n",
    "    - 🔐 JWT Authentication – Ensures secure user login and session management\n",
    "    - 🔁 Full CRUD API – Supports submitting, fetching, updating, and deleting guesses\n",
    "Tech Stack:\n",
    "    - Frontend: HTML, CSS, JavaScript (Canvas for drawing)\n",
    "    - Backend: Python (Flask), REST API design\n",
    "    - Database: SQLAlchemy with relational data modeling\n",
    "    - Deployment: Docker & Nginx (AWS EC2)\n",
    "Purpose & Impact:\n",
    "    This project demonstrates real-time interaction, user authentication, API integration, and clean UI/UX—all foundational elements in building scalable and engaging web applications."
   ]
  },
  {
   "cell_type": "markdown",
   "metadata": {},
   "source": [
    "### Optivize"
   ]
  },
  {
   "cell_type": "markdown",
   "metadata": {},
   "source": [
    "Overview:\n",
    "    A dynamic, interactive calendar system integrated into Optivize, a business management tool designed to streamline scheduling, tracking, and event planning for local businesses.\n",
    "\n",
    "Key Features:\n",
    " - 🔁 Auto-Updating Events – Calendar pulls events directly from business inventory and task data\n",
    " - 🧩 Modular Design – Built for reuse and easy integration across different businesses (not just Crumbl Cookies)\n",
    " - 🖱️ User Interaction – Supports adding, editing, and deleting events directly on the calendar UI\n",
    " - 📆 Business-Centric View – Shows shift schedules, product launches, inventory cycles, and marketing events\n",
    "\n",
    "Tech Stack:\n",
    " - Frontend: React, Tailwind CSS, FullCalendar.js (or similar JS calendar lib)\n",
    " - Backend Integration: Flask/Python API endpoints for syncing event data\n",
    " - Data Management: Real-time sync with business inventory and scheduling tools\n",
    "\n",
    "Purpose & Impact:\n",
    "    This feature empowers businesses to manage operations visually and efficiently, reducing scheduling errors and improving planning across teams. Designed with scalability in mind, the component is reusable for any small-to-mid-sized business using Optivize."
   ]
  },
  {
   "cell_type": "markdown",
   "metadata": {},
   "source": [
    "### Certification of  Homework Success"
   ]
  },
  {
   "cell_type": "markdown",
   "metadata": {},
   "source": [
    "[Big Idea 5 HW and popcorn hacks](https://githubneos.github.io/Keerthan_2025/2025/04/23/AP_Test_IPYNB_2_.html)"
   ]
  },
  {
   "cell_type": "markdown",
   "metadata": {},
   "source": [
    "- [3.3](https://githubneos.github.io/Keerthan_2025/2024/10/09/3.3_IPYNB_2_.html)\n",
    "- [3.5](https://githubneos.github.io/Keerthan_2025/2024/10/09/3.5_IPYNB_2_.html)\n",
    "- [3.6](https://githubneos.github.io/Keerthan_2025/2024/10/09/3.6_IPYNB_2_.html)\n",
    "- [3.7](https://githubneos.github.io/Keerthan_2025/2024/10/09/3.7_IPYNB_2_.html)\n",
    "- [3.2](https://githubneos.github.io/Keerthan_2025/2024/10/07/3.2_IPYNB_2_.html)\n",
    "- [3.10](https://githubneos.github.io/Keerthan_2025/2024/10/03/3.10_IPYNB_2_.html)\n",
    "- [3.8](https://githubneos.github.io/Keerthan_2025/2024/10/03/3.8_IPYNB_2_.html)"
   ]
  },
  {
   "cell_type": "markdown",
   "metadata": {},
   "source": [
    "## Showcase and N@TM"
   ]
  },
  {
   "cell_type": "markdown",
   "metadata": {},
   "source": [
    "[Issue for N@TM](https://githubneos.github.io/Keerthan_2025/2025/04/23/AP_Test_IPYNB_2_.html)\n"
   ]
  },
  {
   "cell_type": "markdown",
   "metadata": {},
   "source": [
    "## Artifacts Showing Participation"
   ]
  },
  {
   "cell_type": "markdown",
   "metadata": {},
   "source": [
    "[Issue for Commits](https://github.com/ZafeerA123/optivize_frontend/issues/50)"
   ]
  },
  {
   "cell_type": "markdown",
   "metadata": {},
   "source": [
    "[Burndown](https://github.com/ZafeerA123/optivize_frontend/issues/41)"
   ]
  }
 ],
 "metadata": {
  "language_info": {
   "name": "python"
  }
 },
 "nbformat": 4,
 "nbformat_minor": 2
}
