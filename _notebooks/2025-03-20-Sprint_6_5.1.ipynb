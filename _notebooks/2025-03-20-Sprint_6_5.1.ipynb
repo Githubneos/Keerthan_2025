{
 "cells": [
  {
   "cell_type": "markdown",
   "metadata": {},
   "source": [
    "# 5.1: Beneficial and Harmful Effects"
   ]
  },
  {
   "cell_type": "markdown",
   "metadata": {},
   "source": [
    "## Popcorn Hacks"
   ]
  },
  {
   "cell_type": "markdown",
   "metadata": {},
   "source": [
    "Beneficial effect is various applications of technology is various fields and forwarding of technology.\n",
    "ex: \n",
    "- automated telephone trees because it allows employers to save money and better for consumer\n",
    "- MRI Scanning DNA sequencing\n",
    "- Education Acces: encyclopedia and databases\n",
    "\n",
    "Harmful effects are misuse and dilemmas with technology."
   ]
  },
  {
   "cell_type": "markdown",
   "metadata": {},
   "source": [
    "# Popcorn Hack 2"
   ]
  },
  {
   "cell_type": "markdown",
   "metadata": {},
   "source": [
    "Science and medicine is the best one because it can help people with dangerous things like sickness or other harmful bodt effects"
   ]
  },
  {
   "cell_type": "markdown",
   "metadata": {},
   "source": [
    "### Harmful Effects"
   ]
  },
  {
   "cell_type": "markdown",
   "metadata": {},
   "source": [
    "- Unsafe use/ Cyberbullying\n",
    "    - inapporpriate use\n",
    "    - can amnipulated and used through devices\n",
    "    - purposeful misuse and can lead to emotional harm\n",
    "- Social Media\n",
    "    - can lead to depression \n",
    "    - can lead to dangerous things being atempted by people unsurpervised and not profesional\n",
    "\n",
    "### Dillemas\n",
    "- Humans cant make diffcult choices and think with emotions, but computers can make decision logically\n",
    "    - but people cant blindly trust technology\n",
    "    - Trolley problem\n",
    "\n",
    "### Neutral Effects\n",
    "- AI\n",
    "    - easy to use and benficial to use \n",
    "    - can increase productivity and efficiency\n",
    "    - analyze large sets of data \n",
    "    - contirbutes to global warming\n",
    "    - uses of lots of water and pumps out carbon emmision\n",
    "    - lower critical thinkings\n",
    "    - leads to unemployment\n",
    "- UAVs/Drones\n",
    "    - camera is clear and can show visiblity in tough situations\n",
    "    - privacy concerens and violates privacy\n",
    "    - can crash into power lines and buildings\n",
    "    - contrversial war use\n",
    "- Gene Editing\n",
    "    - can help scientists understand how to treat genetic diseases\n",
    "    - can mod other plants to domesticate\n",
    "    - illegal to edit DNA out of state\n",
    "    - damages can affect future generations"
   ]
  },
  {
   "cell_type": "markdown",
   "metadata": {},
   "source": [
    "### Popcorn hack 3"
   ]
  },
  {
   "cell_type": "markdown",
   "metadata": {},
   "source": [
    "AI might be more harmful when it comes to uemployment or taking over education due to the lack of human connection, but sometimes its helpful to make things more efficient and saves money for employers."
   ]
  }
 ],
 "metadata": {
  "language_info": {
   "name": "python"
  }
 },
 "nbformat": 4,
 "nbformat_minor": 2
}
