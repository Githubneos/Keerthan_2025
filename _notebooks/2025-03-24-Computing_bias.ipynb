{
 "cells": [
  {
   "cell_type": "markdown",
   "metadata": {},
   "source": [
    "# Computing Bias"
   ]
  },
  {
   "cell_type": "markdown",
   "metadata": {},
   "source": [
    "## Popcorn Hack 1\n",
    "\n",
    "The correct answer is B because you provide your name, age, and preferences when creating a Netflix account because explicit data is information that users intentionally and knowingly provide. This includes personal details entered in forms, such as name, age, and preferences, which are directly given by the user.\n",
    "\n"
   ]
  },
  {
   "cell_type": "markdown",
   "metadata": {},
   "source": [
    "## Popcorn Hack 2\n",
    "\n",
    "A because the bias is embedded within the dataset used to train the algorithm. Since the training data contains mostly male resumes, the algorithm learns patterns that favor male candidates. As a result, it develops a biased decision-making process that unfairly disadvantages female candidates. This is a real-world example of how biased data leads to unfair outcomes in AI and machine learning."
   ]
  },
  {
   "cell_type": "markdown",
   "metadata": {},
   "source": [
    "## Popcorn Hack 3\n",
    "\n",
    "A healthcare AI system is trained on data that primarily includes younger patients. As a result, the system is less accurate in diagnosing conditions in older patients, unintentionally leading to misdiagnoses or delayed treatments for them."
   ]
  },
  {
   "cell_type": "markdown",
   "metadata": {},
   "source": [
    "## Homework \n",
    "\n",
    "1) A facial recognition system that struggles to accurately identify individuals of certain ethnicities.\n",
    "2) Ensure the dataset is representative of the population it will be used on\n",
    "3) Making recommendations based on listening data gathered from a random sample of users of the application\n",
    "4) Points of interest may be more densely located in cities, favoring players in urban areas over players in rural areas.\n",
    "5) Testing the system with people of different ages, genders, and ethnicities\n",
    "6) Should\n",
    "7) **Implicit data** is automatically collected based on a user's actions or behaviors, such as the websites they visit or the songs they listen to, without them directly providing it. For example, a music streaming service infers a user's preferences by tracking their listening habits. On the other hand, **explicit data** is information that users intentionally provide, like filling out a form or answering a survey. An example is a user entering their name, age, and location when signing up for an account on a social media platform. The key difference is that implicit data is inferred from behavior, while explicit data is directly given by the user."
   ]
  }
 ],
 "metadata": {
  "language_info": {
   "name": "python"
  }
 },
 "nbformat": 4,
 "nbformat_minor": 2
}
