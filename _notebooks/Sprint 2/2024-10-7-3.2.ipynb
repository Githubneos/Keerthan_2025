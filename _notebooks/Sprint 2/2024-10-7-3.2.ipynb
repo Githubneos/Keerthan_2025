{
 "cells": [
  {
   "cell_type": "markdown",
   "metadata": {},
   "source": [
    "# 3.2 Data Abstraction"
   ]
  },
  {
   "cell_type": "markdown",
   "metadata": {},
   "source": [
    "## Popcorn hacks"
   ]
  },
  {
   "cell_type": "code",
   "execution_count": null,
   "metadata": {},
   "outputs": [],
   "source": [
    "#Popcorn hack 1\n",
    "Dictionary = {\"bananas\": 1, \"apples\": 2, \"pears\": 3}\n",
    "print(Dictionary[\"pears\"]) #any key will do"
   ]
  },
  {
   "cell_type": "code",
   "execution_count": null,
   "metadata": {
    "vscode": {
     "languageId": "javascript"
    }
   },
   "outputs": [],
   "source": [
    "%% js\n",
    "// Popcorn hack 1\n",
    "// Create an object to store the items and their values\n",
    "const dictionary = {\n",
    "    bananas: 1,\n",
    "    apples: 2,\n",
    "    pears: 3\n",
    "};\n",
    "\n",
    "// Access and print the value associated with the key \"pears\"\n",
    "console.log(dictionary[\"pears\"]); // Output: 3"
   ]
  },
  {
   "cell_type": "code",
   "execution_count": null,
   "metadata": {},
   "outputs": [],
   "source": [
    "#Popcorn hack 2\n",
    "# Function to perform calculations\n",
    "def calculator(num1, num2, operation):\n",
    "    if operation in ['add', '+']:\n",
    "        return num1 + num2\n",
    "    elif operation in ['subtract', '-']:\n",
    "        return num1 - num2\n",
    "    elif operation in ['multiply', '*']:\n",
    "        return num1 * num2\n",
    "    elif operation in ['divide', '/']:\n",
    "        if num2 == 0:\n",
    "            return \"Error: Division by zero is not allowed.\"\n",
    "        return num1 / num2\n",
    "    else:\n",
    "        return \"Error: Invalid operation.\"\n",
    "\n",
    "# Get user input\n",
    "first_input = input(\"Enter the first number: \")\n",
    "num1 = float(first_input)\n",
    "\n",
    "second_input = input(\"Enter the second number: \")\n",
    "num2 = float(second_input)\n",
    "\n",
    "operation = input(\"Enter the operation (add, subtract, multiply, divide): \")\n",
    "\n",
    "# Calculate and print the result\n",
    "result = calculator(num1, num2, operation)\n",
    "print(f\"Result: {result}\")"
   ]
  },
  {
   "cell_type": "code",
   "execution_count": null,
   "metadata": {
    "vscode": {
     "languageId": "javascript"
    }
   },
   "outputs": [],
   "source": [
    "%% js\n",
    "// Popcorn hack 2\n",
    "// Function to perform calculations\n",
    "function calculator(num1, num2, operation) {\n",
    "    switch (operation) {\n",
    "        case 'add':\n",
    "        case '+':\n",
    "            return num1 + num2;\n",
    "        case 'subtract':\n",
    "        case '-':\n",
    "            return num1 - num2;\n",
    "        case 'multiply':\n",
    "        case '*':\n",
    "            return num1 * num2;\n",
    "        case 'divide':\n",
    "        case '/':\n",
    "            if (num2 === 0) {\n",
    "                return \"Error: Division by zero is not allowed.\";\n",
    "            }\n",
    "            return num1 / num2;\n",
    "        default:\n",
    "            return \"Error: Invalid operation.\";\n",
    "    }\n",
    "}\n",
    "\n",
    "// Get user input from the command line\n",
    "const readline = require('readline').createInterface({\n",
    "    input: process.stdin,\n",
    "    output: process.stdout\n",
    "});\n",
    "\n",
    "readline.question('Enter the first number: ', (firstInput) => {\n",
    "    const num1 = parseFloat(firstInput);\n",
    "\n",
    "    readline.question('Enter the second number: ', (secondInput) => {\n",
    "        const num2 = parseFloat(secondInput);\n",
    "\n",
    "        readline.question('Enter the operation (add, subtract, multiply, divide): ', (operation) => {\n",
    "            const result = calculator(num1, num2, operation);\n",
    "            console.log(`Result: ${result}`);\n",
    "            readline.close();\n",
    "        });\n",
    "    });\n",
    "});"
   ]
  },
  {
   "cell_type": "code",
   "execution_count": null,
   "metadata": {},
   "outputs": [],
   "source": [
    "#Popcorn hack 3 \n",
    "def repeat_strings(string_list, n):\n",
    "    \"\"\"\n",
    "    Repeat each string in the list n times.\n",
    "\n",
    "    Parameters:\n",
    "    string_list (list): List of strings to be repeated.\n",
    "    n (int): Number of times to repeat each string.\n",
    "\n",
    "    Returns:\n",
    "    list: A new list with each string repeated n times.\n",
    "    \"\"\"\n",
    "    # Use a list comprehension to repeat each string n times\n",
    "    return [s * n for s in string_list]\n",
    "\n",
    "# Example usage\n",
    "original_list = [\"hello\", \"world\", \"python\"]\n",
    "n = 3\n",
    "result = repeat_strings(original_list, n)\n",
    "print(result)  # Output: ['hellohellohello', 'worldworldworld', 'pythonpythonpython']"
   ]
  },
  {
   "cell_type": "code",
   "execution_count": null,
   "metadata": {
    "vscode": {
     "languageId": "javascript"
    }
   },
   "outputs": [],
   "source": [
    "%%js\n",
    "// Popcorn hack 3\n",
    "function repeatStrings(stringArray, n) {\n",
    "    /**\n",
    "     * Repeat each string in the array n times.\n",
    "     *\n",
    "     * @param {Array} stringArray - Array of strings to be repeated.\n",
    "     * @param {number} n - Number of times to repeat each string.\n",
    "     * @returns {Array} A new array with each string repeated n times.\n",
    "     */\n",
    "    return stringArray.map(s => s.repeat(n));\n",
    "}\n",
    "\n",
    "// Example usage\n",
    "const originalArray = [\"hello\", \"world\", \"javascript\"];\n",
    "const n = 2;\n",
    "const result = repeatStrings(originalArray, n);\n",
    "console.log(result);  // Output: ['hellohello', 'worldworld', 'javascriptjavascript']"
   ]
  },
  {
   "cell_type": "code",
   "execution_count": null,
   "metadata": {
    "vscode": {
     "languageId": "javascript"
    }
   },
   "outputs": [],
   "source": [
    "%%js\n",
    "// Popcorn hack 4\n",
    "import java.util.HashSet;\n",
    "import java.util.Set;\n",
    "\n",
    "public class SetComparison {\n",
    "    public static boolean compareSets(Set<Integer> set1, Set<Integer> set2) {\n",
    "        // Check if any element in set2 exists in set1\n",
    "        for (Integer element : set2) {\n",
    "            if (set1.contains(element)) {\n",
    "                return true; // Found a common element\n",
    "            }\n",
    "        }\n",
    "        return false; // No common elements found\n",
    "    }\n",
    "\n",
    "    public static void main(String[] args) {\n",
    "        Set<Integer> set1 = new HashSet<>();\n",
    "        set1.add(1);\n",
    "        set1.add(2);\n",
    "        set1.add(3);\n",
    "        set1.add(4);\n",
    "        set1.add(5);\n",
    "\n",
    "        Set<Integer> set2 = new HashSet<>();\n",
    "        set2.add(5);\n",
    "        set2.add(6);\n",
    "        set2.add(7);\n",
    "        set2.add(8);\n",
    "\n",
    "        boolean result = compareSets(set1, set2);\n",
    "        System.out.println(result); // Output: true\n",
    "    }\n",
    "}"
   ]
  },
  {
   "cell_type": "code",
   "execution_count": null,
   "metadata": {},
   "outputs": [],
   "source": [
    "#Popcorn hack 4\n",
    "def compare_sets(set1, set2):\n",
    "    \"\"\"\n",
    "    Compare two sets and check if there is any value in set2 that is in set1.\n",
    "\n",
    "    Parameters:\n",
    "    set1 (set): The first set to compare.\n",
    "    set2 (set): The second set to compare.\n",
    "\n",
    "    Returns:\n",
    "    bool: True if there is a common element, False otherwise.\n",
    "    \"\"\"\n",
    "    # Check for intersection between the two sets\n",
    "    return not set1.isdisjoint(set2)\n",
    "\n",
    "# Example usage\n",
    "set1 = {1, 2, 3, 4, 5}\n",
    "set2 = {5, 6, 7, 8}\n",
    "\n",
    "result = compare_sets(set1, set2)\n",
    "print(result)  # Output: True"
   ]
  },
  {
   "cell_type": "markdown",
   "metadata": {},
   "source": [
    "## Homework hack"
   ]
  },
  {
   "cell_type": "code",
   "execution_count": null,
   "metadata": {},
   "outputs": [],
   "source": [
    "# Part 1: Create Profile Information\n",
    "profile = {\n",
    "    \"name\": \"John Doe\",\n",
    "    \"age\": 25,\n",
    "    \"city\": \"New York\",\n",
    "    \"favorite_color\": \"Blue\"\n",
    "}\n",
    "\n",
    "# Part 2: Create a List of Hobbies\n",
    "hobbies = [\"Reading\", \"Hiking\", \"Cooking\"]\n",
    "print(\"Hobbies:\", hobbies)\n",
    "\n",
    "# Part 3: Add Hobbies to Profile\n",
    "profile[\"hobbies\"] = hobbies\n",
    "print(\"Updated Profile:\", profile)\n",
    "\n",
    "# Part 4: Check Availability of a Hobby\n",
    "chosen_hobby = \"Hiking\"\n",
    "has_hobby = chosen_hobby in hobbies\n",
    "print(f\"Is {chosen_hobby} available today? {has_hobby}\")\n",
    "\n",
    "# Part 5: Total Number of Hobbies\n",
    "total_hobbies = len(hobbies)\n",
    "print(f\"I have {total_hobbies} hobbies.\")\n",
    "\n",
    "# Part 6: Favorite Hobbies\n",
    "favorite_hobbies = (\"Reading\", \"Hiking\")\n",
    "print(\"Favorite Hobbies:\", favorite_hobbies)\n",
    "\n",
    "# Part 7: Add a New Item to Your Profile (skills)\n",
    "skills = {\"Python\", \"Communication\", \"Problem Solving\"}\n",
    "print(\"Skills:\", skills)\n",
    "\n",
    "# Part 8: Decide to Add a New Skill\n",
    "new_skill = None\n",
    "print(\"New skill to learn:\", new_skill)\n",
    "\n",
    "# Part 9: Calculate Total Profile Cost\n",
    "hobby_cost = 5\n",
    "skill_cost = 10\n",
    "total_cost = (total_hobbies * hobby_cost) + (len(skills) * skill_cost)\n",
    "print(\"Total cost to develop hobbies and skills:\", total_cost)"
   ]
  },
  {
   "cell_type": "code",
   "execution_count": null,
   "metadata": {
    "vscode": {
     "languageId": "javascript"
    }
   },
   "outputs": [],
   "source": [
    "%%js\n",
    "// Part 1: Create Profile Information\n",
    "let profile = {\n",
    "    name: \"John Doe\",\n",
    "    age: 25,\n",
    "    city: \"New York\",\n",
    "    favorite_color: \"Blue\"\n",
    "};\n",
    "\n",
    "// Part 2: Create a List of Hobbies\n",
    "let hobbies = [\"Reading\", \"Hiking\", \"Cooking\"];\n",
    "console.log(\"Hobbies:\", hobbies);\n",
    "\n",
    "// Part 3: Add Hobbies to Profile\n",
    "profile.hobbies = hobbies;\n",
    "console.log(\"Updated Profile:\", profile);\n",
    "\n",
    "// Part 4: Check Availability of a Hobby\n",
    "let chosenHobby = \"Hiking\";\n",
    "let hasHobby = hobbies.includes(chosenHobby);\n",
    "console.log(`Is ${chosenHobby} available today? ${hasHobby}`);\n",
    "\n",
    "// Part 5: Total Number of Hobbies\n",
    "let totalHobbies = hobbies.length;\n",
    "console.log(`I have ${totalHobbies} hobbies.`);\n",
    "\n",
    "// Part 6: Favorite Hobbies\n",
    "let favoriteHobbies = [\"Reading\", \"Hiking\"];\n",
    "console.log(\"Favorite Hobbies:\", favoriteHobbies);\n",
    "\n",
    "// Part 7: Add a New Item to Your Profile (skills)\n",
    "let skills = new Set([\"Python\", \"Communication\", \"Problem Solving\"]);\n",
    "console.log(\"Skills:\", Array.from(skills));\n",
    "\n",
    "// Part 8: Decide to Add a New Skill\n",
    "let newSkill = null;\n",
    "console.log(\"New skill to learn:\", newSkill);\n",
    "\n",
    "// Part 9: Calculate Total Profile Cost\n",
    "let hobbyCost = 5;\n",
    "let skillCost = 10;\n",
    "let totalCost = (totalHobbies * hobbyCost) + (skills.size * skillCost);\n",
    "console.log(\"Total cost to develop hobbies and skills:\", totalCost);"
   ]
  }
 ],
 "metadata": {
  "language_info": {
   "name": "python"
  }
 },
 "nbformat": 4,
 "nbformat_minor": 2
}
