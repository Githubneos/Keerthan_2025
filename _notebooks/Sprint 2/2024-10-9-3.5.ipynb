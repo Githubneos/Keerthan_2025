{
 "cells": [
  {
   "cell_type": "markdown",
   "metadata": {},
   "source": [
    "# 3.5 Boolean Expressions"
   ]
  },
  {
   "cell_type": "markdown",
   "metadata": {},
   "source": [
    "## Popcorn Hacks"
   ]
  },
  {
   "cell_type": "code",
   "execution_count": null,
   "metadata": {},
   "outputs": [],
   "source": [
    "#Popcorn hack 1\n",
    "def study_and_pass(study, pass_exam):\n",
    "    # Original statement: If study then pass_exam\n",
    "    if study:\n",
    "        print(\"You studied. You will pass the exam.\")\n",
    "    else:\n",
    "        print(\"You didn't study. We cannot conclude about passing the exam.\")\n",
    "\n",
    "    # Contrapositive: If not pass_exam then not study\n",
    "    if not pass_exam:\n",
    "        print(\"You did not pass the exam. Therefore, you did not study.\")\n",
    "    else:\n",
    "        print(\"You passed the exam. We cannot conclude if you studied or not.\")\n",
    "\n",
    "# Example usage\n",
    "study = True  # Change this to simulate studying\n",
    "pass_exam = False  # Change this to simulate passing the exam\n",
    "\n",
    "study_and_pass(study, pass_exam)"
   ]
  },
  {
   "cell_type": "code",
   "execution_count": null,
   "metadata": {
    "vscode": {
     "languageId": "javascript"
    }
   },
   "outputs": [],
   "source": [
    "%%js\n",
    "// Popcorn hack 1\n",
    "import java.util.Scanner;\n",
    "\n",
    "public class ContrapositiveLaw {\n",
    "\n",
    "    public static void studyAndPass(boolean study, boolean passExam) {\n",
    "        // Original statement: If study then pass_exam\n",
    "        if (study) {\n",
    "            System.out.println(\"You studied. You will pass the exam.\");\n",
    "        } else {\n",
    "            System.out.println(\"You didn't study. We cannot conclude about passing the exam.\");\n",
    "        }\n",
    "\n",
    "        // Contrapositive: If not pass_exam then not study\n",
    "        if (!passExam) {\n",
    "            System.out.println(\"You did not pass the exam. Therefore, you did not study.\");\n",
    "        } else {\n",
    "            System.out.println(\"You passed the exam. We cannot conclude if you studied or not.\");\n",
    "        }\n",
    "    }\n",
    "\n",
    "    public static void main(String[] args) {\n",
    "        Scanner scanner = new Scanner(System.in);\n",
    "        \n",
    "        // User input for study and pass_exam\n",
    "        System.out.print(\"Did you study? (true/false): \");\n",
    "        boolean study = scanner.nextBoolean();\n",
    "\n",
    "        System.out.print(\"Did you pass the exam? (true/false): \");\n",
    "        boolean passExam = scanner.nextBoolean();\n",
    "\n",
    "        // Call the function to demonstrate contrapositive's law\n",
    "        studyAndPass(study, passExam);\n",
    "\n",
    "        scanner.close();\n",
    "    }\n",
    "}"
   ]
  },
  {
   "cell_type": "markdown",
   "metadata": {},
   "source": [
    "## Homework Hack"
   ]
  },
  {
   "cell_type": "code",
   "execution_count": null,
   "metadata": {
    "vscode": {
     "languageId": "javascript"
    }
   },
   "outputs": [],
   "source": [
    "%%js\n",
    "// Homework hack 1\n",
    "function andGate(a, b) {\n",
    "    return a && b;\n",
    "}\n",
    "\n",
    "function orGate(a, b) {\n",
    "    return a || b;\n",
    "}\n",
    "\n",
    "function notGate(a) {\n",
    "    return !a;\n",
    "}\n",
    "\n",
    "function nandGate(a, b) {\n",
    "    return !(a && b);\n",
    "}\n",
    "\n",
    "function norGate(a, b) {\n",
    "    return !(a || b);\n",
    "}\n",
    "\n",
    "function xorGate(a, b) {\n",
    "    return a ^ b;\n",
    "}\n",
    "\n",
    "function printTruthTable() {\n",
    "    console.log(\"A B | AND | OR  | NOT A | NAND | NOR | XOR\");\n",
    "    console.log(\"-\".repeat(37));\n",
    "    for (let a of [0, 1]) {\n",
    "        for (let b of [0, 1]) {\n",
    "            console.log(`${a} ${b} |  ${andGate(a, b)}  |  ${orGate(a, b)}  |   ${notGate(a)}   |  ${nandGate(a, b)}  |  ${norGate(a, b)}  |  ${xorGate(a, b)}`);\n",
    "        }\n",
    "    }\n",
    "}\n",
    "\n",
    "// Call the function to print the truth table\n",
    "printTruthTable();"
   ]
  },
  {
   "cell_type": "code",
   "execution_count": null,
   "metadata": {},
   "outputs": [],
   "source": [
    "#Homework hack 1\n",
    "def and_gate(a, b):\n",
    "    return a and b\n",
    "\n",
    "def or_gate(a, b):\n",
    "    return a or b\n",
    "\n",
    "def not_gate(a):\n",
    "    return not a\n",
    "\n",
    "def nand_gate(a, b):\n",
    "    return not (a and b)\n",
    "\n",
    "def nor_gate(a, b):\n",
    "    return not (a or b)\n",
    "\n",
    "def xor_gate(a, b):\n",
    "    return a ^ b\n",
    "\n",
    "def print_truth_table():\n",
    "    print(\"A B | AND | OR  | NOT A | NAND | NOR | XOR\")\n",
    "    print(\"-\" * 37)\n",
    "    for a in [0, 1]:\n",
    "        for b in [0, 1]:\n",
    "            print(f\"{a} {b} |  {and_gate(a, b)}  |  {or_gate(a, b)}  |   {not_gate(a)}   |  {nand_gate(a, b)}  |  {nor_gate(a, b)}  |  {xor_gate(a, b)}\")\n",
    "\n",
    "if __name__ == \"__main__\":\n",
    "    print_truth_table()"
   ]
  }
 ],
 "metadata": {
  "language_info": {
   "name": "python"
  }
 },
 "nbformat": 4,
 "nbformat_minor": 2
}
