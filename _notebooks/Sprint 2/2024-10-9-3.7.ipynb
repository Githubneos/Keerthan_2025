{
 "cells": [
  {
   "cell_type": "markdown",
   "metadata": {},
   "source": [
    "# 3.7 Nested Conditionals"
   ]
  },
  {
   "cell_type": "markdown",
   "metadata": {},
   "source": [
    "## Popcorn hacks"
   ]
  },
  {
   "cell_type": "code",
   "execution_count": null,
   "metadata": {},
   "outputs": [],
   "source": [
    "#Popcorn hack 1\n",
    "user_age = int(input(\"Enter your age: \"))\n",
    "enjoys_candies = input(\"Do you enjoy candies? (yes/no): \").lower()\n",
    "\n",
    "if user_age >= 10:\n",
    "    if enjoys_candies == \"yes\":\n",
    "        print(\"You can have some chocolate!\")\n",
    "    else:\n",
    "        print(\"You can have a nutritious snack.\")\n",
    "else:\n",
    "    print(\"You get a healthy fruit snack.\")"
   ]
  },
  {
   "cell_type": "code",
   "execution_count": null,
   "metadata": {
    "vscode": {
     "languageId": "javascript"
    }
   },
   "outputs": [],
   "source": [
    "%%js\n",
    "// Popcorn hack 1\n",
    "let userAge = parseInt(prompt(\"Enter your age: \"));\n",
    "let enjoysCandies = prompt(\"Do you enjoy candies? (yes/no): \").toLowerCase();\n",
    "\n",
    "if (userAge >= 10) {\n",
    "    if (enjoysCandies === \"yes\") {\n",
    "        console.log(\"You can have some chocolate!\");\n",
    "    } else {\n",
    "        console.log(\"You can have a nutritious snack.\");\n",
    "    }\n",
    "} else {\n",
    "    console.log(\"You get a healthy fruit snack.\");\n",
    "}"
   ]
  },
  {
   "cell_type": "code",
   "execution_count": null,
   "metadata": {
    "vscode": {
     "languageId": "javascript"
    }
   },
   "outputs": [],
   "source": [
    "%%js\n",
    "// Popcorn hack 2\n",
    "// Budget\n",
    "let budget = 500;  \n",
    "\n",
    "// Computer prices\n",
    "let dellCost = 800;\n",
    "let hpCost = 700;\n",
    "let macbookCost = 1200;\n",
    "\n",
    "// Determine which computer you can buy\n",
    "if (budget >= macbookCost) {\n",
    "    console.log(\"You can buy a MacBook!\");\n",
    "} else if (budget >= dellCost) {\n",
    "    console.log(\"You can buy a Dell laptop!\");\n",
    "} else if (budget >= hpCost) {\n",
    "    console.log(\"You can buy an HP laptop!\");\n",
    "} else {\n",
    "    console.log(\"You don't have enough money to buy a laptop.\");\n",
    "}"
   ]
  },
  {
   "cell_type": "code",
   "execution_count": null,
   "metadata": {},
   "outputs": [],
   "source": [
    "#Popcorn hack 2\n",
    "# Budget\n",
    "budget = 500  \n",
    "\n",
    "# Computer prices\n",
    "dell_cost = 800\n",
    "hp_cost = 700\n",
    "macbook_cost = 1200\n",
    "\n",
    "# Determine which computer you can buy\n",
    "if budget >= macbook_cost:\n",
    "    print(\"You can buy a MacBook!\")\n",
    "elif budget >= dell_cost:\n",
    "    print(\"You can buy a Dell laptop!\")\n",
    "elif budget >= hp_cost:\n",
    "    print(\"You can buy an HP laptop!\")\n",
    "else:\n",
    "    print(\"You don't have enough money to buy a laptop.\")"
   ]
  },
  {
   "cell_type": "code",
   "execution_count": null,
   "metadata": {},
   "outputs": [],
   "source": [
    "#Popcorn hack 3\n",
    "# Grocery Conditions\n",
    "store_open = True  # Changed variable name\n",
    "vegetables_available = False  # Changed variable name\n",
    "\n",
    "# Shopping logic based on store and item availability\n",
    "if store_open:\n",
    "    print(\"You can go grocery shopping.\")\n",
    "\n",
    "    if vegetables_available:\n",
    "        print(\"Buy some fresh vegetables.\")\n",
    "    else:\n",
    "        print(\"Check for other items on your list.\")\n",
    "else:\n",
    "    print(\"The store is closed, shop another day.\")"
   ]
  },
  {
   "cell_type": "code",
   "execution_count": null,
   "metadata": {
    "vscode": {
     "languageId": "javascript"
    }
   },
   "outputs": [],
   "source": [
    "%%js\n",
    "// Popcorn hack 3\n",
    "// Grocery Conditions\n",
    "let storeOpen = true; // Changed variable name\n",
    "let vegetablesAvailable = false; // Changed variable name\n",
    "\n",
    "// Shopping logic based on store and item availability\n",
    "if (storeOpen) {\n",
    "    console.log(\"You can go grocery shopping.\");\n",
    "\n",
    "    if (vegetablesAvailable) {\n",
    "        console.log(\"Buy some fresh vegetables.\");\n",
    "    } else {\n",
    "        console.log(\"Check for other items on your list.\");\n",
    "    }\n",
    "} else {\n",
    "    console.log(\"The store is closed, shop another day.\");\n",
    "}"
   ]
  },
  {
   "cell_type": "markdown",
   "metadata": {},
   "source": [
    "## Homework Hack"
   ]
  },
  {
   "cell_type": "code",
   "execution_count": null,
   "metadata": {
    "vscode": {
     "languageId": "javascript"
    }
   },
   "outputs": [],
   "source": [
    "%%js\n",
    "// Homework hack 1\n",
    "// Function to check eligibility for the game\n",
    "function checkEligibility() {\n",
    "    // Get user age\n",
    "    let age = parseInt(prompt(\"Enter your age: \"));\n",
    "    \n",
    "    // Check if the input is a valid number\n",
    "    if (isNaN(age)) {\n",
    "        console.log(\"Please enter a valid number for age.\");\n",
    "        return;\n",
    "    }\n",
    "    \n",
    "    // Check ball ownership\n",
    "    let hasBall = prompt(\"Do you have a ball? (yes/no): \").toLowerCase();\n",
    "\n",
    "    // Check eligibility\n",
    "    if (age >= 5 && hasBall === \"yes\") {\n",
    "        let group = age < 8 ? \"Group A (under 8)\" : \"Group B (8 and older)\";\n",
    "        console.log(`You can join the game! You are in ${group}.`);\n",
    "    } else {\n",
    "        console.log(\"You cannot join the game.\");\n",
    "    }\n",
    "}\n",
    "\n",
    "// Call the function to execute the program\n",
    "checkEligibility();"
   ]
  },
  {
   "cell_type": "code",
   "execution_count": null,
   "metadata": {},
   "outputs": [],
   "source": [
    "#Homework hack 1\n",
    "# Function to check eligibility for the game\n",
    "def check_eligibility():\n",
    "    # Get user age\n",
    "    age = input(\"Enter your age: \")\n",
    "\n",
    "    # Check if the input is a valid number\n",
    "    if not age.isdigit():\n",
    "        print(\"Please enter a valid number for age.\")\n",
    "        return\n",
    "\n",
    "    age = int(age)\n",
    "\n",
    "    # Check ball ownership\n",
    "    has_ball = input(\"Do you have a ball? (yes/no): \").lower()\n",
    "\n",
    "    # Check eligibility\n",
    "    if age >= 5 and has_ball == \"yes\":\n",
    "        group = \"Group A (under 8)\" if age < 8 else \"Group B (8 and older)\"\n",
    "        print(f\"You can join the game! You are in {group}.\")\n",
    "    else:\n",
    "        print(\"You cannot join the game.\")\n",
    "\n",
    "# Call the function to execute the program\n",
    "check_eligibility()"
   ]
  }
 ],
 "metadata": {
  "language_info": {
   "name": "python"
  }
 },
 "nbformat": 4,
 "nbformat_minor": 2
}
