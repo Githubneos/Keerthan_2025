{
 "cells": [
  {
   "cell_type": "markdown",
   "metadata": {},
   "source": [
    "# 3.10 Lists"
   ]
  },
  {
   "cell_type": "markdown",
   "metadata": {},
   "source": [
    "## popcorn hacks"
   ]
  },
  {
   "cell_type": "code",
   "execution_count": 1,
   "metadata": {},
   "outputs": [
    {
     "name": "stdout",
     "output_type": "stream",
     "text": [
      "Added 2.0 to the list.\n",
      "Added 2.0 to the list.\n",
      "Added 2.0 to the list.\n",
      "Added 2.0 to the list.\n",
      "Added 2.0 to the list.\n",
      "Added 2.0 to the list.\n",
      "Added 2.0 to the list.\n",
      "Added 2.0 to the list.\n",
      "Added 2.0 to the list.\n",
      "Added 2.0 to the list.\n",
      "Added 2.0 to the list.\n",
      "Added 2.0 to the list.\n",
      "Added 2.0 to the list.\n",
      "Added 2.0 to the list.\n",
      "Added 2.0 to the list.\n",
      "Your list of numbers: [2.0, 2.0, 2.0, 2.0, 2.0, 2.0, 2.0, 2.0, 2.0, 2.0, 2.0, 2.0, 2.0, 2.0, 2.0]\n",
      "The sum of all numbers in the list is: 30.0\n"
     ]
    }
   ],
   "source": [
    "# Popcorn hack 1\n",
    "# Step 1: Initialize an empty list to store numbers\n",
    "numbers = []\n",
    "\n",
    "# Step 2: Loop to take user input and append to list\n",
    "while True:\n",
    "    user_input = input(\"Enter a number to add to the list (or type 'done' to finish, 'pop' to remove last entry): \")\n",
    "    \n",
    "    if user_input.lower() == 'done':\n",
    "        break  # Exit the loop when user types 'done'\n",
    "    elif user_input.lower() == 'pop':\n",
    "        if numbers:\n",
    "            removed_value = numbers.pop()  # Removes the last number in the list\n",
    "            print(f\"Removed last value: {removed_value}\")\n",
    "        else:\n",
    "            print(\"The list is already empty, nothing to pop.\")\n",
    "    else:\n",
    "        try:\n",
    "            number = float(user_input)  # Convert the input to a float (can handle both integers and decimals)\n",
    "            numbers.append(number)  # Append the number to the list\n",
    "            print(f\"Added {number} to the list.\")\n",
    "        except ValueError:\n",
    "            print(\"Please enter a valid number.\")\n",
    "\n",
    "# Step 3: Calculate the sum of all numbers in the list\n",
    "if numbers:\n",
    "    total_sum = sum(numbers)\n",
    "    print(f\"Your list of numbers: {numbers}\")\n",
    "    print(f\"The sum of all numbers in the list is: {total_sum}\")\n",
    "else:\n",
    "    print(\"The list is empty.\")"
   ]
  },
  {
   "cell_type": "code",
   "execution_count": 3,
   "metadata": {},
   "outputs": [
    {
     "name": "stdout",
     "output_type": "stream",
     "text": [
      "The sum of all even numbers from 1 to 100 is: 2550\n"
     ]
    }
   ],
   "source": [
    "# Popcorn Hack 2\n",
    "\n",
    "\n",
    "\n",
    "#Initialize empty list called numbers\n",
    "#For each number from 1 to 100:\n",
    "#Append the number to the list 'numbers'\n",
    "\n",
    "#Initialize even_sum as 0\n",
    "#For each number in the list 'numbers':\n",
    "#If the number is divisible by 2:\n",
    "#Add the number to even_sum\n",
    "\n",
    "#Print even_sum\n",
    "\n",
    "# Step 1: Initialize an empty list and fill it with numbers from 1 to 100\n",
    "numbers = list(range(1, 101))  # This will create a list with numbers 1 through 100\n",
    "\n",
    "# Step 2: Initialize a variable to hold the sum of even numbers\n",
    "even_sum = 0\n",
    "\n",
    "# Step 3: Loop through the list and add the even numbers to even_sum\n",
    "for num in numbers:\n",
    "    if num % 2 == 0:  # Check if the number is even\n",
    "        even_sum += num  # Add it to the sum\n",
    "\n",
    "# Step 4: Print the sum of even numbers\n",
    "print(f\"The sum of all even numbers from 1 to 100 is: {even_sum}\")\n",
    "\n"
   ]
  },
  {
   "cell_type": "code",
   "execution_count": null,
   "metadata": {},
   "outputs": [],
   "source": [
    "# Popcorn hack 3\n",
    "\n",
    "\n",
    "# Initialize an empty list to store meal suggestions\n",
    "meal_planner = []\n",
    "\n",
    "# Start a loop to collect meal suggestions from the user\n",
    "while True:\n",
    "    meal = input(\"Enter a meal suggestion (or type 'done' to finish): \")\n",
    "    \n",
    "    if meal.lower() == 'done':  # User can type 'done' to end the input\n",
    "        break  # Exit the loop when 'done' is entered\n",
    "    \n",
    "    meal_planner.append(meal)  # Add the meal suggestion to the list\n",
    "\n",
    "# Display the meal suggestions\n",
    "if meal_planner:\n",
    "    print(\"\\nYour meal planner for the week:\")\n",
    "    for i, meal in enumerate(meal_planner, start=1):\n",
    "        print(f\"Meal {i}: {meal}\")\n",
    "else:\n",
    "    print(\"No meals were added to the planner.\")"
   ]
  },
  {
   "cell_type": "markdown",
   "metadata": {},
   "source": [
    "## Homework Hack"
   ]
  },
  {
   "cell_type": "code",
   "execution_count": 4,
   "metadata": {},
   "outputs": [
    {
     "name": "stdout",
     "output_type": "stream",
     "text": [
      "Current list of items:\n",
      "Index 0: apple\n",
      "Index 1: 42\n",
      "Index 2: 3.14\n",
      "Index 3: banana\n",
      "Index 4: True\n",
      "Index 5: None\n",
      "Index 6: cherry\n",
      "Removed item: 42\n",
      "Updated list of items:\n",
      "Index 0: apple\n",
      "Index 1: 3.14\n",
      "Index 2: banana\n",
      "Index 3: True\n",
      "Index 4: None\n",
      "Index 5: cherry\n"
     ]
    }
   ],
   "source": [
    "#Homework Hack 1\n",
    "\n",
    "\n",
    "# Step 1: Initialize a list with various data values\n",
    "data_list = [\"apple\", 42, 3.14, \"banana\", True, None, \"cherry\"]\n",
    "\n",
    "# Step 2: Display the current list to the user\n",
    "print(\"Current list of items:\")\n",
    "for index, item in enumerate(data_list):\n",
    "    print(f\"Index {index}: {item}\")\n",
    "\n",
    "# Step 3: Prompt the user to enter an index\n",
    "user_input = input(\"Enter an index to remove the item from the list (or type 'exit' to quit): \")\n",
    "\n",
    "# Step 4: Check if the user wants to exit\n",
    "if user_input.lower() == 'exit':\n",
    "    print(\"Exiting the program.\")\n",
    "else:\n",
    "    try:\n",
    "        index_to_remove = int(user_input)  # Convert input to an integer\n",
    "        \n",
    "        # Step 5: Check if the index is valid\n",
    "        if 0 <= index_to_remove < len(data_list):\n",
    "            removed_item = data_list.pop(index_to_remove)  # Remove the item at the specified index\n",
    "            print(f\"Removed item: {removed_item}\")\n",
    "        else:\n",
    "            print(\"Error: Invalid index. Please enter a number between 0 and\", len(data_list) - 1)\n",
    "\n",
    "    except ValueError:\n",
    "        print(\"Error: Please enter a valid integer index.\")\n",
    "    \n",
    "# Step 6: Display the updated list\n",
    "print(\"Updated list of items:\")\n",
    "for index, item in enumerate(data_list):\n",
    "    print(f\"Index {index}: {item}\")"
   ]
  },
  {
   "cell_type": "code",
   "execution_count": null,
   "metadata": {},
   "outputs": [],
   "source": [
    "#Homework hack 2\n",
    "\n",
    "\n",
    "\n",
    "\n",
    "#Initialize list called numbers with 30 numbers (e.g., [1, 2, ..., 30])\n",
    "#Initialize even_sum as 0\n",
    "#Initialize odd_sum as 0\n",
    "\n",
    "#For each number in numbers:\n",
    "#If number is divisible by 2:\n",
    "#Add number to even_sum\n",
    "#Else:\n",
    "#Add number to odd_sum\n",
    "\n",
    "#Print \"Sum of even numbers:\", even_sum\n",
    "#Print \"Sum of odd numbers:\", odd_sum\n",
    "\n",
    "# Step 1: Initialize a list with 30 numbers (1 to 30)\n",
    "numbers = list(range(1, 31))  # This creates a list of numbers from 1 to 30\n",
    "\n",
    "# Step 2: Initialize sums for even and odd numbers\n",
    "even_sum = 0\n",
    "odd_sum = 0\n",
    "\n",
    "# Step 3: Loop through the list and calculate sums\n",
    "for number in numbers:\n",
    "    if number % 2 == 0:  # Check if the number is even\n",
    "        even_sum += number  # Add to even_sum\n",
    "    else:  # The number is odd\n",
    "        odd_sum += number  # Add to odd_sum\n",
    "\n",
    "# Step 4: Display the results\n",
    "print(\"Sum of even numbers:\", even_sum)\n",
    "print(\"Sum of odd numbers:\", odd_sum)\n"
   ]
  },
  {
   "cell_type": "code",
   "execution_count": null,
   "metadata": {},
   "outputs": [],
   "source": [
    "#homework hack 3\n",
    "\n",
    "# Step 1: Create a list of favorite hobbies\n",
    "favorite_hobbies = [\"Reading\", \"Cooking\", \"Hiking\", \"Gardening\", \"Photography\"]\n",
    "\n",
    "# Step 2: Use a loop to iterate through each hobby in the list\n",
    "print(\"My Favorite Hobbies:\")\n",
    "for hobby in favorite_hobbies:\n",
    "    print(hobby)  # Print each hobby\n"
   ]
  },
  {
   "cell_type": "code",
   "execution_count": null,
   "metadata": {},
   "outputs": [],
   "source": [
    "#homework hack 4\n",
    "\n",
    "# Step 1: Create a list of questions\n",
    "questions = [\n",
    "    \"Do you enjoy reading books? (yes/no)\",\n",
    "    \"Are you interested in outdoor activities? (yes/no)\"\n",
    "]\n",
    "\n",
    "# Step 2: Initialize an empty list to store answers\n",
    "answers = []\n",
    "\n",
    "# Step 3: Loop through the questions and collect answers\n",
    "for question in questions:\n",
    "    answer = input(question + \" \")  # Prompt the user for an answer\n",
    "    while answer.lower() not in ['yes', 'no']:  # Validate input\n",
    "        print(\"Please answer with 'yes' or 'no'.\")\n",
    "        answer = input(question + \" \")  # Re-prompt for a valid answer\n",
    "    answers.append(answer)  # Add the valid answer to the list\n",
    "\n",
    "# Step 4: Display the collected answers\n",
    "print(\"\\nYour answers:\")\n",
    "for i, answer in enumerate(answers):\n",
    "    print(f\"Question {i + 1}: {answer}\")\n"
   ]
  }
 ],
 "metadata": {
  "kernelspec": {
   "display_name": "venv",
   "language": "python",
   "name": "python3"
  },
  "language_info": {
   "codemirror_mode": {
    "name": "ipython",
    "version": 3
   },
   "file_extension": ".py",
   "mimetype": "text/x-python",
   "name": "python",
   "nbconvert_exporter": "python",
   "pygments_lexer": "ipython3",
   "version": "3.12.6"
  }
 },
 "nbformat": 4,
 "nbformat_minor": 2
}
