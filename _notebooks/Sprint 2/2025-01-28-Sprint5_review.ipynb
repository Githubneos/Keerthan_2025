{
 "cells": [
  {
   "cell_type": "markdown",
   "metadata": {},
   "source": [
    "# Sprint 5 Review"
   ]
  },
  {
   "cell_type": "markdown",
   "metadata": {},
   "source": [
    "## Our Project"
   ]
  },
  {
   "cell_type": "markdown",
   "metadata": {},
   "source": [
    "### Group\n",
    "The purpose of our group’s program is to create a multiplayer drawing and guessing game inspired by Scribble.io. This program allows players to take turns drawing while others guess the word or phrase being illustrated. The goal is to provide an entertaining and interactive way for people to engage in creative gameplay, fostering collaboration, quick thinking, and creativity.\n",
    "\n",
    "\n",
    "### Individual\n",
    "My individual feature focuses on implementing the real-time guessing system. This feature enables players to submit guesses while others draw, providing instant feedback on whether the guess is correct. The purpose of this feature is to ensure smooth and engaging gameplay by allowing seamless interaction between players and keeping the game dynamic and competitive."
   ]
  },
  {
   "cell_type": "markdown",
   "metadata": {},
   "source": [
    "## List Requests"
   ]
  },
  {
   "cell_type": "markdown",
   "metadata": {},
   "source": [
    "In our program, we make use of lists, dictionaries, and a database to handle the application's data. Specifically:\n",
    "\n",
    "- Lists are used to store rows of guesses \n",
    "- Dictionaries are used to handle the JSON api requests and responses\n",
    "- Database (SQLite) is used to store the user data(the guesses)"
   ]
  },
  {
   "cell_type": "markdown",
   "metadata": {},
   "source": [
    "The Guess Api uses the following requests;\n",
    "- Post: add new guesses\n",
    "- Get: Retrieveing new entries\n",
    "- Put: To update existing guesses\n",
    "- Delete: deleting guesses"
   ]
  },
  {
   "cell_type": "markdown",
   "metadata": {},
   "source": [
    " We use lists to handle guesses and dictionaires to represent individual entries.Those database rows are then coverted for JSON Responses\n",
    "\n",
    " "
   ]
  },
  {
   "cell_type": "markdown",
   "metadata": {},
   "source": [
    "## Formatting JSON Response from API to DOM"
   ]
  },
  {
   "cell_type": "code",
   "execution_count": null,
   "metadata": {},
   "outputs": [],
   "source": [
    "@token_required()  # Require authentication before accessing this route\n",
    "def get(self):\n",
    "    \"\"\"\n",
    "    Return the guesses of the authenticated user as a JSON object.\n",
    "    \"\"\"\n",
    "    \n",
    "    # Get the current authenticated user from the token.\n",
    "    # This ensures that only the logged-in user's data is accessed.\n",
    "    current_user = g.current_user  \n",
    "    \n",
    "    # Query the database to find all guesses associated with the current user.\n",
    "    guesses = Guess.query.filter_by(user_id=current_user.id).all()  \n",
    "\n",
    "    # If the user has no recorded guesses, return a 404 response with a JSON message.\n",
    "    # This prevents returning an empty list and provides meaningful feedback.\n",
    "    if not guesses:\n",
    "        return {'message': 'No guesses found for this user'}, 404  \n",
    "\n",
    "    # Format the retrieved guesses into a list of dictionaries.\n",
    "    # Each dictionary represents a single guess and contains:\n",
    "    # - 'guess': the actual guessed word\n",
    "    # - 'is_correct': a boolean indicating if the guess was correct or not\n",
    "    guesses_data = [{'guess': guess.guess, 'is_correct': guess.is_correct} for guess in guesses]\n",
    "\n",
    "    # Convert the list of dictionaries into a JSON response.\n",
    "    # This ensures that the frontend receives structured data that can be easily parsed.\n",
    "    return jsonify(guesses_data)  \n"
   ]
  },
  {
   "cell_type": "markdown",
   "metadata": {},
   "source": [
    "### Database queries"
   ]
  },
  {
   "cell_type": "markdown",
   "metadata": {},
   "source": [
    " Query the database using SQLAlchemy to find all guesses for the current user\n",
    "    - SQLAlchemy is a third-party library that allows us to interact with the database using Python objects instead of raw SQL queries."
   ]
  },
  {
   "cell_type": "code",
   "execution_count": null,
   "metadata": {},
   "outputs": [],
   "source": [
    "@token_required()  # Require authentication before accessing this route\n",
    "def get(self):\n",
    "    \"\"\"\n",
    "    Return the guesses of the authenticated user as a JSON object.\n",
    "    \"\"\"\n",
    "    \n",
    "    # Get the current authenticated user from the token\n",
    "    current_user = g.current_user  \n",
    "    \n",
    "    # Query the database to find all guesses that match the current user's ID\n",
    "    guesses = Guess.query.filter_by(user_id=current_user.id).all()  \n",
    "\n",
    "    # If the user has no guesses recorded, return a 404 response with a message\n",
    "    if not guesses:\n",
    "        return {'message': 'No guesses found for this user'}, 404  \n",
    "\n",
    "    # Iterate through each guess object and create a list of dictionaries \n",
    "    # Each dictionary contains the guess and whether it was correct\n",
    "    guesses_data = [{'guess': guess.guess, 'is_correct': guess.is_correct} for guess in guesses]\n",
    "\n",
    "    # Convert the list into a JSON response and return it\n",
    "    return jsonify(guesses_data)\n",
    "\n"
   ]
  },
  {
   "cell_type": "markdown",
   "metadata": {},
   "source": [
    "### Methods in Class to Work with Columns:"
   ]
  },
  {
   "cell_type": "code",
   "execution_count": null,
   "metadata": {},
   "outputs": [],
   "source": [
    "class GuessesAPI:\n",
    "    class _CRUD(Resource):\n",
    "        @token_required()\n",
    "        def post(self):\n",
    "            \"\"\"\n",
    "            Add a new guess for the authenticated user.\n",
    "            \"\"\"\n",
    "            current_user = g.current_user  # Get the current authenticated user\n",
    "            body = request.get_json()  # Get the request body as JSON\n",
    "            guess_value = body.get('guess')  # Extract the 'guess' field from the request body\n",
    "\n",
    "            if not guess_value:\n",
    "                return {'message': 'No guess provided'}, 400  # Return an error if no guess is provided\n",
    "\n",
    "            # Create a new Guess object and assume it's incorrect initially\n",
    "            new_guess = Guess(user_id=current_user.id, guess=guess_value, is_correct=False)\n",
    "\n",
    "            # Add the new guess to the database session and commit it\n",
    "            db.session.add(new_guess)\n",
    "            db.session.commit()\n",
    "\n",
    "            return jsonify({'message': 'Guess added successfully', 'guess': new_guess.guess}), 201\n",
    "        \n",
    "        @token_required()\n",
    "        def get(self):\n",
    "            \"\"\"\n",
    "            Retrieve all guesses made by the authenticated user.\n",
    "            \"\"\"\n",
    "            current_user = g.current_user  # Get the authenticated user\n",
    "            \n",
    "            # Fetch all guesses associated with the current user from the database\n",
    "            guesses = Guess.query.filter_by(user_id=current_user.id).all()\n",
    "\n",
    "            if not guesses:\n",
    "                return {'message': 'No guesses found for this user'}, 404  # Handle case where no guesses exist\n",
    "            \n",
    "            # Convert guesses into a structured JSON response\n",
    "            guesses_data = [{'id': guess.id, 'guess': guess.guess, 'is_correct': guess.is_correct} for guess in guesses]\n",
    "\n",
    "            return jsonify(guesses_data)  # Return the JSON response\n",
    "        \n",
    "        @token_required()\n",
    "        def put(self):\n",
    "            \"\"\"\n",
    "            Update an existing guess's correctness status.\n",
    "            \"\"\"\n",
    "            current_user = g.current_user  # Get the authenticated user\n",
    "            body = request.get_json()  # Parse the request body\n",
    "            guess_id = body.get('id')  # Get the guess ID\n",
    "            is_correct = body.get('is_correct')  # Get the new correctness status\n",
    "\n",
    "            if guess_id is None or is_correct is None:\n",
    "                return {'message': 'Guess ID and correctness status are required'}, 400  # Validate input\n",
    "\n",
    "            # Find the guess entry belonging to the user\n",
    "            guess = Guess.query.filter_by(id=guess_id, user_id=current_user.id).first()\n",
    "\n",
    "            if not guess:\n",
    "                return {'message': 'Guess not found'}, 404  # Return error if guess doesn't exist\n",
    "            \n",
    "            # Update the correctness status\n",
    "            guess.is_correct = bool(is_correct)\n",
    "            db.session.commit()  # Save changes to the database\n",
    "\n",
    "            return jsonify({'message': 'Guess updated successfully', 'id': guess.id, 'is_correct': guess.is_correct})\n",
    "\n",
    "        @token_required()\n",
    "        def delete(self):\n",
    "            \"\"\"\n",
    "            Delete a guess made by the authenticated user.\n",
    "            \"\"\"\n",
    "            current_user = g.current_user  # Get the authenticated user\n",
    "            body = request.get_json()  # Parse the request body\n",
    "            guess_id = body.get('id')  # Get the ID of the guess to be deleted\n",
    "\n",
    "            if not guess_id:\n",
    "                return {'message': 'Guess ID is required'}, 400  # Ensure ID is provided\n",
    "\n",
    "            # Find the guess entry that belongs to the user\n",
    "            guess = Guess.query.filter_by(id=guess_id, user_id=current_user.id).first()\n",
    "\n",
    "            if not guess:\n",
    "                return {'message': 'Guess not found'}, 404  # Handle case where guess doesn't exist\n",
    "\n",
    "            # Delete the guess and commit changes to the database\n",
    "            db.session.delete(guess)\n",
    "            db.session.commit()\n",
    "\n",
    "            return jsonify({'message': 'Guess deleted successfully', 'id': guess_id})\n"
   ]
  },
  {
   "cell_type": "markdown",
   "metadata": {},
   "source": [
    "## Algorithmic code request."
   ]
  },
  {
   "cell_type": "markdown",
   "metadata": {},
   "source": [
    "### Definition of Code Blocks to Handle Requests\n",
    "\n",
    "Api CRUD Methods:"
   ]
  },
  {
   "cell_type": "code",
   "execution_count": null,
   "metadata": {},
   "outputs": [],
   "source": [
    "class GuessesAPI:\n",
    "    class _CRUD(Resource):\n",
    "        @token_required()\n",
    "        def post(self):\n",
    "            \"\"\"\n",
    "            Add a new guess for the authenticated user.\n",
    "            \"\"\"\n",
    "            current_user = g.current_user  # Get the authenticated user\n",
    "            body = request.get_json()  # Extract JSON data from request\n",
    "            new_guess = body.get('guess')  # Retrieve 'guess' value from request body\n",
    "\n",
    "            if not new_guess:\n",
    "                return {'message': 'No guess provided'}, 400  # Validate input\n",
    "            \n",
    "            # Create a new Guess object with the provided guess value\n",
    "            new_guess_obj = Guess(user_id=current_user.id, guess=new_guess, is_correct=False)\n",
    "\n",
    "            # Add and commit the new guess to the database\n",
    "            db.session.add(new_guess_obj)\n",
    "            db.session.commit()\n",
    "\n",
    "            return jsonify({'message': 'Guess added successfully', 'guess': new_guess_obj.guess}), 201\n",
    "        \n",
    "        @token_required()\n",
    "        def get(self):\n",
    "            \"\"\"\n",
    "            Retrieve all guesses made by the authenticated user.\n",
    "            \"\"\"\n",
    "            current_user = g.current_user  # Get the authenticated user\n",
    "            \n",
    "            # Fetch all guesses associated with the user\n",
    "            guesses = Guess.query.filter_by(user_id=current_user.id).all()\n",
    "\n",
    "            if not guesses:\n",
    "                return {'message': 'No guesses found for this user'}, 404  # Handle case where no guesses exist\n",
    "            \n",
    "            # Convert guesses into a structured JSON response\n",
    "            guesses_data = [{'id': guess.id, 'guess': guess.guess, 'is_correct': guess.is_correct} for guess in guesses]\n",
    "\n",
    "            return jsonify(guesses_data)  # Return the JSON response\n",
    "        \n",
    "        @token_required()\n",
    "        def put(self):\n",
    "            \"\"\"\n",
    "            Update an existing guess for the authenticated user.\n",
    "            \"\"\"\n",
    "            current_user = g.current_user  # Get the authenticated user\n",
    "            body = request.get_json()  # Extract JSON data from request\n",
    "            updated_guess = body.get('guess')  # Retrieve updated guess value\n",
    "            guess_id = body.get('guess_id')  # Retrieve ID of the guess to be updated\n",
    "\n",
    "            if not updated_guess or not guess_id:\n",
    "                return {'message': 'No guess or guess_id provided'}, 400  # Validate input\n",
    "\n",
    "            # Find the guess by ID and ensure it belongs to the current user\n",
    "            guess = Guess.query.filter_by(id=guess_id, user_id=current_user.id).first()\n",
    "            if not guess:\n",
    "                return {'message': 'Guess not found or does not belong to the user'}, 404\n",
    "\n",
    "            # Update the guess value\n",
    "            guess.guess = updated_guess\n",
    "            db.session.commit()  # Save changes to the database\n",
    "\n",
    "            return jsonify({'message': 'Guess updated successfully', 'guess': guess.guess}), 200\n",
    "\n",
    "        @token_required()\n",
    "        def delete(self):\n",
    "            \"\"\"\n",
    "            Delete a specified guess of the authenticated user.\n",
    "            \"\"\"\n",
    "            body = request.get_json()  # Extract JSON data from request\n",
    "\n",
    "            if not body or 'guess_id' not in body:\n",
    "                return {'message': 'No guess_id provided'}, 400  # Validate input\n",
    "            \n",
    "            current_user = g.current_user  # Get the authenticated user\n",
    "            guess_id = body.get('guess_id')  # Retrieve ID of the guess to be deleted\n",
    "\n",
    "            # Find the guess by ID and ensure it belongs to the current user\n",
    "            guess = Guess.query.filter_by(id=guess_id, user_id=current_user.id).first()\n",
    "            if not guess:\n",
    "                return {'message': 'Guess not found or does not belong to the user'}, 404\n",
    "\n",
    "            # Delete the guess and commit changes to the database\n",
    "            db.session.delete(guess)\n",
    "            db.session.commit()\n",
    "\n",
    "            return {'message': 'Guess deleted successfully'}, 200\n"
   ]
  },
  {
   "cell_type": "markdown",
   "metadata": {},
   "source": [
    "### Method/Procedure in Class with Sequencing, Selection, and Iteration"
   ]
  },
  {
   "cell_type": "code",
   "execution_count": null,
   "metadata": {},
   "outputs": [],
   "source": [
    "@token_required()\n",
    "def update_guess():\n",
    "    \"\"\"\n",
    "    API endpoint to update a user's guess. This function follows:\n",
    "    - **Sequencing**: Each step is executed in a logical order.\n",
    "    - **Selection**: Decisions are made based on input validity and conditions.\n",
    "    - **Iteration**: Updates are applied to stored guesses iteratively.\n",
    "    \"\"\"\n",
    "    try:\n",
    "        # ========== SEQUENCING: Step 1 - Parse JSON input ==========\n",
    "        data = request.json  # Extract the JSON request body\n",
    "        if not data:\n",
    "            return jsonify({\"error\": \"Invalid or missing JSON payload.\"}), 400  # Selection: Handle missing data\n",
    "\n",
    "        print(\"Incoming update request:\", data)  # Debugging output\n",
    "\n",
    "        # ========== SEQUENCING: Step 2 - Validate required keys ==========\n",
    "        required_keys = {'user', 'guess_id', 'new_guess', 'is_correct'}\n",
    "        is_valid, error_message = validate_request_data(data, required_keys)\n",
    "\n",
    "        if not is_valid:\n",
    "            print(\"Validation failed:\", error_message)  # Debugging\n",
    "            return jsonify({\"error\": error_message}), 400  # Selection: Handle invalid data\n",
    "\n",
    "        # ========== SEQUENCING: Step 3 - Extract values from JSON ==========\n",
    "        user = data['user']\n",
    "        guess_id = data['guess_id']\n",
    "        new_guess = data['new_guess']\n",
    "        is_correct = data['is_correct']\n",
    "\n",
    "        # ========== SEQUENCING: Step 4 - Validate data types ==========\n",
    "        if not isinstance(user, str) or not isinstance(new_guess, str) or not isinstance(is_correct, bool):\n",
    "            return jsonify({\"error\": \"Invalid data types for user, guess, or is_correct.\"}), 400  # Selection\n",
    "\n",
    "        # ========== SEQUENCING: Step 5 - Find and update the guess ==========\n",
    "        existing_guess = Guess.query.filter_by(id=guess_id, guesser_name=user).first()  # Selection: Locate the guess\n",
    "\n",
    "        if not existing_guess:\n",
    "            return jsonify({\"error\": \"Guess not found or does not belong to the user.\"}), 404  # Selection\n",
    "\n",
    "        # ========== SEQUENCING: Step 6 - Update the guess in the database ==========\n",
    "        existing_guess.guess = new_guess  # Modify guess value\n",
    "        existing_guess.is_correct = is_correct  # Modify correctness status\n",
    "        db.session.commit()  # Save changes\n",
    "\n",
    "        # ========== SEQUENCING: Step 7 - Update user stats ==========\n",
    "        if user in user_stats:\n",
    "            user_stats[user][\"guesses\"] = [  # Iteration: Modify guess list\n",
    "                {\"guess\": new_guess, \"is_correct\": is_correct} if g[\"guess\"] == existing_guess.guess else g\n",
    "                for g in user_stats[user][\"guesses\"]\n",
    "            ]\n",
    "            \n",
    "            # Recalculate correctness statistics\n",
    "            user_stats[user][\"correct\"] = sum(1 for g in user_stats[user][\"guesses\"] if g[\"is_correct\"])  # Iteration\n",
    "            user_stats[user][\"wrong\"] = sum(1 for g in user_stats[user][\"guesses\"] if not g[\"is_correct\"])  # Iteration\n",
    "\n",
    "        # ========== SEQUENCING: Step 8 - Return response ==========\n",
    "        response_data = {\n",
    "            \"User\": user,\n",
    "            \"Updated Guess\": {\n",
    "                \"Guess\": new_guess,\n",
    "                \"Is Correct\": is_correct\n",
    "            },\n",
    "            \"Updated Stats\": {\n",
    "                \"Correct Guesses\": user_stats[user][\"correct\"],\n",
    "                \"Wrong Guesses\": user_stats[user][\"wrong\"],\n",
    "                \"Total Guesses\": len(user_stats[user][\"guesses\"])  # Iteration: Count guesses\n",
    "            }\n",
    "        }\n",
    "\n",
    "        return jsonify(response_data), 200  # Return success response\n",
    "\n",
    "    except Exception as e:\n",
    "        print(\"General Exception:\", str(e))  # Debugging\n",
    "        return jsonify({\"error\": f\"Internal server error: {str(e)}\"}), 500  # Selection: Handle unexpected errors\n"
   ]
  },
  {
   "cell_type": "markdown",
   "metadata": {},
   "source": [
    "### Parameters and Return Type\n",
    "\n",
    "- Parameters\n",
    "    The body of the request is in JSON format, which contains fields like:\n",
    "\n",
    "        guesser_name: Name of the guesser (string).\n",
    "        guess: The guessed value (string).\n",
    "        is_correct: Whether the guess is correct (boolean).\n",
    "\n",
    "- Return Type\n",
    "The functions return a JSON response, created using jsonify(), which ensures the response is in proper JSON format. \n",
    "     \n",
    "     {\n",
    "    \"id\": 1,\n",
    "    \"guesser_name\": \"JohnDoe\",\n",
    "    \"guess\": \"apple\",\n",
    "    \"is_correct\": true\n",
    "}\n"
   ]
  },
  {
   "cell_type": "markdown",
   "metadata": {},
   "source": [
    "## Call to Algorithm request"
   ]
  },
  {
   "cell_type": "markdown",
   "metadata": {},
   "source": [
    "### Definition of Code Block to Make a Request\n",
    "\n",
    "Frontend Fetch to Endpoint:"
   ]
  },
  {
   "cell_type": "code",
   "execution_count": null,
   "metadata": {
    "vscode": {
     "languageId": "javascript"
    }
   },
   "outputs": [],
   "source": [
    "async function fetchGuesses() {\n",
    "  try {\n",
    "    // Step 1: Make a GET request to the server to fetch the list of guesses\n",
    "    const response = await fetch('http://127.0.0.1:8887/api/guesses', { method: 'GET' });\n",
    "    \n",
    "    // Step 2: Check if the response is successful (status code 200-299)\n",
    "    if (!response.ok) throw new Error('Failed to fetch guesses');  // If not, throw an error\n",
    "    \n",
    "    // Step 3: Parse the response body as JSON\n",
    "    const guesses = await response.json(); // The server is expected to respond with an array of guesses\n",
    "    \n",
    "    // Step 4: Update the UI with the fetched guesses\n",
    "    updateGuessTable(guesses);  // Call the function to update the guesses table in the UI\n",
    "\n",
    "  } catch (error) {\n",
    "    // Step 5: Handle any errors that occurred during the request or processing\n",
    "    console.error('Error fetching guesses:', error);  // Log the error to the console\n",
    "    messageArea.textContent = `Error fetching guesses: ${error.message}`;  // Display the error message to the user\n",
    "  }\n",
    "}"
   ]
  },
  {
   "cell_type": "markdown",
   "metadata": {},
   "source": [
    "### Discuss the Call/Request to the Method with Algorithim\n",
    "\n",
    "- Call/Request:\n",
    "    - The delete CRUD method sends delete request to api/guesses endpoint for guess deletion\n"
   ]
  },
  {
   "cell_type": "code",
   "execution_count": null,
   "metadata": {},
   "outputs": [],
   "source": [
    "@token_required()  # Ensures the user is authenticated before accessing this endpoint\n",
    "def delete(self):\n",
    "    \"\"\"\n",
    "    Delete a specified guess of the authenticated user.\n",
    "    \"\"\"\n",
    "\n",
    "    # Step 1: Retrieve JSON body from the request\n",
    "    body = request.get_json()  \n",
    "\n",
    "    # Step 2: Check if the request contains a 'guess_id'\n",
    "    if not body or 'guess_id' not in body:  \n",
    "        return {'message': 'No guess_id provided'}, 400  # Return error if missing\n",
    "\n",
    "    # Step 3: Get the authenticated user (provided by token_required)\n",
    "    current_user = g.current_user  \n",
    "\n",
    "    # Step 4: Extract the 'guess_id' from the JSON body\n",
    "    guess_id = body.get('guess_id')  \n",
    "\n",
    "    # Step 5: Query the database using SQLAlchemy to find the guess\n",
    "    # This query is provided by SQLAlchemy (a third-party ORM) and translates to:\n",
    "    # SELECT * FROM guesses WHERE id = <guess_id> AND user_id = <current_user.id>;\n",
    "    guess = Guess.query.filter_by(id=guess_id, user_id=current_user.id).first()  \n",
    "\n",
    "    # Step 6: If no guess is found (either it doesn't exist or doesn't belong to the user), return an error\n",
    "    if not guess:  \n",
    "        return {'message': 'Guess not found or does not belong to the user'}, 404\n",
    "\n",
    "    # Step 7: Delete the guess from the database\n",
    "    db.session.delete(guess)  # SQLAlchemy ORM handles the deletion\n",
    "    db.session.commit()  # Commit the transaction to make changes permanent\n",
    "\n",
    "    # Step 8: Return a success response\n",
    "    return {'message': 'Guess deleted successfully'}, 200  \n"
   ]
  },
  {
   "cell_type": "markdown",
   "metadata": {},
   "source": [
    "- Return/Response:\n",
    "    - The response from the backend is handled by checking the status code and updating the UI accordingly."
   ]
  },
  {
   "cell_type": "markdown",
   "metadata": {},
   "source": [
    "Success Response: 200 OK"
   ]
  },
  {
   "cell_type": "code",
   "execution_count": null,
   "metadata": {},
   "outputs": [],
   "source": [
    "{\n",
    "  \"message\": \"Guess deleted successfully\"\n",
    "}\n"
   ]
  },
  {
   "cell_type": "markdown",
   "metadata": {},
   "source": [
    "Error response: 400 Missing guess_id"
   ]
  },
  {
   "cell_type": "code",
   "execution_count": null,
   "metadata": {},
   "outputs": [],
   "source": [
    "{\n",
    "  \"message\": \"No guess_id provided\"\n",
    "}\n"
   ]
  },
  {
   "cell_type": "markdown",
   "metadata": {},
   "source": [
    "Error Response: 404 guess not found"
   ]
  },
  {
   "cell_type": "code",
   "execution_count": null,
   "metadata": {},
   "outputs": [],
   "source": [
    "{\n",
    "  \"message\": \"Guess not found or does not belong to the user\"\n",
    "}\n"
   ]
  },
  {
   "cell_type": "markdown",
   "metadata": {},
   "source": [
    "### Handling Data and Error Conditions\n",
    "\n",
    "- Normal Conditions:\n",
    "    - The guess is successfully deleted, and the UI is updated to reflect the change. \n",
    "        - 200 OK: Guess successfully deleted\n",
    "\n",
    "- Error Conditions:\n",
    "    - If the guess is not found or the request fails, an error message is displayed.\n",
    "        - error 404: Guess not found\n",
    "        - error 400: missing guess_id provided"
   ]
  }
 ],
 "metadata": {
  "kernelspec": {
   "display_name": "venv",
   "language": "python",
   "name": "python3"
  },
  "language_info": {
   "codemirror_mode": {
    "name": "ipython",
    "version": 3
   },
   "file_extension": ".py",
   "mimetype": "text/x-python",
   "name": "python",
   "nbconvert_exporter": "python",
   "pygments_lexer": "ipython3",
   "version": "3.12.6"
  }
 },
 "nbformat": 4,
 "nbformat_minor": 2
}
