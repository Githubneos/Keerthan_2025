{
 "cells": [
  {
   "cell_type": "markdown",
   "metadata": {},
   "source": [
    "# Sprint 5 Review"
   ]
  },
  {
   "cell_type": "markdown",
   "metadata": {},
   "source": [
    "## Our Project"
   ]
  },
  {
   "cell_type": "markdown",
   "metadata": {},
   "source": [
    "### Group\n",
    "The purpose of our group’s program is to create a multiplayer drawing and guessing game inspired by Scribble.io. This program allows players to take turns drawing while others guess the word or phrase being illustrated. The goal is to provide an entertaining and interactive way for people to engage in creative gameplay, fostering collaboration, quick thinking, and creativity.\n",
    "\n",
    "\n",
    "### Individual\n",
    "My individual feature focuses on implementing the real-time guessing system. This feature enables players to submit guesses while others draw, providing instant feedback on whether the guess is correct. The purpose of this feature is to ensure smooth and engaging gameplay by allowing seamless interaction between players and keeping the game dynamic and competitive."
   ]
  },
  {
   "cell_type": "markdown",
   "metadata": {},
   "source": [
    "## Demo Fullstack Features"
   ]
  },
  {
   "cell_type": "markdown",
   "metadata": {},
   "source": [
    "Demo"
   ]
  },
  {
   "cell_type": "markdown",
   "metadata": {},
   "source": [
    "## Using Frontend to Show API request and Present API Response"
   ]
  },
  {
   "cell_type": "code",
   "execution_count": null,
   "metadata": {
    "vscode": {
     "languageId": "javascript"
    }
   },
   "outputs": [],
   "source": [
    "// Listen for the 'submit' event on the form with id 'guessForm'\n",
    "document.getElementById('guessForm').addEventListener('submit', async (e) => {\n",
    "  e.preventDefault();  // Prevent the default form submission behavior (page reload)\n",
    "\n",
    "  // Get the values from the form input fields\n",
    "  const user = document.getElementById('user').value.trim();  // Trim any leading/trailing spaces from the user input\n",
    "  const guess = document.getElementById('guess').value.trim();  // Trim any leading/trailing spaces from the guess input\n",
    "\n",
    "  // Check if the guess is correct by comparing it to the label of the current drawing\n",
    "  const isCorrect = guess.toLowerCase() === currentDrawing.label.toLowerCase();\n",
    "\n",
    "  try {\n",
    "    // Send a POST request to the backend to submit the guess\n",
    "    const response = await fetch('http://127.0.0.1:8887/api/submit_guess', {\n",
    "      method: 'POST',  // HTTP method: POST (sending data to the server)\n",
    "      headers: { 'Content-Type': 'application/json' },  // Set the request header to indicate we're sending JSON data\n",
    "      body: JSON.stringify({ user, guess, is_correct: isCorrect }),  // Send the user, guess, and correctness as JSON\n",
    "    });\n",
    "\n",
    "    // Check if the response from the server is successful\n",
    "    if (response.ok) {\n",
    "      // Parse the JSON response body\n",
    "      const result = await response.json();\n",
    "      messageArea.textContent = result.message;  // Display the server's response message in the message area\n",
    "      fetchGuesses();  // Call a function to refresh the displayed guesses after submission\n",
    "    } else {\n",
    "      // If the response is not OK, read the error text from the response and throw an error\n",
    "      const errorText = await response.text();\n",
    "      throw new Error(`Request failed: ${errorText}`);\n",
    "    }\n",
    "  } catch (error) {\n",
    "    // If any error occurs (either from the fetch request or the server), log it and display an error message\n",
    "    console.error('Error:', error);\n",
    "    messageArea.textContent = `Error: ${error.message}`;  // Display the error message in the message area\n",
    "  }\n",
    "});"
   ]
  },
  {
   "cell_type": "markdown",
   "metadata": {},
   "source": [
    "## List Requests"
   ]
  },
  {
   "cell_type": "markdown",
   "metadata": {},
   "source": [
    "In our program, we make use of lists, dictionaries, and a database to handle the application's data. Specifically:\n",
    "\n",
    "- Lists are used to store rows of guesses \n",
    "- Dictionaries are used to handle the JSON api requests and responses\n",
    "- Database (SQLite) is used to store the user data(the guesses)"
   ]
  },
  {
   "cell_type": "markdown",
   "metadata": {},
   "source": [
    "The Guess Api uses the following requests;\n",
    "- Post: add new guesses\n",
    "- Get: Retrieveing new entries\n",
    "- Put: To update existing guesses\n",
    "- Delete: deleting guesses"
   ]
  },
  {
   "cell_type": "markdown",
   "metadata": {},
   "source": [
    " We use lists to handle guesses and dictionaires to represent individual entries.Those database rows are then coverted for JSON Responses\n",
    "\n",
    " ex: \n",
    " "
   ]
  },
  {
   "cell_type": "code",
   "execution_count": null,
   "metadata": {},
   "outputs": [],
   "source": [
    "guesses = Guess.query.order_by(Guess.timestamp.desc()).all()\n",
    "guesses_list = [guess.read() for guess in guesses]"
   ]
  },
  {
   "cell_type": "markdown",
   "metadata": {},
   "source": [
    "## Formatting JSON Response from API to DOM"
   ]
  },
  {
   "cell_type": "code",
   "execution_count": null,
   "metadata": {},
   "outputs": [],
   "source": [
    "@guess_api.route('/api/guesses', methods=['GET'])\n",
    "def get_guesses():\n",
    "    guesses = Guess.query.order_by(Guess.timestamp.desc()).all()\n",
    "    return jsonify([guess.read() for guess in guesses]), 200"
   ]
  },
  {
   "cell_type": "markdown",
   "metadata": {},
   "source": [
    "### Database queries"
   ]
  },
  {
   "cell_type": "code",
   "execution_count": null,
   "metadata": {},
   "outputs": [],
   "source": [
    "@token_required()\n",
    "def get(self):\n",
    "    \"\"\"\n",
    "    Return the guesses of the authenticated user as a JSON object.\n",
    "    \"\"\"\n",
    "    current_user = g.current_user  # Get the current authenticated user\n",
    "    guesses = Guess.query.filter_by(user_id=current_user.id).all()  # Fetch guesses made by the user\n",
    "\n",
    "    if not guesses:\n",
    "        return {'message': 'No guesses found for this user'}, 404  # If no guesses, return a 404 response\n",
    "\n",
    "    # Serialize guesses into a list of dictionaries (or any format required)\n",
    "    guesses_data = [{'guess': guess.guess, 'is_correct': guess.is_correct} for guess in guesses]\n",
    "\n",
    "    return jsonify(guesses_data)  # Return the guesses as a JSON response\n"
   ]
  },
  {
   "cell_type": "markdown",
   "metadata": {},
   "source": [
    "### Methods in Class to Work with Columns:"
   ]
  },
  {
   "cell_type": "code",
   "execution_count": null,
   "metadata": {},
   "outputs": [],
   "source": [
    "class GuessesAPI:\n",
    "    class _CRUD(Resource):\n",
    "        @token_required()\n",
    "        def post(self):\n",
    "            \"\"\"\n",
    "            Add a new guess for the authenticated user.\n",
    "            \"\"\"\n",
    "            current_user = g.current_user  # Get the current authenticated user\n",
    "            body = request.get_json()  # Get the request body as JSON\n",
    "            guess_value = body.get('guess')  # Get the 'guess' from the request body\n",
    "\n",
    "            if not guess_value:\n",
    "                return {'message': 'No guess provided'}, 400  # Return an error if no guess is provided\n",
    "\n",
    "            # Create a new Guess object\n",
    "            new_guess = Guess(user_id=current_user.id, guess=guess_value, is_correct=False)  # Set is_correct to False initially\n",
    "\n",
    "            # Add the new guess to the session and commit it to the database\n",
    "            db.session.add(new_guess)\n",
    "            db.session.commit()\n",
    "\n",
    "            return jsonify({'message': 'Guess added successfully', 'guess': new_guess.guess}), 201\n"
   ]
  },
  {
   "cell_type": "markdown",
   "metadata": {},
   "source": [
    "## Algorithmic code request."
   ]
  },
  {
   "cell_type": "markdown",
   "metadata": {},
   "source": [
    "### Definition of Code Blocks to Handle Requests\n",
    "\n",
    "Api CRUD Methods:"
   ]
  },
  {
   "cell_type": "code",
   "execution_count": null,
   "metadata": {},
   "outputs": [],
   "source": [
    "class GuessesAPI:\n",
    "    class _CRUD(Resource):\n",
    "        @token_required()\n",
    "        def post(self):\n",
    "            \"\"\"\n",
    "            Add a new guess for the authenticated user.\n",
    "            \"\"\"\n",
    "            current_user = g.current_user\n",
    "            body = request.get_json()\n",
    "            new_guess = body.get('guess')\n",
    "            if not new_guess:\n",
    "                return {'message': 'No guess provided'}, 400\n",
    "\n",
    "            # Create a new Guess object\n",
    "            new_guess_obj = Guess(user_id=current_user.id, guess=new_guess, is_correct=False)  # is_correct is False initially\n",
    "\n",
    "            # Add the new guess to the session and commit it\n",
    "            db.session.add(new_guess_obj)\n",
    "            db.session.commit()\n",
    "\n",
    "            return jsonify({'message': 'Guess added successfully', 'guess': new_guess_obj.guess}), 201\n",
    "\n",
    "        @token_required()\n",
    "        def put(self):\n",
    "            \"\"\"\n",
    "            Update an existing guess for the authenticated user.\n",
    "            \"\"\"\n",
    "            current_user = g.current_user\n",
    "            body = request.get_json()\n",
    "            updated_guess = body.get('guess')\n",
    "            guess_id = body.get('guess_id')\n",
    "\n",
    "            if not updated_guess or not guess_id:\n",
    "                return {'message': 'No guess or guess_id provided'}, 400\n",
    "\n",
    "            # Find the guess by its ID and check if it belongs to the current user\n",
    "            guess = Guess.query.filter_by(id=guess_id, user_id=current_user.id).first()\n",
    "            if not guess:\n",
    "                return {'message': 'Guess not found or does not belong to the user'}, 404\n",
    "\n",
    "            # Update the guess value\n",
    "            guess.guess = updated_guess\n",
    "            db.session.commit()\n",
    "\n",
    "            return jsonify({'message': 'Guess updated successfully', 'guess': guess.guess}), 200\n",
    "\n",
    "        @token_required()\n",
    "        def delete(self):\n",
    "            \"\"\"\n",
    "            Delete a specified guess of the authenticated user.\n",
    "            \"\"\"\n",
    "            body = request.get_json()\n",
    "\n",
    "            if not body or 'guess_id' not in body:\n",
    "                return {'message': 'No guess_id provided'}, 400\n",
    "            \n",
    "            current_user = g.current_user\n",
    "            guess_id = body.get('guess_id')\n",
    "\n",
    "            # Find the guess by its ID and check if it belongs to the current user\n",
    "            guess = Guess.query.filter_by(id=guess_id, user_id=current_user.id).first()\n",
    "            if not guess:\n",
    "                return {'message': 'Guess not found or does not belong to the user'}, 404\n",
    "\n",
    "            # Delete the guess\n",
    "            db.session.delete(guess)\n",
    "            db.session.commit()\n",
    "\n",
    "            return {'message': 'Guess deleted successfully'}, 200\n"
   ]
  },
  {
   "cell_type": "markdown",
   "metadata": {},
   "source": [
    "### Method/Procedure in Class with Sequencing, Selection, and Iteration"
   ]
  },
  {
   "cell_type": "code",
   "execution_count": null,
   "metadata": {},
   "outputs": [],
   "source": [
    "@token_required()  # Ensures the user is authenticated before accessing this resource\n",
    "def delete(self):\n",
    "    \"\"\"\n",
    "    Delete a specified guess of the authenticated user.\n",
    "    \"\"\"\n",
    "    body = request.get_json()  # Step 1: Sequencing - Get the request body (first step in processing the request)\n",
    "\n",
    "    if not body or 'guess_id' not in body:  # Step 2: Selection - Check if the 'guess_id' is present in the request body\n",
    "        return {'message': 'No guess_id provided'}, 400  # Return an error if no 'guess_id' is provided\n",
    "\n",
    "    current_user = g.current_user  # Step 3: Sequencing - Get the current authenticated user (continuing the request handling)\n",
    "    guess_id = body.get('guess_id')  # Step 4: Sequencing - Extract the 'guess_id' from the body\n",
    "\n",
    "    # Step 5: Selection - Find the guess that matches the given guess_id and belongs to the current user\n",
    "    guess = Guess.query.filter_by(id=guess_id, user_id=current_user.id).first()  # Query database for matching guess\n",
    "    if not guess:  # Step 6: Selection - If no matching guess is found, return an error\n",
    "        return {'message': 'Guess not found or does not belong to the user'}, 404\n",
    "\n",
    "    # Step 7: Iteration - In this case, we don't need to iterate through a list, but we check one guess.\n",
    "    # The iteration here would occur in broader use cases where multiple guesses might be checked in a loop (though not applicable here).\n",
    "\n",
    "    # Step 8: Sequencing - Perform the deletion of the guess from the database\n",
    "    db.session.delete(guess)  # Delete the guess from the session\n",
    "    db.session.commit()  # Commit the transaction to save changes to the database\n",
    "\n",
    "    # Step 9: Sequencing - Return a success message indicating the guess has been deleted\n",
    "    return {'message': 'Guess deleted successfully'}, 200  # Final step, returning a successful response\n"
   ]
  },
  {
   "cell_type": "markdown",
   "metadata": {},
   "source": [
    "### Parameters and Return Type\n",
    "\n",
    "- Parameters\n",
    "    The body of the request is in JSON format, which contains fields like:\n",
    "\n",
    "        guesser_name: Name of the guesser (string).\n",
    "        guess: The guessed value (string).\n",
    "        is_correct: Whether the guess is correct (boolean).\n",
    "\n",
    "- Return Type\n",
    "The functions return a JSON response, created using jsonify(), which ensures the response is in proper JSON format. \n",
    "     \n",
    "     {\n",
    "    \"id\": 1,\n",
    "    \"guesser_name\": \"JohnDoe\",\n",
    "    \"guess\": \"apple\",\n",
    "    \"is_correct\": true\n",
    "}\n"
   ]
  },
  {
   "cell_type": "markdown",
   "metadata": {},
   "source": [
    "## Call to Algorithm request"
   ]
  },
  {
   "cell_type": "markdown",
   "metadata": {},
   "source": [
    "### Definition of Code Block to Make a Request\n",
    "\n",
    "Frontend Fetch to Endpoint:"
   ]
  },
  {
   "cell_type": "code",
   "execution_count": null,
   "metadata": {
    "vscode": {
     "languageId": "javascript"
    }
   },
   "outputs": [],
   "source": [
    "async function fetchGuesses() {\n",
    "  try {\n",
    "    // Step 1: Make a GET request to the server to fetch the list of guesses\n",
    "    const response = await fetch('http://127.0.0.1:8887/api/guesses', { method: 'GET' });\n",
    "    \n",
    "    // Step 2: Check if the response is successful (status code 200-299)\n",
    "    if (!response.ok) throw new Error('Failed to fetch guesses');  // If not, throw an error\n",
    "    \n",
    "    // Step 3: Parse the response body as JSON\n",
    "    const guesses = await response.json(); // The server is expected to respond with an array of guesses\n",
    "    \n",
    "    // Step 4: Update the UI with the fetched guesses\n",
    "    updateGuessTable(guesses);  // Call the function to update the guesses table in the UI\n",
    "\n",
    "  } catch (error) {\n",
    "    // Step 5: Handle any errors that occurred during the request or processing\n",
    "    console.error('Error fetching guesses:', error);  // Log the error to the console\n",
    "    messageArea.textContent = `Error fetching guesses: ${error.message}`;  // Display the error message to the user\n",
    "  }\n",
    "}"
   ]
  },
  {
   "cell_type": "markdown",
   "metadata": {},
   "source": [
    "### Discuss the Call/Request to the Method with Algorithim\n",
    "\n",
    "- Call/Request:\n",
    "    - The delete CRUD method sends delete request to api/guesses endpoint for guess deletion\n",
    "\n",
    "- Return/Response:\n",
    "    - The response from the backend is handled by checking the status code and updating the UI  accordingly."
   ]
  },
  {
   "cell_type": "markdown",
   "metadata": {},
   "source": [
    "### Handling Data and Error Conditions\n",
    "\n",
    "- Normal Conditions:\n",
    "    - The guess is successfully deleted, and the UI is updated to reflect the change.\n",
    "\n",
    "- Error Conditions:\n",
    "    - If the guess is not found or the request fails, an error message is displayed."
   ]
  }
 ],
 "metadata": {
  "kernelspec": {
   "display_name": "venv",
   "language": "python",
   "name": "python3"
  },
  "language_info": {
   "codemirror_mode": {
    "name": "ipython",
    "version": 3
   },
   "file_extension": ".py",
   "mimetype": "text/x-python",
   "name": "python",
   "nbconvert_exporter": "python",
   "pygments_lexer": "ipython3",
   "version": "3.12.6"
  }
 },
 "nbformat": 4,
 "nbformat_minor": 2
}
