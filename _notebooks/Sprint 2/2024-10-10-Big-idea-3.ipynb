{
 "cells": [
  {
   "cell_type": "markdown",
   "metadata": {},
   "source": [
    "# Executive Summary"
   ]
  },
  {
   "cell_type": "markdown",
   "metadata": {},
   "source": [
    "## Lessons Summary\n",
    "- **Creating Strings**: \n",
    "  - Use single quotes (`' '`), double quotes (`\" \"`), or backticks (````) for creating strings. \n",
    "  - Backticks (template literals) allow embedding JavaScript expressions using `${expression}`.\n",
    "\n",
    "- **Concatenation**: \n",
    "  - Combine strings using the `+` operator or by embedding variables into template literals with `${}`.\n",
    "\n",
    "- **String Interpolation**: \n",
    "  - Template literals with backticks provide a cleaner way to insert variables or expressions directly into a string.\n",
    "\n",
    "- **Indexing**: \n",
    "  - Access individual characters in a string using square brackets (`[]`) or the `.at()` method. \n",
    "  - `at()` also supports negative indices.\n",
    "\n",
    "- **Substrings with `slice()`**: \n",
    "  - Extract parts of a string using `slice(startIndex, endIndex)`.\n",
    "\n",
    "- **Escape Characters**: \n",
    "  - Use `\\` for special characters like:\n",
    "    - `\\n` for new line\n",
    "    - `\\t` for tab\n",
    "    - `\\\\` for backslash\n",
    "    - Unicode characters (e.g., `\\u2731` outputs ✱)\n"
   ]
  },
  {
   "cell_type": "markdown",
   "metadata": {},
   "source": [
    "## Final Grades\n",
    "\n",
    "3.8: 0.85\n",
    "3.10: 0.85\n",
    "3.2: 0.83\n",
    "3.3 & 3.5: 0.8\n",
    "3.6 & 3.7: 0.55"
   ]
  },
  {
   "cell_type": "markdown",
   "metadata": {},
   "source": [
    "## What I learned: "
   ]
  },
  {
   "cell_type": "markdown",
   "metadata": {},
   "source": [
    "### Collaboration and Communication\n",
    "Working with others and collaborating has been a huge part of my growth throughout this project. Before, I was not as good at communicating my ideas or listening to others. But now, I have learned the value of both and that has contributed to my learning and progress in this class. I learned how to share my thoughts clearly, listen to different perspectives, and find solutions together. Collaboration made it easier to solve problems and helped me see the value in everyone’s input. I feel like I’ve become a more effective team member, and it’s taught me how important teamwork and good communication really are."
   ]
  },
  {
   "cell_type": "markdown",
   "metadata": {},
   "source": [
    "### Diving Deeper into Javascript\n",
    "Through this project, I’ve significantly improved my JavaScript skills. Before, I had a basic understanding of JavaScript, but now I can confidently use variables, loops, and functions. I’ve also learned how to use string manipulation, conditional statements, and arrays more effectively. Working on this project helped me apply these concepts in practical ways, and I feel much more comfortable writing, debugging, and improving my JavaScript code than I did before. I learned a lot through my teammates and other sources and perservered. Before this project, I never had a good grasp on javasscript. I knew a little python, but no javascript, however through this project and this class In was able to get past that and learn to fullest potential."
   ]
  },
  {
   "cell_type": "markdown",
   "metadata": {},
   "source": [
    "## Relevancy Checklist"
   ]
  },
  {
   "cell_type": "markdown",
   "metadata": {},
   "source": [
    " | **Assignment**          | **Link** | **Grade** | **Comments** |\n",
    "|-------------------------|---------------|-----------|--------------|\n",
    "| College Board Coverage  |             (https://nighthawkcoders.github.io/portfolio_2025/csp/big-idea/p2/3-4-1)            | 0.87       |       I succeeded in covering all topics covered by collegeboard.             |   \n",
    "|  Examples     |           (https://nighthawkcoders.github.io/portfolio_2025/csp/big-idea/p2/3-4-1)           |    0.9    |            My examples were very detailed and painted a clear picture of what each part of the code did.                |\n",
    "| Popcorn Hack Usage      |             (https://nighthawkcoders.github.io/portfolio_2025/csp/big-idea/p2/3-4-3)                   |   0.89     |            My Popcorn hacks were detailed and easy, but still required the coder to think.                       |\n",
    "| Homework                |             (https://nighthawkcoders.github.io/portfolio_2025/csp/big-idea/p2/3-4-4)            | 0.88       |           The Homework was fairly easy, but still required some critical thinking.               |\n",
    "| Grading Plan            |             (https://docs.google.com/spreadsheets/d/1ytcHH94Pc_WQv6vFt-rMtssMYFeuX3M_wBlMs1neRXM/edit?resourcekey=&gid=631551841#gid=631551841)     | 0.92   |      We Graded everyone fairly and unbiased. We also rewarded students who went            |\n",
    "| Original and Creative    |    (https://nighthawkcoders.github.io/portfolio_2025/csp/big-idea/p2/3-4-1)                  | 0.9       |         I put in hotlinks to each specific sublesson and added custom lessons, homework, and popcorn hacks to psice up the lesson. I also added more caption to explain the examples in a deeper way.                  |\n",
    "| **Total**               |        |    **0.89**       |              |"
   ]
  },
  {
   "cell_type": "markdown",
   "metadata": {},
   "source": [
    "## Impact of Treaching and Grading\n",
    " - the grading process mainly focused on mastery of concepts and, and provide constructive criticism and feedback to my fellow students to help guide their learning and improvement.\n",
    " - Teaching these lessons mainly helped with my confidence to tackle larger and more complex challenges because they helped fully flesh my technical skills in the basics and helped me improve my critical thinking."
   ]
  },
  {
   "cell_type": "markdown",
   "metadata": {},
   "source": [
    "## Guess the Number final Project"
   ]
  },
  {
   "cell_type": "code",
   "execution_count": 3,
   "metadata": {
    "vscode": {
     "languageId": "javascript"
    }
   },
   "outputs": [
    {
     "data": {
      "application/javascript": "// Variables\nlet secretNumber = Math.floor(Math.random() * 100) + 1;  // Random number between 1 and 100\nlet attempts = 5;  // Number of attempts left\nlet output = document.createElement(\"p\");  // Create a paragraph element to show messages\ndocument.body.appendChild(output);  // Append the paragraph to the body of the page\n\n// Function to check the user's guess\nfunction checkGuess() {\n  // Data abstraction: get user input from the text box\n  let guess = document.getElementById('guess').value;\n  guess = parseInt(guess);  // Convert the input to an integer\n  let message = \"\";  // String to store the message\n  \n  // Conditional statements to compare the guess with the secret number\n  if (guess < secretNumber) {\n    message = \"Too low!\";\n  } else if (guess > secretNumber) {\n    message = \"Too high!\";\n  } else {\n    message = \"You got it!\";\n    attempts = 0;  // Set attempts to 0 to end the game\n  }\n  \n  // Nested conditionals to check the number of attempts\n  attempts--;\n  if (attempts > 0 && message !== \"You got it!\") {\n    message += \" You have \" + attempts + \" attempts left.\";\n  } else if (attempts == 0 && message !== \"You got it!\") {\n    message = \"Game over! The correct number was \" + secretNumber + \".\";\n  }\n  \n  // Display the message in the paragraph\n  output.innerHTML = message;\n}\n",
      "text/plain": [
       "<IPython.core.display.Javascript object>"
      ]
     },
     "metadata": {},
     "output_type": "display_data"
    }
   ],
   "source": [
    "%%js\n",
    "// Variables\n",
    "let secretNumber = Math.floor(Math.random() * 100) + 1;  // Random number between 1 and 100\n",
    "let attempts = 5;  // Number of attempts left\n",
    "let output = document.createElement(\"p\");  // Create a paragraph element to show messages\n",
    "document.body.appendChild(output);  // Append the paragraph to the body of the page\n",
    "\n",
    "// Function to check the user's guess\n",
    "function checkGuess() {\n",
    "  // Data abstraction: get user input from the text box\n",
    "  let guess = document.getElementById('guess').value;\n",
    "  guess = parseInt(guess);  // Convert the input to an integer\n",
    "  let message = \"\";  // String to store the message\n",
    "  \n",
    "  // Conditional statements to compare the guess with the secret number\n",
    "  if (guess < secretNumber) {\n",
    "    message = \"Too low!\";\n",
    "  } else if (guess > secretNumber) {\n",
    "    message = \"Too high!\";\n",
    "  } else {\n",
    "    message = \"You got it!\";\n",
    "    attempts = 0;  // Set attempts to 0 to end the game\n",
    "  }\n",
    "  \n",
    "  // Nested conditionals to check the number of attempts\n",
    "  attempts--;\n",
    "  if (attempts > 0 && message !== \"You got it!\") {\n",
    "    message += \" You have \" + attempts + \" attempts left.\";\n",
    "  } else if (attempts == 0 && message !== \"You got it!\") {\n",
    "    message = \"Game over! The correct number was \" + secretNumber + \".\";\n",
    "  }\n",
    "  \n",
    "  // Display the message in the paragraph\n",
    "  output.innerHTML = message;\n",
    "}\n"
   ]
  },
  {
   "cell_type": "code",
   "execution_count": 4,
   "metadata": {
    "vscode": {
     "languageId": "javascript"
    }
   },
   "outputs": [
    {
     "data": {
      "application/javascript": "// Variables\nlet secretNumber = Math.floor(Math.random() * 100) + 1;  // Random number between 1 and 100\nlet attempts = 5;  // Number of attempts left\nlet output = document.createElement(\"p\");  // Create a paragraph element to show messages\ndocument.body.appendChild(output);  // Append the paragraph to the body of the page\n\n// Function to check the user's guess\nfunction checkGuess() {\n  // Data abstraction: get user input from the text box\n  let guess = document.getElementById('guess').value;\n  guess = parseInt(guess);  // Convert the input to an integer\n  let message = \"\";  // String to store the message\n  \n  // Conditional statements to compare the guess with the secret number\n  if (guess < secretNumber) {\n    message = \"Too low!\";\n  } else if (guess > secretNumber) {\n    message = \"Too high!\";\n  } else {\n    message = \"You got it!\";\n    attempts = 0;  // Set attempts to 0 to end the game\n  }\n  \n  // Nested conditionals to check the number of attempts\n  attempts--;\n  if (attempts > 0 && message !== \"You got it!\") {\n    message += \" You have \" + attempts + \" attempts left.\";\n  } else if (attempts == 0 && message !== \"You got it!\") {\n    message = \"Game over! The correct number was \" + secretNumber + \".\";\n  }\n  \n  // Display the message in the paragraph\n  output.innerHTML = message;\n}\n",
      "text/plain": [
       "<IPython.core.display.Javascript object>"
      ]
     },
     "metadata": {},
     "output_type": "display_data"
    }
   ],
   "source": [
    "%%js\n",
    "// Variables\n",
    "let secretNumber = Math.floor(Math.random() * 100) + 1;  // Random number between 1 and 100\n",
    "let attempts = 5;  // Number of attempts left\n",
    "let output = document.createElement(\"p\");  // Create a paragraph element to show messages\n",
    "document.body.appendChild(output);  // Append the paragraph to the body of the page\n",
    "\n",
    "// Function to check the user's guess\n",
    "function checkGuess() {\n",
    "  // Data abstraction: get user input from the text box\n",
    "  let guess = document.getElementById('guess').value;\n",
    "  guess = parseInt(guess);  // Convert the input to an integer\n",
    "  let message = \"\";  // String to store the message\n",
    "  \n",
    "  // Conditional statements to compare the guess with the secret number\n",
    "  if (guess < secretNumber) {\n",
    "    message = \"Too low!\";\n",
    "  } else if (guess > secretNumber) {\n",
    "    message = \"Too high!\";\n",
    "  } else {\n",
    "    message = \"You got it!\";\n",
    "    attempts = 0;  // Set attempts to 0 to end the game\n",
    "  }\n",
    "  \n",
    "  // Nested conditionals to check the number of attempts\n",
    "  attempts--;\n",
    "  if (attempts > 0 && message !== \"You got it!\") {\n",
    "    message += \" You have \" + attempts + \" attempts left.\";\n",
    "  } else if (attempts == 0 && message !== \"You got it!\") {\n",
    "    message = \"Game over! The correct number was \" + secretNumber + \".\";\n",
    "  }\n",
    "  \n",
    "  // Display the message in the paragraph\n",
    "  output.innerHTML = message;\n",
    "}\n"
   ]
  }
 ],
 "metadata": {
  "kernelspec": {
   "display_name": "venv",
   "language": "python",
   "name": "python3"
  },
  "language_info": {
   "codemirror_mode": {
    "name": "ipython",
    "version": 3
   },
   "file_extension": ".py",
   "mimetype": "text/x-python",
   "name": "python",
   "nbconvert_exporter": "python",
   "pygments_lexer": "ipython3",
   "version": "3.12.6"
  }
 },
 "nbformat": 4,
 "nbformat_minor": 2
}
