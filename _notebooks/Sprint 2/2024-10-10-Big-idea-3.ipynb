{
 "cells": [
  {
   "cell_type": "markdown",
   "metadata": {},
   "source": [
    "# Final Big 3 Idea Project"
   ]
  },
  {
   "cell_type": "code",
   "execution_count": null,
   "metadata": {},
   "outputs": [],
   "source": [
    "import random\n",
    "\n",
    "# Function for the guessing game\n",
    "def play_guessing_game():\n",
    "    # Variable: Generate a random number between 1 and 50\n",
    "    number_to_guess = random.randint(1, 50)\n",
    "    \n",
    "    # List to store guesses\n",
    "    guesses = []\n",
    "    \n",
    "    # Iteration: Loop for 5 attempts\n",
    "    attempts = 5\n",
    "    while attempts > 0:\n",
    "        try:\n",
    "            # Data abstraction: Getting user input\n",
    "            guess = int(input(\"Guess a number between 1 and 50: \"))\n",
    "            \n",
    "            # Mathematical expressions: Add the guess to the list\n",
    "            guesses.append(guess)\n",
    "            \n",
    "            # Boolean values and conditionals\n",
    "            if guess == number_to_guess:\n",
    "                print(f\"Congratulations! You guessed the number {number_to_guess} correctly!\")\n",
    "                break\n",
    "            elif guess < number_to_guess:\n",
    "                print(\"Your guess is too low.\")\n",
    "            else:\n",
    "                print(\"Your guess is too high.\")\n",
    "            \n",
    "            # Nested conditional to give feedback on attempts left\n",
    "            attempts -= 1\n",
    "            if attempts > 0:\n",
    "                print(f\"You have {attempts} attempts left.\")\n",
    "            else:\n",
    "                print(f\"Game over! The correct number was {number_to_guess}.\")\n",
    "        \n",
    "        except ValueError:\n",
    "            print(\"Please enter a valid number.\")\n",
    "    \n",
    "    # Display guesses made by the player\n",
    "    print(f\"Your guesses: {guesses}\")\n",
    "\n",
    "# Main loop to control game flow (play again or quit)\n",
    "while True:\n",
    "    # String for user input on whether to play\n",
    "    play_game = input(\"Do you want to play the number guessing game? (yes/no): \").lower()\n",
    "    \n",
    "    if play_game == \"yes\":\n",
    "        play_guessing_game()\n",
    "    elif play_game == \"no\":\n",
    "        print(\"Thanks for playing! Goodbye.\")\n",
    "        break\n",
    "    else:\n",
    "        print(\"Please answer with 'yes' or 'no'.\")\n"
   ]
  }
 ],
 "metadata": {
  "language_info": {
   "name": "python"
  }
 },
 "nbformat": 4,
 "nbformat_minor": 2
}
