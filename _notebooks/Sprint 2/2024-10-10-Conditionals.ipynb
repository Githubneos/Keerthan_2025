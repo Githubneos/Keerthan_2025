{
 "cells": [
  {
   "cell_type": "markdown",
   "metadata": {},
   "source": [
    "---\n",
    "layout: post\n",
    "title: Homework and Popcorn Hacks for 3.6\n",
    "description: Homeworks and Popcorn Hacks\n",
    "comments: true\n",
    "---"
   ]
  },
  {
   "cell_type": "markdown",
   "metadata": {},
   "source": [
    "## Popcorn hacks"
   ]
  },
  {
   "cell_type": "markdown",
   "metadata": {},
   "source": [
    "## Popcorn hack 1"
   ]
  },
  {
   "cell_type": "code",
   "execution_count": null,
   "metadata": {},
   "outputs": [],
   "source": [
    "score = 85\n",
    "\n",
    "# Conditional statement\n",
    "if score >= 75:\n",
    "    print(\"You passed the test!\")\n",
    "else:\n",
    "    print(\"You failed the test.\")"
   ]
  },
  {
   "cell_type": "code",
   "execution_count": null,
   "metadata": {
    "vscode": {
     "languageId": "javascript"
    }
   },
   "outputs": [],
   "source": [
    "%%js\n",
    "let score = 85;\n",
    "\n",
    "// Conditional statement\n",
    "if (score >= 75) {\n",
    "    console.log(\"You passed the test!\");\n",
    "} else {\n",
    "    console.log(\"You failed the test.\");\n",
    "}"
   ]
  },
  {
   "cell_type": "markdown",
   "metadata": {},
   "source": [
    "## Popcorn Hack 2"
   ]
  },
  {
   "cell_type": "code",
   "execution_count": 2,
   "metadata": {},
   "outputs": [
    {
     "name": "stdout",
     "output_type": "stream",
     "text": [
      "Buy something\n"
     ]
    }
   ],
   "source": [
    "has_money = True\n",
    "\n",
    "if has_money:\n",
    "    print(\"Buy something\")\n",
    "else:\n",
    "    print(\"You can't buy something\")"
   ]
  },
  {
   "cell_type": "markdown",
   "metadata": {},
   "source": [
    "## Popcorn Hack 3"
   ]
  },
  {
   "cell_type": "code",
   "execution_count": 5,
   "metadata": {},
   "outputs": [
    {
     "name": "stdout",
     "output_type": "stream",
     "text": [
      "The number 28 is even.\n"
     ]
    }
   ],
   "source": [
    "import random  # Importing the random library\n",
    "\n",
    "# Generate a random number between 1 and 100\n",
    "number = random.randint(1, 100)\n",
    "\n",
    "# Use if-else to check if the number is even or odd\n",
    "if number % 2 == 0:\n",
    "    print(f\"The number {number} is even.\")\n",
    "else:\n",
    "    print(f\"The number {number} is odd.\")"
   ]
  },
  {
   "cell_type": "code",
   "execution_count": 4,
   "metadata": {
    "vscode": {
     "languageId": "javascript"
    }
   },
   "outputs": [
    {
     "data": {
      "application/javascript": "const os = require('os');  // Import the 'os' module in Node.js\n\n// Get the system's total memory in gigabytes\nconst totalMemory = os.totalmem() / (1024 ** 3);\n\n// Use if-else to check if the system has more than 8 GB of RAM\nif (totalMemory > 8) {\n    console.log(`Your system has plenty of memory: ${totalMemory.toFixed(2)} GB`);\n} else {\n    console.log(`Your system has limited memory: ${totalMemory.toFixed(2)} GB`);\n}\n",
      "text/plain": [
       "<IPython.core.display.Javascript object>"
      ]
     },
     "metadata": {},
     "output_type": "display_data"
    }
   ],
   "source": [
    "%%js\n",
    "const os = require('os');  // Import the 'os' module in Node.js\n",
    "\n",
    "// Get the system's total memory in gigabytes\n",
    "const totalMemory = os.totalmem() / (1024 ** 3);\n",
    "\n",
    "// Use if-else to check if the system has more than 8 GB of RAM\n",
    "if (totalMemory > 8) {\n",
    "    console.log(`Your system has plenty of memory: ${totalMemory.toFixed(2)} GB`);\n",
    "} else {\n",
    "    console.log(`Your system has limited memory: ${totalMemory.toFixed(2)} GB`);\n",
    "}"
   ]
  },
  {
   "cell_type": "markdown",
   "metadata": {},
   "source": [
    "## Homework Hack"
   ]
  },
  {
   "cell_type": "code",
   "execution_count": 6,
   "metadata": {},
   "outputs": [
    {
     "name": "stdout",
     "output_type": "stream",
     "text": [
      "Incorrect! The correct answer is: Paris\n",
      "Incorrect! The correct answer is: Jupiter\n",
      "Incorrect! The correct answer is: Shakespeare\n",
      "Incorrect! The correct answer is: H2O\n",
      "Incorrect! The correct answer is: 1945\n",
      "\n",
      "Your final score is 0 out of 5!\n"
     ]
    }
   ],
   "source": [
    "# Function to ask a question and check the answer\n",
    "def ask_question(question, correct_answer):\n",
    "    # Ask the question\n",
    "    user_answer = input(question + \" \")\n",
    "\n",
    "    # Check if the answer is correct\n",
    "    if user_answer.lower() == correct_answer.lower():\n",
    "        print(\"Correct!\")\n",
    "        return True  # Return True if the answer is correct\n",
    "    else:\n",
    "        print(f\"Incorrect! The correct answer is: {correct_answer}\")\n",
    "        return False  # Return False if the answer is wrong\n",
    "\n",
    "# Main function to run the quiz game\n",
    "def run_quiz():\n",
    "    # List of questions and their correct answers\n",
    "    questions_and_answers = [\n",
    "        {\"question\": \"What is the capital of France?\", \"answer\": \"Paris\"},\n",
    "        {\"question\": \"What is the largest planet in our solar system?\", \"answer\": \"Jupiter\"},\n",
    "        {\"question\": \"Who wrote 'Romeo and Juliet'?\", \"answer\": \"Shakespeare\"},\n",
    "        {\"question\": \"What is the chemical symbol for water?\", \"answer\": \"H2O\"},\n",
    "        {\"question\": \"In which year did World War II end?\", \"answer\": \"1945\"}\n",
    "    ]\n",
    "\n",
    "    score = 0  # Initialize the score\n",
    "\n",
    "    # Loop through each question\n",
    "    for item in questions_and_answers:\n",
    "        if ask_question(item[\"question\"], item[\"answer\"]):\n",
    "            score += 1  # Increment score if the answer is correct\n",
    "\n",
    "    # Print the final score\n",
    "    print(f\"\\nYour final score is {score} out of {len(questions_and_answers)}!\")\n",
    "\n",
    "# Start the quiz\n",
    "run_quiz()"
   ]
  }
 ],
 "metadata": {
  "kernelspec": {
   "display_name": "venv",
   "language": "python",
   "name": "python3"
  },
  "language_info": {
   "codemirror_mode": {
    "name": "ipython",
    "version": 3
   },
   "file_extension": ".py",
   "mimetype": "text/x-python",
   "name": "python",
   "nbconvert_exporter": "python",
   "pygments_lexer": "ipython3",
   "version": "3.12.6"
  }
 },
 "nbformat": 4,
 "nbformat_minor": 2
}
