{
 "cells": [
  {
   "cell_type": "markdown",
   "metadata": {},
   "source": [
    "---\n",
    "layout: post\n",
    "title: Homework and Popcorn Hacks for 3.6\n",
    "description: Homeworks and Popcorn Hacks\n",
    "comments: true\n",
    "---"
   ]
  },
  {
   "cell_type": "markdown",
   "metadata": {},
   "source": [
    "## Popcorn Hacks"
   ]
  },
  {
   "cell_type": "markdown",
   "metadata": {},
   "source": [
    "## Popcorn hack 1"
   ]
  },
  {
   "cell_type": "code",
   "execution_count": null,
   "metadata": {},
   "outputs": [],
   "source": [
    "activity = int(input(\"Enter your favorite activity number: \"))\n",
    "enjoys_swimming = input(\"Do you enjoy swimming? (yes/no): \").lower()\n",
    "\n",
    "if activity == enjoys_swimming:\n",
    "    if enjoys_swimming == \"yes\":\n",
    "        print(\"Let's go for a swim!\")\n",
    "    else:\n",
    "        print(\"How about relaxing with a nice book?\")\n",
    "else:\n",
    "    print(\"You get a refreshing smoothie.\")\n"
   ]
  },
  {
   "cell_type": "code",
   "execution_count": null,
   "metadata": {
    "vscode": {
     "languageId": "javascript"
    }
   },
   "outputs": [],
   "source": [
    "let activity = parseInt(prompt(\"Enter your favorite activity number: \"));\n",
    "let enjoysSwimming = prompt(\"Do you enjoy swimming? (yes/no): \").toLowerCase();\n",
    "\n",
    "if (activity == enjoysSwimming) {\n",
    "    if (enjoysSwimming === \"yes\") {\n",
    "        console.log(\"Let's go for a swim!\");\n",
    "    } else {\n",
    "        console.log(\"How about relaxing with a nice book?\");\n",
    "    }\n",
    "} else {\n",
    "    console.log(\"You get a refreshing smoothie.\");\n",
    "}"
   ]
  },
  {
   "cell_type": "markdown",
   "metadata": {},
   "source": [
    "## Popcorn Hack 2"
   ]
  },
  {
   "cell_type": "code",
   "execution_count": 8,
   "metadata": {},
   "outputs": [
    {
     "name": "stdout",
     "output_type": "stream",
     "text": [
      "You can buy a MacBook!\n"
     ]
    }
   ],
   "source": [
    "# Savings\n",
    "savings = 50  \n",
    "\n",
    "# Laptop prices\n",
    "dell_price = 25\n",
    "hp_price = 15\n",
    "macbook_price = 30\n",
    "\n",
    "# Determine which laptop you can buy\n",
    "if savings >= macbook_price:\n",
    "    print(\"You can buy a MacBook!\")\n",
    "elif savings >= dell_price:\n",
    "    print(\"You can buy a Dell laptop!\")\n",
    "elif savings >= hp_price:\n",
    "    print(\"You can buy an HP laptop!\")\n",
    "else:\n",
    "    print(\"You don't have enough money to buy a laptop.\")"
   ]
  },
  {
   "cell_type": "code",
   "execution_count": 9,
   "metadata": {
    "vscode": {
     "languageId": "javascript"
    }
   },
   "outputs": [
    {
     "data": {
      "application/javascript": "// Savings\nlet savings = 50;\n\n// Laptop prices\nlet dellPrice = 25;\nlet hpPrice = 15;\nlet macbookPrice = 30;\n\n// Determine which laptop you can buy\nif (savings >= macbookPrice) {\n    console.log(\"You can buy a MacBook!\");\n} else if (savings >= dellPrice) {\n    console.log(\"You can buy a Dell laptop!\");\n} else if (savings >= hpPrice) {\n    console.log(\"You can buy an HP laptop!\");\n} else {\n    console.log(\"You don't have enough money to buy a laptop.\");\n}\n",
      "text/plain": [
       "<IPython.core.display.Javascript object>"
      ]
     },
     "metadata": {},
     "output_type": "display_data"
    }
   ],
   "source": [
    "%%js\n",
    "// Savings\n",
    "let savings = 50;\n",
    "\n",
    "// Laptop prices\n",
    "let dellPrice = 25;\n",
    "let hpPrice = 15;\n",
    "let macbookPrice = 30;\n",
    "\n",
    "// Determine which laptop you can buy\n",
    "if (savings >= macbookPrice) {\n",
    "    console.log(\"You can buy a MacBook!\");\n",
    "} else if (savings >= dellPrice) {\n",
    "    console.log(\"You can buy a Dell laptop!\");\n",
    "} else if (savings >= hpPrice) {\n",
    "    console.log(\"You can buy an HP laptop!\");\n",
    "} else {\n",
    "    console.log(\"You don't have enough money to buy a laptop.\");\n",
    "}\n"
   ]
  },
  {
   "cell_type": "markdown",
   "metadata": {},
   "source": [
    "## Popcorn Hack 3"
   ]
  },
  {
   "cell_type": "code",
   "execution_count": 14,
   "metadata": {
    "vscode": {
     "languageId": "javascript"
    }
   },
   "outputs": [
    {
     "data": {
      "application/javascript": "// Variables to represent weather conditions and activity preference\nlet isSunny = true;        // Boolean: Is it sunny outside?\nlet likesOutdoorActivities = false;  // Boolean: Do you like outdoor activities?\n\n// Nested conditionals to suggest an activity based on weather and preference\nif (isSunny) {\n    if (likesOutdoorActivities) {\n        console.log(\"It's sunny! Let's go hiking.\");\n    } else {\n        console.log(\"It's sunny, but you prefer indoor activities. How about reading a book by the window?\");\n    }\n} else {\n    if (likesOutdoorActivities) {\n        console.log(\"It's not sunny, but you like outdoor activities. Maybe go for a walk with an umbrella?\");\n    } else {\n        console.log(\"It's not sunny, and you prefer indoor activities. Let's watch a movie or play a board game.\");\n    }\n}\n",
      "text/plain": [
       "<IPython.core.display.Javascript object>"
      ]
     },
     "metadata": {},
     "output_type": "display_data"
    }
   ],
   "source": [
    "%%js\n",
    "// Variables to represent weather conditions and activity preference\n",
    "let isSunny = true;        // Boolean: Is it sunny outside?\n",
    "let likesOutdoorActivities = false;  // Boolean: Do you like outdoor activities?\n",
    "\n",
    "// Nested conditionals to suggest an activity based on weather and preference\n",
    "if (isSunny) {\n",
    "    if (likesOutdoorActivities) {\n",
    "        console.log(\"It's sunny! Let's go hiking.\");\n",
    "    } else {\n",
    "        console.log(\"It's sunny, but you prefer indoor activities. How about reading a book by the window?\");\n",
    "    }\n",
    "} else {\n",
    "    if (likesOutdoorActivities) {\n",
    "        console.log(\"It's not sunny, but you like outdoor activities. Maybe go for a walk with an umbrella?\");\n",
    "    } else {\n",
    "        console.log(\"It's not sunny, and you prefer indoor activities. Let's watch a movie or play a board game.\");\n",
    "    }\n",
    "}"
   ]
  },
  {
   "cell_type": "markdown",
   "metadata": {},
   "source": [
    "## Homework Hack"
   ]
  },
  {
   "cell_type": "code",
   "execution_count": null,
   "metadata": {},
   "outputs": [],
   "source": [
    "# Get Age: Prompt the user to enter their age\n",
    "age = int(input(\"Enter your age: \"))\n",
    "\n",
    "# Check Ball Ownership: Ask if they have a ball (yes/no)\n",
    "has_ball = input(\"Do you have a ball? (yes/no): \").lower()\n",
    "\n",
    "# Nested conditionals to check eligibility and determine group\n",
    "if age >= 5:\n",
    "    if has_ball == \"yes\":\n",
    "        # Determine group based on age\n",
    "        if age < 8:\n",
    "            print(\"You can't play with us.\")\n",
    "        else:\n",
    "            print(\"Your to old to play with us.\")\n",
    "    else:\n",
    "        print(\"Ypu need to bring a ball to play with us.\")\n",
    "else:\n",
    "    print(\"Sorry, you are too young to join the game.\")"
   ]
  },
  {
   "cell_type": "code",
   "execution_count": 15,
   "metadata": {
    "vscode": {
     "languageId": "javascript"
    }
   },
   "outputs": [
    {
     "data": {
      "application/javascript": "// Get Age: Prompt the user to enter their age\nlet age = parseInt(prompt(\"Enter your age: \"));\n\n// Check Ball Ownership: Ask if they have a ball (yes/no)\nlet hasBall = prompt(\"Do you have a ball? (yes/no): \").toLowerCase();\n\n// Nested conditionals to check eligibility and determine group\nif (age >= 5) {\n    if (hasBall === \"yes\") {\n        // Determine group based on age\n        if (age < 8) {\n            console.log(\"You can join the game in the Under 8 group.\");\n        } else {\n            console.log(\"You can join the game in the 8 and older group.\");\n        }\n    } else {\n        console.log(\"You need a ball to join the game.\");\n    }\n} else {\n    console.log(\"Sorry, you are too young to join the game.\");\n}\n",
      "text/plain": [
       "<IPython.core.display.Javascript object>"
      ]
     },
     "metadata": {},
     "output_type": "display_data"
    }
   ],
   "source": [
    "%%js\n",
    "// Get Age: Prompt the user to enter their age\n",
    "let age = parseInt(prompt(\"Enter your age: \"));\n",
    "\n",
    "// Check Ball Ownership: Ask if they have a ball (yes/no)\n",
    "let hasBall = prompt(\"Do you have a ball? (yes/no): \").toLowerCase();\n",
    "\n",
    "// Nested conditionals to check eligibility and determine group\n",
    "if (age >= 5) {\n",
    "    if (hasBall === \"yes\") {\n",
    "        // Determine group based on age\n",
    "        if (age < 8) {\n",
    "            console.log(\"You can join the game in the Under 8 group.\");\n",
    "        } else {\n",
    "            console.log(\"You can join the game in the 8 and older group.\");\n",
    "        }\n",
    "    } else {\n",
    "        console.log(\"You need a ball to join the game.\");\n",
    "    }\n",
    "} else {\n",
    "    console.log(\"Sorry, you are too young to join the game.\");\n",
    "}"
   ]
  }
 ],
 "metadata": {
  "kernelspec": {
   "display_name": "venv",
   "language": "python",
   "name": "python3"
  },
  "language_info": {
   "codemirror_mode": {
    "name": "ipython",
    "version": 3
   },
   "file_extension": ".py",
   "mimetype": "text/x-python",
   "name": "python",
   "nbconvert_exporter": "python",
   "pygments_lexer": "ipython3",
   "version": "3.12.6"
  }
 },
 "nbformat": 4,
 "nbformat_minor": 2
}
