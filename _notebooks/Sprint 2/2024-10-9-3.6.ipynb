{
 "cells": [
  {
   "cell_type": "markdown",
   "metadata": {},
   "source": [
    "# 3.6 Conditionals"
   ]
  },
  {
   "cell_type": "markdown",
   "metadata": {},
   "source": [
    "## Popcorn hacks"
   ]
  },
  {
   "cell_type": "code",
   "execution_count": null,
   "metadata": {},
   "outputs": [],
   "source": [
    "#Popcorn hack 1\n",
    "# Get the current temperature from the user\n",
    "temperature = int(input(\"Enter the current temperature in degrees Celsius: \"))\n",
    "\n",
    "# Conditional statement to provide advice based on temperature\n",
    "if temperature > 20:\n",
    "    print(\"It's warm outside! You can wear a t-shirt.\")\n",
    "else:\n",
    "    print(\"It's a bit chilly. You should wear a jacket.\")\n"
   ]
  },
  {
   "cell_type": "code",
   "execution_count": null,
   "metadata": {
    "vscode": {
     "languageId": "javascript"
    }
   },
   "outputs": [],
   "source": [
    "%% js\n",
    "// Popcorn hack 1\n",
    "// Get the current temperature from the user\n",
    "let temperature = prompt(\"Enter the current temperature in degrees Celsius:\");\n",
    "\n",
    "// Conditional statement to provide advice based on temperature\n",
    "if (temperature > 20) {\n",
    "    console.log(\"It's warm outside! You can wear a t-shirt.\");\n",
    "} else {\n",
    "    console.log(\"It's a bit chilly. You should wear a jacket.\");\n",
    "}"
   ]
  },
  {
   "cell_type": "code",
   "execution_count": null,
   "metadata": {
    "vscode": {
     "languageId": "javascript"
    }
   },
   "outputs": [],
   "source": [
    "%%js\n",
    "// Popcorn hack 2\n",
    "// Get user input to set the boolean value\n",
    "let userInput = prompt(\"Do you want to proceed? (yes/no):\").toLowerCase();\n",
    "\n",
    "// Convert the input to a boolean value\n",
    "let isProceed = (userInput === 'yes');\n",
    "\n",
    "// Conditional check using the boolean variable\n",
    "if (isProceed) {\n",
    "    console.log(\"You chose to proceed.\");\n",
    "} else {\n",
    "    console.log(\"You chose not to proceed.\");\n",
    "}"
   ]
  },
  {
   "cell_type": "code",
   "execution_count": null,
   "metadata": {},
   "outputs": [],
   "source": [
    "#Popcorn hack 2\n",
    "# Get user input to set the boolean value\n",
    "user_input = input(\"Do you want to proceed? (yes/no): \").lower()\n",
    "\n",
    "# Convert the input to a boolean value\n",
    "is_proceed = user_input == 'yes'\n",
    "\n",
    "# Conditional check using the boolean variable\n",
    "if is_proceed:\n",
    "    print(\"You chose to proceed.\")\n",
    "else:\n",
    "    print(\"You chose not to proceed.\")"
   ]
  },
  {
   "cell_type": "code",
   "execution_count": null,
   "metadata": {},
   "outputs": [],
   "source": [
    "#Popcorn hack 3\n",
    "import random\n",
    "\n",
    "# Generate a random number between 1 and 100\n",
    "random_number = random.randint(1, 100)\n",
    "\n",
    "# Conditional check\n",
    "if random_number > 50:\n",
    "    print(f\"The random number is {random_number}. It's greater than 50!\")\n",
    "else:\n",
    "    print(f\"The random number is {random_number}. It's 50 or less.\")\n",
    "    "
   ]
  },
  {
   "cell_type": "code",
   "execution_count": null,
   "metadata": {
    "vscode": {
     "languageId": "javascript"
    }
   },
   "outputs": [],
   "source": [
    "%%js\n",
    "//Popcorn hack 3\n",
    "// Generate a random number between 1 and 100\n",
    "let randomNumber = Math.floor(Math.random() * 100) + 1;\n",
    "\n",
    "// Conditional check\n",
    "if (randomNumber > 50) {\n",
    "    console.log(`The random number is ${randomNumber}. It's greater than 50!`);\n",
    "} else {\n",
    "    console.log(`The random number is ${randomNumber}. It's 50 or less.`);\n",
    "}"
   ]
  },
  {
   "cell_type": "markdown",
   "metadata": {},
   "source": [
    "## Homework Hack"
   ]
  },
  {
   "cell_type": "code",
   "execution_count": null,
   "metadata": {},
   "outputs": [],
   "source": [
    "import random\n",
    "\n",
    "# Questions and answers\n",
    "quiz_questions = [\n",
    "    {\n",
    "        \"question\": \"What is the capital of France?\",\n",
    "        \"options\": [\"A) Paris\", \"B) Rome\", \"C) Berlin\", \"D) Madrid\"],\n",
    "        \"answer\": \"A\"\n",
    "    },\n",
    "    {\n",
    "        \"question\": \"What is the largest planet in our solar system?\",\n",
    "        \"options\": [\"A) Earth\", \"B) Jupiter\", \"C) Saturn\", \"D) Mars\"],\n",
    "        \"answer\": \"B\"\n",
    "    },\n",
    "    {\n",
    "        \"question\": \"What is the chemical symbol for gold?\",\n",
    "        \"options\": [\"A) Au\", \"B) Ag\", \"C) Pb\", \"D) Fe\"],\n",
    "        \"answer\": \"A\"\n",
    "    },\n",
    "    {\n",
    "        \"question\": \"Which language is primarily spoken in Brazil?\",\n",
    "        \"options\": [\"A) Spanish\", \"B) Portuguese\", \"C) English\", \"D) French\"],\n",
    "        \"answer\": \"B\"\n",
    "    },\n",
    "    {\n",
    "        \"question\": \"What is the smallest prime number?\",\n",
    "        \"options\": [\"A) 1\", \"B) 2\", \"C) 3\", \"D) 4\"],\n",
    "        \"answer\": \"B\"\n",
    "    }\n",
    "]\n",
    "\n",
    "def ask_question(question_data):\n",
    "    \"\"\"Function to ask a question and check the answer.\"\"\"\n",
    "    print(question_data[\"question\"])\n",
    "    for option in question_data[\"options\"]:\n",
    "        print(option)\n",
    "\n",
    "    answer = input(\"Your answer (A/B/C/D): \").upper()\n",
    "    \n",
    "    if answer == question_data[\"answer\"]:\n",
    "        print(\"Correct!\\n\")\n",
    "    else:\n",
    "        print(f\"Wrong! The correct answer was {question_data['answer']}.\\n\")\n",
    "\n",
    "def run_quiz(questions):\n",
    "    \"\"\"Function to run the quiz.\"\"\"\n",
    "    print(\"Welcome to the Quiz Game!\\n\")\n",
    "    random.shuffle(questions)  # Shuffle the questions for randomness\n",
    "\n",
    "    for question in questions:\n",
    "        ask_question(question)\n",
    "\n",
    "    print(\"Quiz finished! Thanks for playing!\")\n",
    "\n",
    "# Run the quiz\n",
    "run_quiz(quiz_questions)"
   ]
  }
 ],
 "metadata": {
  "language_info": {
   "name": "python"
  }
 },
 "nbformat": 4,
 "nbformat_minor": 2
}
