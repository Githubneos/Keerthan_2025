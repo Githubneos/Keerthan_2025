{
 "cells": [
  {
   "cell_type": "markdown",
   "metadata": {},
   "source": [
    "# 3.8 Iterations"
   ]
  },
  {
   "cell_type": "markdown",
   "metadata": {},
   "source": [
    "## Popcorn Hacks"
   ]
  },
  {
   "cell_type": "code",
   "execution_count": 3,
   "metadata": {
    "vscode": {
     "languageId": "javascript"
    }
   },
   "outputs": [
    {
     "data": {
      "application/javascript": "//Popcorn hack 1\n\n// Step 1: Initialize an empty array to hold the numbers\nlet numbers = [];\n\n// Step 2: Use a for loop to count from 0 to 4\nfor (let i = 0; i < 5; i++) {\n    numbers.push(i);  // Add the current number to\n",
      "text/plain": [
       "<IPython.core.display.Javascript object>"
      ]
     },
     "metadata": {},
     "output_type": "display_data"
    }
   ],
   "source": [
    "%%js\n",
    "//Popcorn hack 1\n",
    "\n",
    "// Step 1: Initialize an empty array to hold the numbers\n",
    "let numbers = [];\n",
    "\n",
    "// Step 2: Use a for loop to count from 0 to 4\n",
    "for (let i = 0; i < 5; i++) {\n",
    "    numbers.push(i);  // Add the current number to"
   ]
  },
  {
   "cell_type": "code",
   "execution_count": 4,
   "metadata": {},
   "outputs": [
    {
     "name": "stdout",
     "output_type": "stream",
     "text": [
      "My favorite fruits are:\n",
      "Apple\n",
      "Banana\n",
      "Cherry\n",
      "Mango\n",
      "Orange\n"
     ]
    }
   ],
   "source": [
    "# Popcorn Hack 2\n",
    "# Step 1: Create a list of fruits\n",
    "fruits = [\"Apple\", \"Banana\", \"Cherry\", \"Mango\", \"Orange\"]\n",
    "\n",
    "# Step 2: Display the list of fruits\n",
    "print(\"My favorite fruits are:\")\n",
    "for fruit in fruits:\n",
    "    print(fruit)\n"
   ]
  },
  {
   "cell_type": "code",
   "execution_count": null,
   "metadata": {
    "vscode": {
     "languageId": "javascript"
    }
   },
   "outputs": [],
   "source": [
    "%%js\n",
    "// Popcorn Hack 3\n",
    "// Step 1: Use a for loop to iterate through numbers from 1 to 20\n",
    "console.log(\"Even numbers between 1 and 20:\");\n",
    "for (let i = 1; i <= 20; i++) {\n",
    "    // Step 2: Check if the number is even\n",
    "    if (i % 2 === 0) {\n",
    "        console.log(i);  // Step 3: Print the even number\n",
    "    }\n",
    "}"
   ]
  },
  {
   "cell_type": "code",
   "execution_count": 5,
   "metadata": {},
   "outputs": [
    {
     "name": "stdout",
     "output_type": "stream",
     "text": [
      "Flip 1: tails\n",
      "Flip 2: tails\n",
      "Flip 3: heads\n",
      "It took 3 flips to get heads!\n"
     ]
    }
   ],
   "source": [
    "#Popcorn hack 4\n",
    "\n",
    "import random  # Import the random module\n",
    "\n",
    "def flip_coin():\n",
    "    \"\"\"Simulate flipping a coin.\"\"\"\n",
    "    return random.choice(['heads', 'tails'])  # Randomly choose 'heads' or 'tails'\n",
    "\n",
    "def simulate_coin_flips():\n",
    "    \"\"\"Simulate flipping the coin until it lands on heads.\"\"\"\n",
    "    flip_count = 0  # Initialize the flip count\n",
    "\n",
    "    while True:  # Loop until we get heads\n",
    "        flip_result = flip_coin()  # Flip the coin\n",
    "        flip_count += 1  # Increment the flip count\n",
    "        print(f\"Flip {flip_count}: {flip_result}\")  # Print the result of the flip\n",
    "\n",
    "        if flip_result == 'heads':  # Check if the result is heads\n",
    "            print(f\"It took {flip_count} flips to get heads!\")  # Print the total flips\n",
    "            break  # Exit the loop if heads is obtained\n",
    "\n",
    "# Call the function to simulate coin flips\n",
    "simulate_coin_flips()\n"
   ]
  },
  {
   "cell_type": "code",
   "execution_count": null,
   "metadata": {},
   "outputs": [],
   "source": [
    "# Popcorn hack 5\n",
    "\n",
    "# List of tasks\n",
    "tasks = [\n",
    "    \"Finish homework\",\n",
    "    \"Clean the room\",\n",
    "    \"Go grocery shopping\",\n",
    "    \"Read a book\",\n",
    "    \"Exercise\"\n",
    "]\n",
    "\n",
    "# Function to display tasks with indices\n",
    "def display_tasks():\n",
    "    print(\"Your To-Do List:\")\n",
    "    for index in range(len(tasks)):\n",
    "        print(f\"{index + 1}. {tasks[index]}\")  # Display task with its index\n",
    "\n",
    "# Call the function\n",
    "display_tasks()\n"
   ]
  },
  {
   "cell_type": "code",
   "execution_count": null,
   "metadata": {
    "vscode": {
     "languageId": "javascript"
    }
   },
   "outputs": [],
   "source": [
    "%% js\n",
    "// Popcorn hack 6\n",
    "// List of tasks\n",
    "const tasks = [\n",
    "    \"Finish homework\",\n",
    "    \"Clean the room\",\n",
    "    \"Go grocery shopping\",\n",
    "    \"Read a book\",\n",
    "    \"Exercise\"\n",
    "];\n",
    "\n",
    "// Function to display tasks with indices\n",
    "function displayTasks() {\n",
    "    console.log(\"Your To-Do List:\");\n",
    "    for (let index = 0; index < tasks.length; index++) {\n",
    "        console.log(`${index + 1}. ${tasks[index]}`); // Display task with its index\n",
    "    }\n",
    "}\n",
    "\n",
    "// Call the function\n",
    "displayTasks();"
   ]
  },
  {
   "cell_type": "code",
   "execution_count": null,
   "metadata": {
    "vscode": {
     "languageId": "javascript"
    }
   },
   "outputs": [],
   "source": [
    "%%js\n",
    "// Popcorn hack 7\n",
    "// Step 1: Initialize a variable to keep track of the count\n",
    "let count = 1;\n",
    "\n",
    "// Step 2: Use a while loop to count from 1 to 10\n",
    "while (count <= 10) {\n",
    "    console.log(`Current count: ${count}`);  // Print the current count\n",
    "\n",
    "    // Step 3: Check if the count is 5\n",
    "    if (count === 5) {\n",
    "        console.log(\"Count has reached 5, breaking the loop.\");  // Inform about breaking\n",
    "        break;  // Step 4: Break out of the loop when count is 5\n",
    "    }\n",
    "\n",
    "    count++;  // Increment the count\n",
    "}\n",
    "\n",
    "// Step 5: Print a message after the loop\n",
    "console.log(\"Loop has ended.\");\n"
   ]
  },
  {
   "cell_type": "code",
   "execution_count": null,
   "metadata": {},
   "outputs": [],
   "source": [
    "# Popcorn hack 8\n",
    "# Step 1: Use a for loop to iterate through numbers from 1 to 10\n",
    "for number in range(1, 11):\n",
    "    # Step 2: Check if the current number is 5\n",
    "    if number == 5:\n",
    "        continue  # Step 3: Skip the rest of the loop when number is 5\n",
    "\n",
    "    # Step 4: Print the current number\n",
    "    print(f\"Current number: {number}\")\n",
    "\n",
    "# Step 5: Print a message after the loop\n",
    "print(\"Loop has finished.\")"
   ]
  },
  {
   "cell_type": "markdown",
   "metadata": {},
   "source": [
    "## Homework Hacks"
   ]
  },
  {
   "cell_type": "code",
   "execution_count": null,
   "metadata": {},
   "outputs": [],
   "source": [
    "#Homework hack 1\n",
    "# Step 1: Create a dictionary of favorite hobbies\n",
    "hobbies = {\n",
    "    \"1\": \"Reading\",\n",
    "    \"2\": \"Biking\",\n",
    "    \"3\": \"Gym\",\n",
    "    \"4\": \"Hiking\",\n",
    "    \"5\": \"Cooking\"\n",
    "}\n",
    "\n",
    "# Step 2: Loop through the dictionary and print each person's favorite hobby\n",
    "print(\"Favorite Hobbies:\")\n",
    "for number, hobby in hobbies.items():\n",
    "    print(f\"{number}'s favorite hobby is {hobby}.\")\n",
    "\n",
    "# Step 3: Add a second loop to count from 1 to 5\n",
    "print(\"\\nCounting from 1 to 5:\")\n",
    "for number in range(1, 6):\n",
    "    print(number)\n"
   ]
  },
  {
   "cell_type": "code",
   "execution_count": null,
   "metadata": {},
   "outputs": [],
   "source": [
    "#Homework hack 2\n",
    "# Step 1: Initialize the starting number\n",
    "number = 50\n",
    "\n",
    "# Step 2: Use a while loop to iterate from 50 to 100\n",
    "while number <= 100:\n",
    "    output = \"\"  # Initialize an empty output string\n",
    "\n",
    "    # Step 3: Check the conditions for Fizz, Buzz, and Boom\n",
    "    if number % 4 == 0:   # Modify condition for multiples of 4\n",
    "        output += \"Fizz\"\n",
    "    if number % 5 == 0:\n",
    "        output += \"Buzz\"\n",
    "    if number % 7 == 0:\n",
    "        output += \"Boom\"\n",
    "\n",
    "    # Step 4: If output is empty, use the number itself\n",
    "    if output == \"\":\n",
    "        output = number\n",
    "\n",
    "    # Step 5: Print the output for the current number\n",
    "    print(output)\n",
    "\n",
    "    # Step 6: Increment the number\n",
    "    number += 1"
   ]
  },
  {
   "cell_type": "code",
   "execution_count": null,
   "metadata": {},
   "outputs": [],
   "source": [
    "#Homework hack 3\n",
    "# Step 1: Set up credentials and security question\n",
    "correct_username = \"user123\"\n",
    "correct_password = \"pass123\"\n",
    "security_question = \"What is your favorite color?\"\n",
    "correct_answer = \"blue\"\n",
    "\n",
    "# Step 2: Initialize attempts\n",
    "attempts = 3\n",
    "authenticated = False\n",
    "\n",
    "# Step 3: Start the login process using a do-while loop structure\n",
    "while attempts > 0:\n",
    "    # Prompt user for credentials\n",
    "    username = input(\"Enter your username: \")\n",
    "    password = input(\"Enter your password: \")\n",
    "\n",
    "    # Check if credentials are correct\n",
    "    if username == correct_username and password == correct_password:\n",
    "        authenticated = True\n",
    "        break  # Exit the loop if authenticated\n",
    "    else:\n",
    "        attempts -= 1  # Reduce the number of attempts\n",
    "        print(f\"Incorrect username or password. You have {attempts} attempts left.\")\n",
    "\n",
    "# Step 4: Check if authenticated\n",
    "if authenticated:\n",
    "    print(\"Login successful! Welcome!\")\n",
    "else:\n",
    "    print(\"Account locked due to too many failed attempts.\")\n",
    "    \n",
    "    # Step 5: Reset password functionality\n",
    "    answer = input(f\"To reset your password, answer this security question: {security_question} \")\n",
    "\n",
    "    if answer.lower() == correct_answer:\n",
    "        new_password = input(\"Enter your new password: \")\n",
    "        correct_password = new_password  # Reset the password\n",
    "        print(\"Password reset successful! You can now log in with your new password.\")\n",
    "    else:\n",
    "        print(\"Incorrect answer. Password reset failed.\")"
   ]
  },
  {
   "cell_type": "code",
   "execution_count": null,
   "metadata": {},
   "outputs": [],
   "source": [
    "#Homework hack 4\n",
    "# Step 1: Define Your Tasks\n",
    "tasks = [\n",
    "    \"Buy groceries\",\n",
    "    \"Clean the house\",\n",
    "    \"Finish homework\",\n",
    "    \"Read a book\",\n",
    "    \"Exercise for 30 minutes\",\n",
    "    \"Call a friend\",\n",
    "    \"Prepare dinner\",\n",
    "    \"Do laundry\",\n",
    "    \"Walk the dog\",\n",
    "    \"Organize workspace\"\n",
    "]\n",
    "\n",
    "# Step 2: Create a Display Function\n",
    "def display_tasks(task_list):\n",
    "    print(\"To-Do List:\")\n",
    "    for index, task in enumerate(task_list):\n",
    "        print(f\"{index + 1}. {task}\")\n",
    "\n",
    "# Step 3: Call the Function\n",
    "display_tasks(tasks)"
   ]
  },
  {
   "cell_type": "code",
   "execution_count": null,
   "metadata": {
    "vscode": {
     "languageId": "javascript"
    }
   },
   "outputs": [],
   "source": [
    "%% js\n",
    "// Homework hack 5\n",
    "// Define the maximum value\n",
    "const maxNumber = 20;\n",
    "\n",
    "// Initialize the number\n",
    "let number = 0;\n",
    "\n",
    "while (true) { // Infinite loop\n",
    "    // Print the current number\n",
    "    console.log(number);\n",
    "    \n",
    "    // Increment the number by 2\n",
    "    number += 2;\n",
    "\n",
    "    // Check if the number exceeds the maximum value\n",
    "    if (number > maxNumber) {\n",
    "        break; // Exit the loop if the number exceeds the max value\n",
    "    }\n",
    "}"
   ]
  },
  {
   "cell_type": "code",
   "execution_count": null,
   "metadata": {},
   "outputs": [],
   "source": [
    "#Homework hack 6\n",
    "# Define the maximum value\n",
    "max_number = 10\n",
    "\n",
    "# Loop through numbers from 0 to max_number\n",
    "for number in range(max_number + 1):\n",
    "    # Skip the number 5\n",
    "    if number == 5:\n",
    "        continue\n",
    "    \n",
    "    # Print the current number with a message\n",
    "    print(f\"This number is: {number}\")"
   ]
  }
 ],
 "metadata": {
  "kernelspec": {
   "display_name": "venv",
   "language": "python",
   "name": "python3"
  },
  "language_info": {
   "codemirror_mode": {
    "name": "ipython",
    "version": 3
   },
   "file_extension": ".py",
   "mimetype": "text/x-python",
   "name": "python",
   "nbconvert_exporter": "python",
   "pygments_lexer": "ipython3",
   "version": "3.12.6"
  }
 },
 "nbformat": 4,
 "nbformat_minor": 2
}
